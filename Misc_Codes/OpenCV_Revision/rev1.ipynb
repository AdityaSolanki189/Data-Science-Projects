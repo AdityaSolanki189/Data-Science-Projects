{
 "cells": [
  {
   "cell_type": "code",
   "execution_count": 25,
   "metadata": {},
   "outputs": [],
   "source": [
    "import numpy as np\n",
    "import cv2\n",
    "\n",
    "img = cv2.imread('messi5.jpg')\n",
    "img2 = cv2.imread('opencv-logo.png')"
   ]
  },
  {
   "cell_type": "code",
   "execution_count": 49,
   "metadata": {},
   "outputs": [
    {
     "data": {
      "text/plain": [
       "array([[[ 39,  43,  44],\n",
       "        [ 42,  46,  47],\n",
       "        [ 44,  47,  52],\n",
       "        ...,\n",
       "        [ 57,  55,  55],\n",
       "        [ 55,  53,  53],\n",
       "        [ 52,  50,  50]],\n",
       "\n",
       "       [[ 38,  41,  44],\n",
       "        [ 42,  46,  48],\n",
       "        [ 45,  48,  53],\n",
       "        ...,\n",
       "        [ 59,  57,  57],\n",
       "        [ 57,  56,  56],\n",
       "        [ 54,  52,  52]],\n",
       "\n",
       "       [[ 38,  41,  45],\n",
       "        [ 43,  46,  50],\n",
       "        [ 47,  50,  56],\n",
       "        ...,\n",
       "        [ 62,  60,  61],\n",
       "        [ 60,  59,  59],\n",
       "        [ 57,  56,  56]],\n",
       "\n",
       "       ...,\n",
       "\n",
       "       [[ 54, 139,  97],\n",
       "        [ 56, 139,  96],\n",
       "        [ 52, 132,  89],\n",
       "        ...,\n",
       "        [ 56, 131,  90],\n",
       "        [ 67, 140, 101],\n",
       "        [ 66, 138,  98]],\n",
       "\n",
       "       [[ 50, 134,  92],\n",
       "        [ 59, 140,  98],\n",
       "        [ 59, 139,  96],\n",
       "        ...,\n",
       "        [ 52, 128,  88],\n",
       "        [ 59, 133,  95],\n",
       "        [ 57, 131,  92]],\n",
       "\n",
       "       [[ 45, 129,  87],\n",
       "        [ 59, 141,  99],\n",
       "        [ 66, 146, 103],\n",
       "        ...,\n",
       "        [ 50, 125,  87],\n",
       "        [ 52, 125,  87],\n",
       "        [ 51, 124,  86]]], dtype=uint8)"
      ]
     },
     "execution_count": 49,
     "metadata": {},
     "output_type": "execute_result"
    }
   ],
   "source": [
    "img"
   ]
  },
  {
   "cell_type": "code",
   "execution_count": 36,
   "metadata": {},
   "outputs": [
    {
     "name": "stdout",
     "output_type": "stream",
     "text": [
      "(342, 548, 3)\n",
      "(794, 600, 3)\n"
     ]
    }
   ],
   "source": [
    "print(img.shape) # return tuple of rows, columns and channels\n",
    "print(img2.shape)"
   ]
  },
  {
   "cell_type": "code",
   "execution_count": 27,
   "metadata": {},
   "outputs": [
    {
     "name": "stdout",
     "output_type": "stream",
     "text": [
      "562248\n"
     ]
    }
   ],
   "source": [
    "print(img.size) # returns total number of pixels accessed"
   ]
  },
  {
   "cell_type": "code",
   "execution_count": 35,
   "metadata": {},
   "outputs": [
    {
     "name": "stdout",
     "output_type": "stream",
     "text": [
      "uint8\n"
     ]
    }
   ],
   "source": [
    "print(img.dtype) # return img data type"
   ]
  },
  {
   "cell_type": "code",
   "execution_count": 29,
   "metadata": {},
   "outputs": [],
   "source": [
    "# b, g, r = cv2.split(img)\n",
    "# img = cv2.merge((b, g, r))"
   ]
  },
  {
   "cell_type": "code",
   "execution_count": 30,
   "metadata": {},
   "outputs": [],
   "source": [
    "ball = img[280:340, 330:390]\n",
    "img[273:333, 100:160] = ball"
   ]
  },
  {
   "cell_type": "code",
   "execution_count": 38,
   "metadata": {},
   "outputs": [],
   "source": [
    "img = cv2.resize(img, (512, 512))\n",
    "img2 = cv2.resize(img2, (512, 512))"
   ]
  },
  {
   "cell_type": "code",
   "execution_count": 39,
   "metadata": {},
   "outputs": [],
   "source": [
    "dst = cv2.add(img, img2)"
   ]
  },
  {
   "cell_type": "code",
   "execution_count": 45,
   "metadata": {},
   "outputs": [],
   "source": [
    "dst_wt = cv2.addWeighted(img, .2, img2, .8, 0)"
   ]
  },
  {
   "cell_type": "code",
   "execution_count": 46,
   "metadata": {},
   "outputs": [],
   "source": [
    "cv2.imshow('image', dst_wt)\n",
    "cv2.waitKey(0)\n",
    "cv2.destroyAllWindows()"
   ]
  },
  {
   "cell_type": "code",
   "execution_count": null,
   "metadata": {},
   "outputs": [],
   "source": []
  }
 ],
 "metadata": {
  "interpreter": {
   "hash": "e16c3ae6ee65fcbf653434ecd7dc42a2ba91eda2ad47bd58676ec49291b0a7e0"
  },
  "kernelspec": {
   "display_name": "Python 3.9.7 ('ml')",
   "language": "python",
   "name": "python3"
  },
  "language_info": {
   "codemirror_mode": {
    "name": "ipython",
    "version": 3
   },
   "file_extension": ".py",
   "mimetype": "text/x-python",
   "name": "python",
   "nbconvert_exporter": "python",
   "pygments_lexer": "ipython3",
   "version": "3.9.7"
  },
  "orig_nbformat": 4
 },
 "nbformat": 4,
 "nbformat_minor": 2
}
