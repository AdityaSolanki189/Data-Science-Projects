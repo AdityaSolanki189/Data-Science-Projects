{
  "cells": [
    {
      "cell_type": "code",
      "execution_count": 1,
      "metadata": {
        "colab": {},
        "colab_type": "code",
        "id": "VfLkYmlDRMp9"
      },
      "outputs": [],
      "source": [
        "import pandas as pd"
      ]
    },
    {
      "cell_type": "code",
      "execution_count": 2,
      "metadata": {
        "colab": {},
        "colab_type": "code",
        "id": "EvYjSr1THMqW"
      },
      "outputs": [],
      "source": [
        "import pickle"
      ]
    },
    {
      "cell_type": "code",
      "execution_count": 3,
      "metadata": {
        "colab": {},
        "colab_type": "code",
        "id": "zXOvATNkMw7n"
      },
      "outputs": [
        {
          "name": "stderr",
          "output_type": "stream",
          "text": [
            "Cloning into 'demo_traffic_jam_prediction'...\n"
          ]
        }
      ],
      "source": [
        "!git clone https://github.com/wshuyi/demo_traffic_jam_prediction.git"
      ]
    },
    {
      "cell_type": "code",
      "execution_count": 4,
      "metadata": {
        "colab": {},
        "colab_type": "code",
        "id": "96aIaqhpM0b3"
      },
      "outputs": [],
      "source": [
        "from pathlib import Path\n",
        "data_dir = Path('demo_traffic_jam_prediction')"
      ]
    },
    {
      "cell_type": "code",
      "execution_count": 5,
      "metadata": {
        "colab": {},
        "colab_type": "code",
        "id": "Y2XkvZrYHPnS"
      },
      "outputs": [],
      "source": [
        "with open(data_dir / 'data.pickle', 'rb') as f:\n",
        "    [event_dict, df] = pickle.load(f)"
      ]
    },
    {
      "cell_type": "code",
      "execution_count": 6,
      "metadata": {
        "colab": {},
        "colab_type": "code",
        "id": "uIfsslVMHWNc"
      },
      "outputs": [
        {
          "data": {
            "text/plain": [
              "{1: 'road closed due to construction',\n",
              " 2: 'traffic jam',\n",
              " 3: 'stopped car on the shoulder',\n",
              " 4: 'road closed',\n",
              " 5: 'other',\n",
              " 6: 'object on roadway',\n",
              " 7: 'major event',\n",
              " 8: 'pothole',\n",
              " 9: 'traffic heavier than normal',\n",
              " 10: 'road construction',\n",
              " 11: 'fog',\n",
              " 12: 'accident',\n",
              " 13: 'slowdown',\n",
              " 14: 'stopped car',\n",
              " 15: 'small traffic jam',\n",
              " 16: 'stopped traffic',\n",
              " 17: 'heavy traffic',\n",
              " 18: 'minor accident',\n",
              " 19: 'medium traffic jam',\n",
              " 20: 'malfunctioning traffic light',\n",
              " 21: 'missing sign on the shoulder',\n",
              " 22: 'animal on the shoulder',\n",
              " 23: 'animal struck',\n",
              " 24: 'large traffic jam',\n",
              " 25: 'hazard on the shoulder',\n",
              " 26: 'hazard on road',\n",
              " 27: 'ice on roadway',\n",
              " 28: 'weather hazard',\n",
              " 29: 'flooding',\n",
              " 30: 'road closed due to hazard',\n",
              " 31: 'hail',\n",
              " 32: 'huge traffic jam'}"
            ]
          },
          "execution_count": 6,
          "metadata": {},
          "output_type": "execute_result"
        }
      ],
      "source": [
        "event_dict"
      ]
    },
    {
      "cell_type": "code",
      "execution_count": 7,
      "metadata": {
        "colab": {},
        "colab_type": "code",
        "id": "1gkMaCEkRr-u"
      },
      "outputs": [
        {
          "data": {
            "text/html": [
              "<div>\n",
              "<style scoped>\n",
              "    .dataframe tbody tr th:only-of-type {\n",
              "        vertical-align: middle;\n",
              "    }\n",
              "\n",
              "    .dataframe tbody tr th {\n",
              "        vertical-align: top;\n",
              "    }\n",
              "\n",
              "    .dataframe thead th {\n",
              "        text-align: right;\n",
              "    }\n",
              "</style>\n",
              "<table border=\"1\" class=\"dataframe\">\n",
              "  <thead>\n",
              "    <tr style=\"text-align: right;\">\n",
              "      <th></th>\n",
              "      <th>label</th>\n",
              "      <th>events</th>\n",
              "    </tr>\n",
              "  </thead>\n",
              "  <tbody>\n",
              "    <tr>\n",
              "      <th>0</th>\n",
              "      <td>1</td>\n",
              "      <td>[traffic heavier than normal, heavy traffic, m...</td>\n",
              "    </tr>\n",
              "    <tr>\n",
              "      <th>1</th>\n",
              "      <td>1</td>\n",
              "      <td>[traffic jam, road construction, stopped car o...</td>\n",
              "    </tr>\n",
              "    <tr>\n",
              "      <th>2</th>\n",
              "      <td>1</td>\n",
              "      <td>[traffic jam]</td>\n",
              "    </tr>\n",
              "    <tr>\n",
              "      <th>3</th>\n",
              "      <td>1</td>\n",
              "      <td>[traffic jam]</td>\n",
              "    </tr>\n",
              "    <tr>\n",
              "      <th>4</th>\n",
              "      <td>1</td>\n",
              "      <td>[traffic jam, traffic jam, traffic jam, traffi...</td>\n",
              "    </tr>\n",
              "    <tr>\n",
              "      <th>5</th>\n",
              "      <td>1</td>\n",
              "      <td>[stopped car on the shoulder, traffic jam, hea...</td>\n",
              "    </tr>\n",
              "    <tr>\n",
              "      <th>6</th>\n",
              "      <td>1</td>\n",
              "      <td>[stopped car on the shoulder, traffic jam, hea...</td>\n",
              "    </tr>\n",
              "    <tr>\n",
              "      <th>7</th>\n",
              "      <td>1</td>\n",
              "      <td>[traffic jam, small traffic jam, traffic jam, ...</td>\n",
              "    </tr>\n",
              "    <tr>\n",
              "      <th>8</th>\n",
              "      <td>1</td>\n",
              "      <td>[heavy traffic, traffic jam, traffic jam, stop...</td>\n",
              "    </tr>\n",
              "    <tr>\n",
              "      <th>9</th>\n",
              "      <td>1</td>\n",
              "      <td>[heavy traffic, traffic jam, traffic jam, stop...</td>\n",
              "    </tr>\n",
              "  </tbody>\n",
              "</table>\n",
              "</div>"
            ],
            "text/plain": [
              "   label                                             events\n",
              "0      1  [traffic heavier than normal, heavy traffic, m...\n",
              "1      1  [traffic jam, road construction, stopped car o...\n",
              "2      1                                      [traffic jam]\n",
              "3      1                                      [traffic jam]\n",
              "4      1  [traffic jam, traffic jam, traffic jam, traffi...\n",
              "5      1  [stopped car on the shoulder, traffic jam, hea...\n",
              "6      1  [stopped car on the shoulder, traffic jam, hea...\n",
              "7      1  [traffic jam, small traffic jam, traffic jam, ...\n",
              "8      1  [heavy traffic, traffic jam, traffic jam, stop...\n",
              "9      1  [heavy traffic, traffic jam, traffic jam, stop..."
            ]
          },
          "execution_count": 7,
          "metadata": {},
          "output_type": "execute_result"
        }
      ],
      "source": [
        "df.head(10)"
      ]
    },
    {
      "cell_type": "code",
      "execution_count": 8,
      "metadata": {
        "colab": {},
        "colab_type": "code",
        "id": "cL1Ilf5r1DGs"
      },
      "outputs": [
        {
          "data": {
            "text/html": [
              "<div>\n",
              "<style scoped>\n",
              "    .dataframe tbody tr th:only-of-type {\n",
              "        vertical-align: middle;\n",
              "    }\n",
              "\n",
              "    .dataframe tbody tr th {\n",
              "        vertical-align: top;\n",
              "    }\n",
              "\n",
              "    .dataframe thead th {\n",
              "        text-align: right;\n",
              "    }\n",
              "</style>\n",
              "<table border=\"1\" class=\"dataframe\">\n",
              "  <thead>\n",
              "    <tr style=\"text-align: right;\">\n",
              "      <th></th>\n",
              "      <th>label</th>\n",
              "      <th>events</th>\n",
              "    </tr>\n",
              "  </thead>\n",
              "  <tbody>\n",
              "    <tr>\n",
              "      <th>851</th>\n",
              "      <td>0</td>\n",
              "      <td>[traffic jam, traffic jam, traffic jam]</td>\n",
              "    </tr>\n",
              "    <tr>\n",
              "      <th>852</th>\n",
              "      <td>0</td>\n",
              "      <td>[stopped traffic, traffic jam, stopped traffic]</td>\n",
              "    </tr>\n",
              "    <tr>\n",
              "      <th>853</th>\n",
              "      <td>0</td>\n",
              "      <td>[stopped car on the shoulder, stopped traffic,...</td>\n",
              "    </tr>\n",
              "    <tr>\n",
              "      <th>854</th>\n",
              "      <td>0</td>\n",
              "      <td>[stopped traffic]</td>\n",
              "    </tr>\n",
              "    <tr>\n",
              "      <th>855</th>\n",
              "      <td>0</td>\n",
              "      <td>[stopped car on the shoulder, stopped car on t...</td>\n",
              "    </tr>\n",
              "    <tr>\n",
              "      <th>856</th>\n",
              "      <td>0</td>\n",
              "      <td>[heavy traffic, heavy traffic, heavy traffic, ...</td>\n",
              "    </tr>\n",
              "    <tr>\n",
              "      <th>857</th>\n",
              "      <td>0</td>\n",
              "      <td>[traffic jam, traffic jam]</td>\n",
              "    </tr>\n",
              "    <tr>\n",
              "      <th>858</th>\n",
              "      <td>0</td>\n",
              "      <td>[traffic jam, traffic jam, traffic heavier tha...</td>\n",
              "    </tr>\n",
              "    <tr>\n",
              "      <th>859</th>\n",
              "      <td>0</td>\n",
              "      <td>[heavy traffic, stopped car on the shoulder, t...</td>\n",
              "    </tr>\n",
              "    <tr>\n",
              "      <th>860</th>\n",
              "      <td>0</td>\n",
              "      <td>[heavy traffic, stopped car on the shoulder, s...</td>\n",
              "    </tr>\n",
              "  </tbody>\n",
              "</table>\n",
              "</div>"
            ],
            "text/plain": [
              "     label                                             events\n",
              "851      0            [traffic jam, traffic jam, traffic jam]\n",
              "852      0    [stopped traffic, traffic jam, stopped traffic]\n",
              "853      0  [stopped car on the shoulder, stopped traffic,...\n",
              "854      0                                  [stopped traffic]\n",
              "855      0  [stopped car on the shoulder, stopped car on t...\n",
              "856      0  [heavy traffic, heavy traffic, heavy traffic, ...\n",
              "857      0                         [traffic jam, traffic jam]\n",
              "858      0  [traffic jam, traffic jam, traffic heavier tha...\n",
              "859      0  [heavy traffic, stopped car on the shoulder, t...\n",
              "860      0  [heavy traffic, stopped car on the shoulder, s..."
            ]
          },
          "execution_count": 8,
          "metadata": {},
          "output_type": "execute_result"
        }
      ],
      "source": [
        "df.tail(10)"
      ]
    },
    {
      "cell_type": "code",
      "execution_count": 9,
      "metadata": {
        "colab": {},
        "colab_type": "code",
        "id": "gYGxx2EwyShi"
      },
      "outputs": [
        {
          "data": {
            "text/plain": [
              "105"
            ]
          },
          "execution_count": 9,
          "metadata": {},
          "output_type": "execute_result"
        }
      ],
      "source": [
        "max_len_event_id = df.events.apply(len).idxmax()\n",
        "max_len_event_id"
      ]
    },
    {
      "cell_type": "code",
      "execution_count": 10,
      "metadata": {
        "colab": {},
        "colab_type": "code",
        "id": "fdtdsYxfHaIf"
      },
      "outputs": [
        {
          "data": {
            "text/plain": [
              "['stopped car on the shoulder',\n",
              " 'heavy traffic',\n",
              " 'heavy traffic',\n",
              " 'heavy traffic',\n",
              " 'slowdown',\n",
              " 'stopped traffic',\n",
              " 'heavy traffic',\n",
              " 'heavy traffic',\n",
              " 'heavy traffic',\n",
              " 'heavy traffic',\n",
              " 'traffic heavier than normal',\n",
              " 'stopped car on the shoulder',\n",
              " 'traffic jam',\n",
              " 'heavy traffic',\n",
              " 'stopped traffic',\n",
              " 'stopped traffic',\n",
              " 'stopped traffic',\n",
              " 'heavy traffic',\n",
              " 'traffic jam',\n",
              " 'stopped car on the shoulder',\n",
              " 'stopped traffic',\n",
              " 'stopped traffic',\n",
              " 'stopped traffic',\n",
              " 'heavy traffic',\n",
              " 'traffic heavier than normal',\n",
              " 'traffic heavier than normal',\n",
              " 'traffic heavier than normal',\n",
              " 'traffic heavier than normal',\n",
              " 'heavy traffic',\n",
              " 'stopped traffic',\n",
              " 'traffic heavier than normal',\n",
              " 'pothole',\n",
              " 'stopped car on the shoulder',\n",
              " 'traffic jam',\n",
              " 'slowdown',\n",
              " 'stopped traffic',\n",
              " 'heavy traffic',\n",
              " 'traffic heavier than normal',\n",
              " 'traffic jam',\n",
              " 'traffic jam',\n",
              " 'stopped car on the shoulder',\n",
              " 'major event',\n",
              " 'traffic jam',\n",
              " 'traffic jam',\n",
              " 'stopped traffic',\n",
              " 'heavy traffic',\n",
              " 'traffic heavier than normal',\n",
              " 'stopped car on the shoulder',\n",
              " 'slowdown',\n",
              " 'heavy traffic',\n",
              " 'heavy traffic',\n",
              " 'stopped car on the shoulder',\n",
              " 'traffic jam',\n",
              " 'slowdown',\n",
              " 'slowdown',\n",
              " 'heavy traffic',\n",
              " 'stopped car on the shoulder',\n",
              " 'heavy traffic',\n",
              " 'minor accident',\n",
              " 'stopped car on the shoulder',\n",
              " 'heavy traffic',\n",
              " 'stopped car on the shoulder',\n",
              " 'heavy traffic',\n",
              " 'stopped traffic',\n",
              " 'heavy traffic',\n",
              " 'traffic heavier than normal',\n",
              " 'heavy traffic',\n",
              " 'stopped car on the shoulder',\n",
              " 'traffic heavier than normal',\n",
              " 'stopped traffic',\n",
              " 'heavy traffic',\n",
              " 'heavy traffic',\n",
              " 'heavy traffic',\n",
              " 'stopped car on the shoulder',\n",
              " 'slowdown',\n",
              " 'stopped traffic',\n",
              " 'heavy traffic',\n",
              " 'stopped car on the shoulder',\n",
              " 'traffic heavier than normal',\n",
              " 'heavy traffic',\n",
              " 'minor accident',\n",
              " 'major event',\n",
              " 'stopped car on the shoulder',\n",
              " 'stopped car on the shoulder']"
            ]
          },
          "execution_count": 10,
          "metadata": {},
          "output_type": "execute_result"
        }
      ],
      "source": [
        "max_len_event = df.iloc[max_len_event_id]\n",
        "max_len_event.events"
      ]
    },
    {
      "cell_type": "code",
      "execution_count": 11,
      "metadata": {
        "colab": {},
        "colab_type": "code",
        "id": "RxJCwOZkIVN8"
      },
      "outputs": [
        {
          "data": {
            "text/plain": [
              "84"
            ]
          },
          "execution_count": 11,
          "metadata": {},
          "output_type": "execute_result"
        }
      ],
      "source": [
        "maxlen = len(max_len_event.events)\n",
        "maxlen"
      ]
    },
    {
      "cell_type": "code",
      "execution_count": 12,
      "metadata": {
        "colab": {},
        "colab_type": "code",
        "id": "Ri-JNvFaJn07"
      },
      "outputs": [],
      "source": [
        "reversed_dict = {}\n",
        "for k, v in event_dict.items():\n",
        "  reversed_dict[v] = k"
      ]
    },
    {
      "cell_type": "code",
      "execution_count": 13,
      "metadata": {
        "colab": {},
        "colab_type": "code",
        "id": "m6vkEi62KdRD"
      },
      "outputs": [
        {
          "data": {
            "text/plain": [
              "{'road closed due to construction': 1,\n",
              " 'traffic jam': 2,\n",
              " 'stopped car on the shoulder': 3,\n",
              " 'road closed': 4,\n",
              " 'other': 5,\n",
              " 'object on roadway': 6,\n",
              " 'major event': 7,\n",
              " 'pothole': 8,\n",
              " 'traffic heavier than normal': 9,\n",
              " 'road construction': 10,\n",
              " 'fog': 11,\n",
              " 'accident': 12,\n",
              " 'slowdown': 13,\n",
              " 'stopped car': 14,\n",
              " 'small traffic jam': 15,\n",
              " 'stopped traffic': 16,\n",
              " 'heavy traffic': 17,\n",
              " 'minor accident': 18,\n",
              " 'medium traffic jam': 19,\n",
              " 'malfunctioning traffic light': 20,\n",
              " 'missing sign on the shoulder': 21,\n",
              " 'animal on the shoulder': 22,\n",
              " 'animal struck': 23,\n",
              " 'large traffic jam': 24,\n",
              " 'hazard on the shoulder': 25,\n",
              " 'hazard on road': 26,\n",
              " 'ice on roadway': 27,\n",
              " 'weather hazard': 28,\n",
              " 'flooding': 29,\n",
              " 'road closed due to hazard': 30,\n",
              " 'hail': 31,\n",
              " 'huge traffic jam': 32}"
            ]
          },
          "execution_count": 13,
          "metadata": {},
          "output_type": "execute_result"
        }
      ],
      "source": [
        "reversed_dict"
      ]
    },
    {
      "cell_type": "code",
      "execution_count": 14,
      "metadata": {
        "colab": {},
        "colab_type": "code",
        "id": "3GfoOc-tID2N"
      },
      "outputs": [],
      "source": [
        "def map_event_list_to_idxs(event_list):\n",
        "  list_idxs = []\n",
        "  for event in (event_list):\n",
        "    idx = reversed_dict[event]\n",
        "    list_idxs.append(idx)\n",
        "  return list_idxs"
      ]
    },
    {
      "cell_type": "code",
      "execution_count": 15,
      "metadata": {
        "colab": {},
        "colab_type": "code",
        "id": "F6pr4SnBKzmC"
      },
      "outputs": [
        {
          "data": {
            "text/plain": [
              "[3,\n",
              " 17,\n",
              " 17,\n",
              " 17,\n",
              " 13,\n",
              " 16,\n",
              " 17,\n",
              " 17,\n",
              " 17,\n",
              " 17,\n",
              " 9,\n",
              " 3,\n",
              " 2,\n",
              " 17,\n",
              " 16,\n",
              " 16,\n",
              " 16,\n",
              " 17,\n",
              " 2,\n",
              " 3,\n",
              " 16,\n",
              " 16,\n",
              " 16,\n",
              " 17,\n",
              " 9,\n",
              " 9,\n",
              " 9,\n",
              " 9,\n",
              " 17,\n",
              " 16,\n",
              " 9,\n",
              " 8,\n",
              " 3,\n",
              " 2,\n",
              " 13,\n",
              " 16,\n",
              " 17,\n",
              " 9,\n",
              " 2,\n",
              " 2,\n",
              " 3,\n",
              " 7,\n",
              " 2,\n",
              " 2,\n",
              " 16,\n",
              " 17,\n",
              " 9,\n",
              " 3,\n",
              " 13,\n",
              " 17,\n",
              " 17,\n",
              " 3,\n",
              " 2,\n",
              " 13,\n",
              " 13,\n",
              " 17,\n",
              " 3,\n",
              " 17,\n",
              " 18,\n",
              " 3,\n",
              " 17,\n",
              " 3,\n",
              " 17,\n",
              " 16,\n",
              " 17,\n",
              " 9,\n",
              " 17,\n",
              " 3,\n",
              " 9,\n",
              " 16,\n",
              " 17,\n",
              " 17,\n",
              " 17,\n",
              " 3,\n",
              " 13,\n",
              " 16,\n",
              " 17,\n",
              " 3,\n",
              " 9,\n",
              " 17,\n",
              " 18,\n",
              " 7,\n",
              " 3,\n",
              " 3]"
            ]
          },
          "execution_count": 15,
          "metadata": {},
          "output_type": "execute_result"
        }
      ],
      "source": [
        "map_event_list_to_idxs(max_len_event.events)"
      ]
    },
    {
      "cell_type": "code",
      "execution_count": 18,
      "metadata": {
        "colab": {},
        "colab_type": "code",
        "id": "OfVh-gCCRtAp"
      },
      "outputs": [],
      "source": [
        "import numpy as np\n",
        "# from keras.utils import to_categorical"
      ]
    },
    {
      "cell_type": "code",
      "execution_count": 19,
      "metadata": {
        "colab": {},
        "colab_type": "code",
        "id": "6ngg5bGUTl2n"
      },
      "outputs": [],
      "source": [
        "from keras.preprocessing.sequence import pad_sequences"
      ]
    },
    {
      "cell_type": "code",
      "execution_count": 20,
      "metadata": {
        "colab": {},
        "colab_type": "code",
        "id": "ajB5HN24LFVp"
      },
      "outputs": [
        {
          "data": {
            "text/plain": [
              "32"
            ]
          },
          "execution_count": 20,
          "metadata": {},
          "output_type": "execute_result"
        }
      ],
      "source": [
        "len(event_dict)"
      ]
    },
    {
      "cell_type": "code",
      "execution_count": 21,
      "metadata": {
        "colab": {},
        "colab_type": "code",
        "id": "F7Lpii1pMVCe"
      },
      "outputs": [
        {
          "data": {
            "text/plain": [
              "0      [9, 17, 18, 14, 13, 17, 3, 13, 16, 3, 17, 17, ...\n",
              "1                                             [2, 10, 3]\n",
              "2                                                    [2]\n",
              "3                                                    [2]\n",
              "4                               [2, 2, 2, 2, 2, 2, 2, 9]\n",
              "                             ...                        \n",
              "856                    [17, 17, 17, 2, 3, 2, 2, 2, 2, 2]\n",
              "857                                               [2, 2]\n",
              "858                                  [2, 2, 9, 17, 2, 2]\n",
              "859                            [17, 3, 2, 2, 2, 2, 2, 2]\n",
              "860    [17, 3, 3, 17, 3, 17, 2, 3, 18, 14, 3, 3, 16, ...\n",
              "Name: events, Length: 1722, dtype: object"
            ]
          },
          "execution_count": 21,
          "metadata": {},
          "output_type": "execute_result"
        }
      ],
      "source": [
        "df.events.apply(map_event_list_to_idxs)"
      ]
    },
    {
      "cell_type": "code",
      "execution_count": 22,
      "metadata": {
        "colab": {},
        "colab_type": "code",
        "id": "XCZzSnwDLGs3"
      },
      "outputs": [
        {
          "data": {
            "text/plain": [
              "[[9,\n",
              "  17,\n",
              "  18,\n",
              "  14,\n",
              "  13,\n",
              "  17,\n",
              "  3,\n",
              "  13,\n",
              "  16,\n",
              "  3,\n",
              "  17,\n",
              "  17,\n",
              "  16,\n",
              "  3,\n",
              "  16,\n",
              "  17,\n",
              "  9,\n",
              "  17,\n",
              "  2,\n",
              "  17,\n",
              "  2,\n",
              "  7,\n",
              "  16,\n",
              "  17,\n",
              "  17,\n",
              "  17,\n",
              "  17,\n",
              "  13,\n",
              "  5,\n",
              "  17,\n",
              "  9,\n",
              "  9,\n",
              "  16,\n",
              "  16,\n",
              "  3],\n",
              " [2, 10, 3],\n",
              " [2],\n",
              " [2],\n",
              " [2, 2, 2, 2, 2, 2, 2, 9]]"
            ]
          },
          "execution_count": 22,
          "metadata": {},
          "output_type": "execute_result"
        }
      ],
      "source": [
        "sequences = df.events.apply(map_event_list_to_idxs).tolist()\n",
        "sequences[:5]"
      ]
    },
    {
      "cell_type": "code",
      "execution_count": 23,
      "metadata": {
        "colab": {},
        "colab_type": "code",
        "id": "GJOkHvJgvCqE"
      },
      "outputs": [
        {
          "data": {
            "text/plain": [
              "1722"
            ]
          },
          "execution_count": 23,
          "metadata": {},
          "output_type": "execute_result"
        }
      ],
      "source": [
        "len(sequences)"
      ]
    },
    {
      "cell_type": "code",
      "execution_count": 24,
      "metadata": {
        "colab": {},
        "colab_type": "code",
        "id": "3_VIVUvBUYnn"
      },
      "outputs": [
        {
          "data": {
            "text/plain": [
              "array([[ 0,  0,  0, ..., 16, 16,  3],\n",
              "       [ 0,  0,  0, ...,  2, 10,  3],\n",
              "       [ 0,  0,  0, ...,  0,  0,  2],\n",
              "       ...,\n",
              "       [ 0,  0,  0, ..., 17,  2,  2],\n",
              "       [ 0,  0,  0, ...,  2,  2,  2],\n",
              "       [ 0,  0,  0, ...,  3,  3,  2]])"
            ]
          },
          "execution_count": 24,
          "metadata": {},
          "output_type": "execute_result"
        }
      ],
      "source": [
        "data = pad_sequences(sequences, maxlen=maxlen)\n",
        "data"
      ]
    },
    {
      "cell_type": "code",
      "execution_count": 25,
      "metadata": {
        "colab": {},
        "colab_type": "code",
        "id": "jOSHPWRnUt0V"
      },
      "outputs": [],
      "source": [
        "labels = np.array(df.label)"
      ]
    },
    {
      "cell_type": "code",
      "execution_count": 26,
      "metadata": {
        "colab": {},
        "colab_type": "code",
        "id": "PSD_-UG1B9G0"
      },
      "outputs": [],
      "source": [
        "np.random.seed(12)"
      ]
    },
    {
      "cell_type": "code",
      "execution_count": 27,
      "metadata": {
        "colab": {},
        "colab_type": "code",
        "id": "gxA3cElTUzrZ"
      },
      "outputs": [],
      "source": [
        "indices = np.arange(data.shape[0])\n",
        "np.random.shuffle(indices)\n",
        "data = data[indices]\n",
        "labels = labels[indices]"
      ]
    },
    {
      "cell_type": "code",
      "execution_count": 28,
      "metadata": {
        "colab": {},
        "colab_type": "code",
        "id": "ay_11WJ-U2r0"
      },
      "outputs": [],
      "source": [
        "training_samples = int(len(indices) * .8)\n",
        "validation_samples = len(indices) - training_samples"
      ]
    },
    {
      "cell_type": "code",
      "execution_count": 29,
      "metadata": {
        "colab": {},
        "colab_type": "code",
        "id": "8PvKfu7OU4Tu"
      },
      "outputs": [],
      "source": [
        "X_train = data[:training_samples]\n",
        "y_train = labels[:training_samples]\n",
        "X_valid = data[training_samples: training_samples + validation_samples]\n",
        "y_valid = labels[training_samples: training_samples + validation_samples]"
      ]
    },
    {
      "cell_type": "code",
      "execution_count": 30,
      "metadata": {
        "colab": {},
        "colab_type": "code",
        "id": "d4ljsGj-WYrR"
      },
      "outputs": [
        {
          "data": {
            "text/plain": [
              "array([[ 0,  0,  0, ..., 15, 15,  3],\n",
              "       [ 0,  0,  0, ...,  0,  2,  2],\n",
              "       [ 0,  0,  0, ...,  0,  0, 16],\n",
              "       ...,\n",
              "       [ 0,  0,  0, ...,  2, 15, 16],\n",
              "       [ 0,  0,  0, ...,  2,  2,  2],\n",
              "       [ 0,  0,  0, ...,  0,  0,  2]])"
            ]
          },
          "execution_count": 30,
          "metadata": {},
          "output_type": "execute_result"
        }
      ],
      "source": [
        "X_train"
      ]
    },
    {
      "cell_type": "code",
      "execution_count": 31,
      "metadata": {
        "colab": {},
        "colab_type": "code",
        "id": "MqifLVUc0Q3W"
      },
      "outputs": [],
      "source": [
        "num_events = len(event_dict) + 1"
      ]
    },
    {
      "cell_type": "code",
      "execution_count": 32,
      "metadata": {
        "colab": {},
        "colab_type": "code",
        "id": "gYPqQ_SkWs4Z"
      },
      "outputs": [],
      "source": [
        "embedding_dim = 20"
      ]
    },
    {
      "cell_type": "code",
      "execution_count": 33,
      "metadata": {
        "colab": {},
        "colab_type": "code",
        "id": "1LsFlDRdWr1Y"
      },
      "outputs": [],
      "source": [
        "embedding_matrix = np.random.rand(num_events, embedding_dim)"
      ]
    },
    {
      "cell_type": "code",
      "execution_count": 34,
      "metadata": {
        "colab": {},
        "colab_type": "code",
        "id": "Y4UgZAIhU6IW"
      },
      "outputs": [],
      "source": [
        "from keras.models import Sequential\n",
        "from keras.layers import Embedding, Flatten, Dense, LSTM\n",
        "\n",
        "units = 32\n",
        "\n",
        "model = Sequential()\n",
        "model.add(Embedding(num_events, embedding_dim))\n",
        "model.add(LSTM(units))\n",
        "model.add(Dense(1, activation='sigmoid'))"
      ]
    },
    {
      "cell_type": "code",
      "execution_count": 35,
      "metadata": {
        "colab": {},
        "colab_type": "code",
        "id": "vVX_sfo8W2wV"
      },
      "outputs": [],
      "source": [
        "model.layers[0].set_weights([embedding_matrix])\n",
        "model.layers[0].trainable = False"
      ]
    },
    {
      "cell_type": "code",
      "execution_count": 36,
      "metadata": {
        "colab": {},
        "colab_type": "code",
        "id": "Vvk32LXtVEBC"
      },
      "outputs": [
        {
          "name": "stdout",
          "output_type": "stream",
          "text": [
            "Epoch 1/50\n",
            "44/44 [==============================] - 11s 78ms/step - loss: 0.6872 - acc: 0.5541 - val_loss: 0.6814 - val_acc: 0.5130\n",
            "Epoch 2/50\n",
            "44/44 [==============================] - 1s 21ms/step - loss: 0.6571 - acc: 0.6049 - val_loss: 0.6858 - val_acc: 0.5536\n",
            "Epoch 3/50\n",
            "44/44 [==============================] - 1s 22ms/step - loss: 0.6356 - acc: 0.6442 - val_loss: 0.7011 - val_acc: 0.5507\n",
            "Epoch 4/50\n",
            "44/44 [==============================] - 1s 20ms/step - loss: 0.6152 - acc: 0.6645 - val_loss: 0.6467 - val_acc: 0.5884\n",
            "Epoch 5/50\n",
            "44/44 [==============================] - 1s 20ms/step - loss: 0.5986 - acc: 0.6703 - val_loss: 0.5947 - val_acc: 0.6609\n",
            "Epoch 6/50\n",
            "44/44 [==============================] - 1s 22ms/step - loss: 0.5885 - acc: 0.7095 - val_loss: 0.6406 - val_acc: 0.6145\n",
            "Epoch 7/50\n",
            "44/44 [==============================] - 1s 21ms/step - loss: 0.5828 - acc: 0.6964 - val_loss: 0.6036 - val_acc: 0.6551\n",
            "Epoch 8/50\n",
            "44/44 [==============================] - 1s 17ms/step - loss: 0.5885 - acc: 0.6928 - val_loss: 0.6564 - val_acc: 0.6261\n",
            "Epoch 9/50\n",
            "44/44 [==============================] - 1s 21ms/step - loss: 0.5698 - acc: 0.7052 - val_loss: 0.7049 - val_acc: 0.5855\n",
            "Epoch 10/50\n",
            "44/44 [==============================] - 1s 19ms/step - loss: 0.5684 - acc: 0.6979 - val_loss: 0.5756 - val_acc: 0.7072\n",
            "Epoch 11/50\n",
            "44/44 [==============================] - 1s 19ms/step - loss: 0.5810 - acc: 0.6906 - val_loss: 0.8350 - val_acc: 0.5130\n",
            "Epoch 12/50\n",
            "44/44 [==============================] - 1s 19ms/step - loss: 0.5675 - acc: 0.7175 - val_loss: 0.6434 - val_acc: 0.6348\n",
            "Epoch 13/50\n",
            "44/44 [==============================] - 1s 19ms/step - loss: 0.5578 - acc: 0.7081 - val_loss: 0.5462 - val_acc: 0.7304\n",
            "Epoch 14/50\n",
            "44/44 [==============================] - 1s 19ms/step - loss: 0.5671 - acc: 0.7131 - val_loss: 0.6175 - val_acc: 0.6348\n",
            "Epoch 15/50\n",
            "44/44 [==============================] - 1s 18ms/step - loss: 0.5574 - acc: 0.7117 - val_loss: 0.7133 - val_acc: 0.5420\n",
            "Epoch 16/50\n",
            "44/44 [==============================] - 1s 20ms/step - loss: 0.5478 - acc: 0.7233 - val_loss: 0.6488 - val_acc: 0.6232\n",
            "Epoch 17/50\n",
            "44/44 [==============================] - 1s 19ms/step - loss: 0.5586 - acc: 0.7168 - val_loss: 0.6406 - val_acc: 0.6029\n",
            "Epoch 18/50\n",
            "44/44 [==============================] - 1s 17ms/step - loss: 0.5391 - acc: 0.7197 - val_loss: 0.5860 - val_acc: 0.6870\n",
            "Epoch 19/50\n",
            "44/44 [==============================] - 1s 20ms/step - loss: 0.5398 - acc: 0.7269 - val_loss: 0.5793 - val_acc: 0.7014\n",
            "Epoch 20/50\n",
            "44/44 [==============================] - 1s 20ms/step - loss: 0.5367 - acc: 0.7313 - val_loss: 0.6828 - val_acc: 0.6058\n",
            "Epoch 21/50\n",
            "44/44 [==============================] - 1s 24ms/step - loss: 0.5350 - acc: 0.7255 - val_loss: 0.5496 - val_acc: 0.7159\n",
            "Epoch 22/50\n",
            "44/44 [==============================] - 1s 24ms/step - loss: 0.5310 - acc: 0.7371 - val_loss: 0.5556 - val_acc: 0.7072\n",
            "Epoch 23/50\n",
            "44/44 [==============================] - 1s 20ms/step - loss: 0.5219 - acc: 0.7429 - val_loss: 0.5865 - val_acc: 0.6899\n",
            "Epoch 24/50\n",
            "44/44 [==============================] - 1s 17ms/step - loss: 0.5284 - acc: 0.7429 - val_loss: 0.6484 - val_acc: 0.6319\n",
            "Epoch 25/50\n",
            "44/44 [==============================] - 1s 19ms/step - loss: 0.5289 - acc: 0.7386 - val_loss: 0.5382 - val_acc: 0.7333\n",
            "Epoch 26/50\n",
            "44/44 [==============================] - 1s 17ms/step - loss: 0.5249 - acc: 0.7284 - val_loss: 0.5297 - val_acc: 0.7391\n",
            "Epoch 27/50\n",
            "44/44 [==============================] - 1s 19ms/step - loss: 0.5150 - acc: 0.7495 - val_loss: 0.5425 - val_acc: 0.7246\n",
            "Epoch 28/50\n",
            "44/44 [==============================] - 1s 19ms/step - loss: 0.5148 - acc: 0.7473 - val_loss: 0.5544 - val_acc: 0.7246\n",
            "Epoch 29/50\n",
            "44/44 [==============================] - 1s 17ms/step - loss: 0.5137 - acc: 0.7502 - val_loss: 0.5325 - val_acc: 0.7333\n",
            "Epoch 30/50\n",
            "44/44 [==============================] - 1s 19ms/step - loss: 0.5132 - acc: 0.7458 - val_loss: 0.5914 - val_acc: 0.6899\n",
            "Epoch 31/50\n",
            "44/44 [==============================] - 1s 18ms/step - loss: 0.5113 - acc: 0.7560 - val_loss: 0.5965 - val_acc: 0.6783\n",
            "Epoch 32/50\n",
            "44/44 [==============================] - 1s 19ms/step - loss: 0.5090 - acc: 0.7509 - val_loss: 0.6553 - val_acc: 0.6464\n",
            "Epoch 33/50\n",
            "44/44 [==============================] - 1s 19ms/step - loss: 0.5093 - acc: 0.7524 - val_loss: 0.5503 - val_acc: 0.7072\n",
            "Epoch 34/50\n",
            "44/44 [==============================] - 1s 20ms/step - loss: 0.5017 - acc: 0.7509 - val_loss: 0.5754 - val_acc: 0.6899\n",
            "Epoch 35/50\n",
            "44/44 [==============================] - 1s 22ms/step - loss: 0.4950 - acc: 0.7611 - val_loss: 0.5521 - val_acc: 0.7246\n",
            "Epoch 36/50\n",
            "44/44 [==============================] - 1s 20ms/step - loss: 0.5039 - acc: 0.7589 - val_loss: 0.5928 - val_acc: 0.6696\n",
            "Epoch 37/50\n",
            "44/44 [==============================] - 1s 18ms/step - loss: 0.5014 - acc: 0.7509 - val_loss: 0.5224 - val_acc: 0.7478\n",
            "Epoch 38/50\n",
            "44/44 [==============================] - 1s 19ms/step - loss: 0.4980 - acc: 0.7487 - val_loss: 0.5420 - val_acc: 0.7130\n",
            "Epoch 39/50\n",
            "44/44 [==============================] - 1s 19ms/step - loss: 0.4992 - acc: 0.7487 - val_loss: 0.5584 - val_acc: 0.7130\n",
            "Epoch 40/50\n",
            "44/44 [==============================] - 1s 18ms/step - loss: 0.4918 - acc: 0.7603 - val_loss: 0.5520 - val_acc: 0.7275\n",
            "Epoch 41/50\n",
            "44/44 [==============================] - 1s 18ms/step - loss: 0.4910 - acc: 0.7654 - val_loss: 0.6558 - val_acc: 0.6058\n",
            "Epoch 42/50\n",
            "44/44 [==============================] - 1s 19ms/step - loss: 0.5032 - acc: 0.7473 - val_loss: 0.6777 - val_acc: 0.6870\n",
            "Epoch 43/50\n",
            "44/44 [==============================] - 2s 49ms/step - loss: 0.4960 - acc: 0.7618 - val_loss: 0.5308 - val_acc: 0.7333\n",
            "Epoch 44/50\n",
            "44/44 [==============================] - 1s 31ms/step - loss: 0.4891 - acc: 0.7567 - val_loss: 0.5380 - val_acc: 0.7304\n",
            "Epoch 45/50\n",
            "44/44 [==============================] - 1s 26ms/step - loss: 0.4930 - acc: 0.7553 - val_loss: 0.5347 - val_acc: 0.7217\n",
            "Epoch 46/50\n",
            "44/44 [==============================] - 1s 33ms/step - loss: 0.4890 - acc: 0.7654 - val_loss: 0.5362 - val_acc: 0.7275\n",
            "Epoch 47/50\n",
            "44/44 [==============================] - 1s 25ms/step - loss: 0.4839 - acc: 0.7625 - val_loss: 0.5354 - val_acc: 0.7333\n",
            "Epoch 48/50\n",
            "44/44 [==============================] - 1s 22ms/step - loss: 0.4838 - acc: 0.7691 - val_loss: 0.5341 - val_acc: 0.7188\n",
            "Epoch 49/50\n",
            "44/44 [==============================] - 1s 20ms/step - loss: 0.4829 - acc: 0.7662 - val_loss: 0.5336 - val_acc: 0.7304\n",
            "Epoch 50/50\n",
            "44/44 [==============================] - 1s 25ms/step - loss: 0.4812 - acc: 0.7654 - val_loss: 0.5251 - val_acc: 0.7449\n"
          ]
        }
      ],
      "source": [
        "model.compile(optimizer='rmsprop',\n",
        "              loss='binary_crossentropy',\n",
        "              metrics=['acc'])\n",
        "history = model.fit(X_train, y_train,\n",
        "                    epochs=50,\n",
        "                    batch_size=32,\n",
        "                    validation_data=(X_valid, y_valid))\n",
        "model.save(\"mymodel_embedding_untrainable.h5\")"
      ]
    },
    {
      "cell_type": "code",
      "execution_count": 37,
      "metadata": {
        "colab": {},
        "colab_type": "code",
        "id": "V0KUqeWqVMCi"
      },
      "outputs": [
        {
          "data": {
            "image/png": "[encoded data removed]",
            "text/plain": [
              "<Figure size 432x288 with 1 Axes>"
            ]
          },
          "metadata": {
            "needs_background": "light"
          },
          "output_type": "display_data"
        },
        {
          "data": {
            "image/png": "[encoded data removed]",
            "text/plain": [
              "<Figure size 432x288 with 1 Axes>"
            ]
          },
          "metadata": {
            "needs_background": "light"
          },
          "output_type": "display_data"
        }
      ],
      "source": [
        "import matplotlib.pyplot as plt\n",
        "\n",
        "acc = history.history['acc']\n",
        "val_acc = history.history['val_acc']\n",
        "loss = history.history['loss']\n",
        "val_loss = history.history['val_loss']\n",
        "\n",
        "epochs = range(1, len(acc) + 1)\n",
        "\n",
        "plt.plot(epochs, acc, 'bo', label='Training acc')\n",
        "plt.plot(epochs, val_acc, 'b', label='Validation acc')\n",
        "plt.title('Training and validation accuracy')\n",
        "plt.legend()\n",
        "\n",
        "plt.figure()\n",
        "\n",
        "plt.plot(epochs, loss, 'bo', label='Training loss')\n",
        "plt.plot(epochs, val_loss, 'b', label='Validation loss')\n",
        "plt.title('Training and validation loss')\n",
        "plt.legend()\n",
        "\n",
        "plt.show()"
      ]
    },
    {
      "cell_type": "code",
      "execution_count": 38,
      "metadata": {
        "colab": {},
        "colab_type": "code",
        "id": "U84sdc2wMKWk"
      },
      "outputs": [],
      "source": [
        "from keras.models import Sequential\n",
        "from keras.layers import Embedding, Flatten, Dense, LSTM\n",
        "\n",
        "units = 32\n",
        "\n",
        "model = Sequential()\n",
        "model.add(Embedding(num_events, embedding_dim))\n",
        "model.add(LSTM(units))\n",
        "model.add(Dense(1, activation='sigmoid'))"
      ]
    },
    {
      "cell_type": "code",
      "execution_count": 39,
      "metadata": {
        "colab": {},
        "colab_type": "code",
        "id": "9V_vFEfVMO35"
      },
      "outputs": [],
      "source": [
        "model.layers[0].set_weights([embedding_matrix])\n",
        "model.layers[0].trainable = True"
      ]
    },
    {
      "cell_type": "code",
      "execution_count": 40,
      "metadata": {
        "colab": {},
        "colab_type": "code",
        "id": "6Y2QnUr8MQ8Q"
      },
      "outputs": [
        {
          "name": "stdout",
          "output_type": "stream",
          "text": [
            "Epoch 1/50\n",
            "44/44 [==============================] - 4s 43ms/step - loss: 0.6726 - acc: 0.5940 - val_loss: 0.7014 - val_acc: 0.5304\n",
            "Epoch 2/50\n",
            "44/44 [==============================] - 1s 20ms/step - loss: 0.6310 - acc: 0.6659 - val_loss: 0.7315 - val_acc: 0.5478\n",
            "Epoch 3/50\n",
            "44/44 [==============================] - 1s 16ms/step - loss: 0.5942 - acc: 0.6899 - val_loss: 0.6946 - val_acc: 0.5797\n",
            "Epoch 4/50\n",
            "44/44 [==============================] - 1s 17ms/step - loss: 0.5702 - acc: 0.7015 - val_loss: 0.5757 - val_acc: 0.7014\n",
            "Epoch 5/50\n",
            "44/44 [==============================] - 1s 17ms/step - loss: 0.5557 - acc: 0.7182 - val_loss: 0.6156 - val_acc: 0.5797\n",
            "Epoch 6/50\n",
            "44/44 [==============================] - 1s 16ms/step - loss: 0.5495 - acc: 0.7190 - val_loss: 0.5947 - val_acc: 0.6696\n",
            "Epoch 7/50\n",
            "44/44 [==============================] - 1s 16ms/step - loss: 0.5375 - acc: 0.7269 - val_loss: 0.5427 - val_acc: 0.7304\n",
            "Epoch 8/50\n",
            "44/44 [==============================] - 1s 20ms/step - loss: 0.5325 - acc: 0.7364 - val_loss: 0.5199 - val_acc: 0.7565\n",
            "Epoch 9/50\n",
            "44/44 [==============================] - 1s 21ms/step - loss: 0.5193 - acc: 0.7436 - val_loss: 0.5927 - val_acc: 0.6899\n",
            "Epoch 10/50\n",
            "44/44 [==============================] - 1s 21ms/step - loss: 0.5195 - acc: 0.7429 - val_loss: 0.5253 - val_acc: 0.7391\n",
            "Epoch 11/50\n",
            "44/44 [==============================] - 1s 20ms/step - loss: 0.5176 - acc: 0.7400 - val_loss: 0.5633 - val_acc: 0.6290\n",
            "Epoch 12/50\n",
            "44/44 [==============================] - 1s 21ms/step - loss: 0.5268 - acc: 0.7328 - val_loss: 0.5431 - val_acc: 0.7362\n",
            "Epoch 13/50\n",
            "44/44 [==============================] - 1s 20ms/step - loss: 0.5077 - acc: 0.7466 - val_loss: 0.6116 - val_acc: 0.6087\n",
            "Epoch 14/50\n",
            "44/44 [==============================] - 1s 20ms/step - loss: 0.5126 - acc: 0.7487 - val_loss: 0.5188 - val_acc: 0.7507\n",
            "Epoch 15/50\n",
            "44/44 [==============================] - 1s 20ms/step - loss: 0.5014 - acc: 0.7582 - val_loss: 0.5129 - val_acc: 0.7478\n",
            "Epoch 16/50\n",
            "44/44 [==============================] - 1s 19ms/step - loss: 0.5026 - acc: 0.7611 - val_loss: 0.5040 - val_acc: 0.7652\n",
            "Epoch 17/50\n",
            "44/44 [==============================] - 1s 22ms/step - loss: 0.4983 - acc: 0.7603 - val_loss: 0.5588 - val_acc: 0.6841\n",
            "Epoch 18/50\n",
            "44/44 [==============================] - 1s 23ms/step - loss: 0.4957 - acc: 0.7582 - val_loss: 0.5144 - val_acc: 0.7449\n",
            "Epoch 19/50\n",
            "44/44 [==============================] - 1s 20ms/step - loss: 0.4923 - acc: 0.7691 - val_loss: 0.5005 - val_acc: 0.7710\n",
            "Epoch 20/50\n",
            "44/44 [==============================] - 1s 19ms/step - loss: 0.4919 - acc: 0.7625 - val_loss: 0.5060 - val_acc: 0.7681\n",
            "Epoch 21/50\n",
            "44/44 [==============================] - 1s 23ms/step - loss: 0.4893 - acc: 0.7633 - val_loss: 0.5341 - val_acc: 0.7420\n",
            "Epoch 22/50\n",
            "44/44 [==============================] - 1s 21ms/step - loss: 0.4855 - acc: 0.7640 - val_loss: 0.5120 - val_acc: 0.7565\n",
            "Epoch 23/50\n",
            "44/44 [==============================] - 1s 21ms/step - loss: 0.4849 - acc: 0.7720 - val_loss: 0.5353 - val_acc: 0.7130\n",
            "Epoch 24/50\n",
            "44/44 [==============================] - 1s 22ms/step - loss: 0.4851 - acc: 0.7712 - val_loss: 0.5102 - val_acc: 0.7681\n",
            "Epoch 25/50\n",
            "44/44 [==============================] - 1s 23ms/step - loss: 0.4807 - acc: 0.7705 - val_loss: 0.4948 - val_acc: 0.7739\n",
            "Epoch 26/50\n",
            "44/44 [==============================] - 1s 21ms/step - loss: 0.4798 - acc: 0.7683 - val_loss: 0.4926 - val_acc: 0.7710\n",
            "Epoch 27/50\n",
            "44/44 [==============================] - 1s 22ms/step - loss: 0.4732 - acc: 0.7807 - val_loss: 0.5240 - val_acc: 0.7246\n",
            "Epoch 28/50\n",
            "44/44 [==============================] - 1s 21ms/step - loss: 0.4788 - acc: 0.7763 - val_loss: 0.5018 - val_acc: 0.7710\n",
            "Epoch 29/50\n",
            "44/44 [==============================] - 1s 22ms/step - loss: 0.4722 - acc: 0.7858 - val_loss: 0.5007 - val_acc: 0.7449\n",
            "Epoch 30/50\n",
            "44/44 [==============================] - 1s 21ms/step - loss: 0.4709 - acc: 0.7814 - val_loss: 0.5010 - val_acc: 0.7565\n",
            "Epoch 31/50\n",
            "44/44 [==============================] - 1s 19ms/step - loss: 0.4716 - acc: 0.7807 - val_loss: 0.5216 - val_acc: 0.7362\n",
            "Epoch 32/50\n",
            "44/44 [==============================] - 1s 20ms/step - loss: 0.4668 - acc: 0.7843 - val_loss: 0.5338 - val_acc: 0.7507\n",
            "Epoch 33/50\n",
            "44/44 [==============================] - 1s 21ms/step - loss: 0.4645 - acc: 0.7894 - val_loss: 0.4945 - val_acc: 0.7797\n",
            "Epoch 34/50\n",
            "44/44 [==============================] - 1s 19ms/step - loss: 0.4636 - acc: 0.7865 - val_loss: 0.5107 - val_acc: 0.7536\n",
            "Epoch 35/50\n",
            "44/44 [==============================] - 1s 20ms/step - loss: 0.4621 - acc: 0.7850 - val_loss: 0.5425 - val_acc: 0.7101\n",
            "Epoch 36/50\n",
            "44/44 [==============================] - 1s 19ms/step - loss: 0.4569 - acc: 0.7821 - val_loss: 0.5132 - val_acc: 0.7884\n",
            "Epoch 37/50\n",
            "44/44 [==============================] - 1s 20ms/step - loss: 0.4547 - acc: 0.7887 - val_loss: 0.5070 - val_acc: 0.7797\n",
            "Epoch 38/50\n",
            "44/44 [==============================] - 1s 20ms/step - loss: 0.4515 - acc: 0.7865 - val_loss: 0.5418 - val_acc: 0.7130\n",
            "Epoch 39/50\n",
            "44/44 [==============================] - 1s 20ms/step - loss: 0.4514 - acc: 0.8054 - val_loss: 0.5955 - val_acc: 0.6928\n",
            "Epoch 40/50\n",
            "44/44 [==============================] - 1s 23ms/step - loss: 0.4514 - acc: 0.7930 - val_loss: 0.5125 - val_acc: 0.7797\n",
            "Epoch 41/50\n",
            "44/44 [==============================] - 1s 20ms/step - loss: 0.4503 - acc: 0.7967 - val_loss: 0.5478 - val_acc: 0.7014\n",
            "Epoch 42/50\n",
            "44/44 [==============================] - 1s 20ms/step - loss: 0.4426 - acc: 0.8010 - val_loss: 0.5139 - val_acc: 0.7710\n",
            "Epoch 43/50\n",
            "44/44 [==============================] - 1s 21ms/step - loss: 0.4489 - acc: 0.7887 - val_loss: 0.5646 - val_acc: 0.7217\n",
            "Epoch 44/50\n",
            "44/44 [==============================] - 1s 22ms/step - loss: 0.4482 - acc: 0.7916 - val_loss: 0.5530 - val_acc: 0.7304\n",
            "Epoch 45/50\n",
            "44/44 [==============================] - 1s 23ms/step - loss: 0.4428 - acc: 0.7988 - val_loss: 0.5397 - val_acc: 0.7304\n",
            "Epoch 46/50\n",
            "44/44 [==============================] - 1s 22ms/step - loss: 0.4397 - acc: 0.8025 - val_loss: 0.5262 - val_acc: 0.7884\n",
            "Epoch 47/50\n",
            "44/44 [==============================] - 1s 20ms/step - loss: 0.4420 - acc: 0.7996 - val_loss: 0.5438 - val_acc: 0.7420\n",
            "Epoch 48/50\n",
            "44/44 [==============================] - 1s 21ms/step - loss: 0.4360 - acc: 0.8010 - val_loss: 0.5345 - val_acc: 0.7449\n",
            "Epoch 49/50\n",
            "44/44 [==============================] - 1s 19ms/step - loss: 0.4352 - acc: 0.8090 - val_loss: 0.5469 - val_acc: 0.7420\n",
            "Epoch 50/50\n",
            "44/44 [==============================] - 1s 22ms/step - loss: 0.4312 - acc: 0.8068 - val_loss: 0.5983 - val_acc: 0.7043\n"
          ]
        }
      ],
      "source": [
        "model.compile(optimizer='rmsprop',\n",
        "              loss='binary_crossentropy',\n",
        "              metrics=['acc'])\n",
        "history = model.fit(X_train, y_train,\n",
        "                    epochs=50,\n",
        "                    batch_size=32,\n",
        "                    validation_data=(X_valid, y_valid))\n",
        "model.save(\"mymodel_embedding_trainable.h5\")"
      ]
    },
    {
      "cell_type": "code",
      "execution_count": 41,
      "metadata": {
        "colab": {},
        "colab_type": "code",
        "id": "H-eICgBtMTmN"
      },
      "outputs": [
        {
          "data": {
            "image/png": "[encoded data removed]",
            "text/plain": [
              "<Figure size 432x288 with 1 Axes>"
            ]
          },
          "metadata": {
            "needs_background": "light"
          },
          "output_type": "display_data"
        },
        {
          "data": {
            "image/png": "[encoded data removed]",
            "text/plain": [
              "<Figure size 432x288 with 1 Axes>"
            ]
          },
          "metadata": {
            "needs_background": "light"
          },
          "output_type": "display_data"
        }
      ],
      "source": [
        "import matplotlib.pyplot as plt\n",
        "\n",
        "acc = history.history['acc']\n",
        "val_acc = history.history['val_acc']\n",
        "loss = history.history['loss']\n",
        "val_loss = history.history['val_loss']\n",
        "\n",
        "epochs = range(1, len(acc) + 1)\n",
        "\n",
        "plt.plot(epochs, acc, 'bo', label='Training acc')\n",
        "plt.plot(epochs, val_acc, 'b', label='Validation acc')\n",
        "plt.title('Training and validation accuracy')\n",
        "plt.legend()\n",
        "\n",
        "plt.figure()\n",
        "\n",
        "plt.plot(epochs, loss, 'bo', label='Training loss')\n",
        "plt.plot(epochs, val_loss, 'b', label='Validation loss')\n",
        "plt.title('Training and validation loss')\n",
        "plt.legend()\n",
        "\n",
        "plt.show()"
      ]
    },
    {
      "cell_type": "code",
      "execution_count": 42,
      "metadata": {
        "colab": {},
        "colab_type": "code",
        "id": "KeOWIKXlXAns"
      },
      "outputs": [
        {
          "name": "stdout",
          "output_type": "stream",
          "text": [
            "WARNING:tensorflow:Layer lstm_2 will not use cuDNN kernels since it doesn't meet the criteria. It will use a generic GPU kernel as fallback when running on GPU.\n"
          ]
        }
      ],
      "source": [
        "from keras.models import Sequential\n",
        "from keras.layers import Embedding, Flatten, Dense, LSTM\n",
        "\n",
        "units = 32\n",
        "\n",
        "model = Sequential()\n",
        "model.add(Embedding(num_events, embedding_dim))\n",
        "model.add(LSTM(units, dropout=0.2, recurrent_dropout=0.2))\n",
        "model.add(Dense(1, activation='sigmoid'))"
      ]
    },
    {
      "cell_type": "code",
      "execution_count": 43,
      "metadata": {
        "colab": {},
        "colab_type": "code",
        "id": "f4DkGAnpL5Y7"
      },
      "outputs": [],
      "source": [
        "model.layers[0].set_weights([embedding_matrix])\n",
        "model.layers[0].trainable = True"
      ]
    },
    {
      "cell_type": "code",
      "execution_count": 44,
      "metadata": {
        "colab": {},
        "colab_type": "code",
        "id": "e5qtVwUrL6zN"
      },
      "outputs": [
        {
          "name": "stdout",
          "output_type": "stream",
          "text": [
            "Epoch 1/50\n",
            "44/44 [==============================] - 39s 808ms/step - loss: 0.6794 - acc: 0.5788 - val_loss: 0.6884 - val_acc: 0.5333\n",
            "Epoch 2/50\n",
            "44/44 [==============================] - 46s 1s/step - loss: 0.6485 - acc: 0.6275 - val_loss: 0.6668 - val_acc: 0.5391\n",
            "Epoch 3/50\n",
            "44/44 [==============================] - 37s 849ms/step - loss: 0.6225 - acc: 0.6805 - val_loss: 0.6368 - val_acc: 0.6203\n",
            "Epoch 4/50\n",
            "44/44 [==============================] - 34s 769ms/step - loss: 0.5983 - acc: 0.6826 - val_loss: 0.6967 - val_acc: 0.5913\n",
            "Epoch 5/50\n",
            "44/44 [==============================] - 35s 809ms/step - loss: 0.5908 - acc: 0.6935 - val_loss: 0.7767 - val_acc: 0.5507\n",
            "Epoch 6/50\n",
            "44/44 [==============================] - 34s 765ms/step - loss: 0.5730 - acc: 0.7131 - val_loss: 0.6470 - val_acc: 0.6638\n",
            "Epoch 7/50\n",
            "44/44 [==============================] - 32s 731ms/step - loss: 0.5628 - acc: 0.7197 - val_loss: 0.6327 - val_acc: 0.5420\n",
            "Epoch 8/50\n",
            "44/44 [==============================] - 37s 852ms/step - loss: 0.5492 - acc: 0.7175 - val_loss: 0.6212 - val_acc: 0.6696\n",
            "Epoch 9/50\n",
            "44/44 [==============================] - 45s 1s/step - loss: 0.5529 - acc: 0.7342 - val_loss: 0.5679 - val_acc: 0.6957\n",
            "Epoch 10/50\n",
            "44/44 [==============================] - 44s 1s/step - loss: 0.5396 - acc: 0.7219 - val_loss: 0.6192 - val_acc: 0.6928\n",
            "Epoch 11/50\n",
            "44/44 [==============================] - 37s 851ms/step - loss: 0.5379 - acc: 0.7320 - val_loss: 0.5502 - val_acc: 0.7101\n",
            "Epoch 12/50\n",
            "44/44 [==============================] - 33s 745ms/step - loss: 0.5343 - acc: 0.7335 - val_loss: 0.5448 - val_acc: 0.7217\n",
            "Epoch 13/50\n",
            "44/44 [==============================] - 35s 793ms/step - loss: 0.5327 - acc: 0.7240 - val_loss: 0.5622 - val_acc: 0.6899\n",
            "Epoch 14/50\n",
            "44/44 [==============================] - 34s 779ms/step - loss: 0.5244 - acc: 0.7393 - val_loss: 0.5408 - val_acc: 0.7246\n",
            "Epoch 15/50\n",
            "44/44 [==============================] - 35s 790ms/step - loss: 0.5259 - acc: 0.7407 - val_loss: 0.5600 - val_acc: 0.6783\n",
            "Epoch 16/50\n",
            "44/44 [==============================] - 34s 781ms/step - loss: 0.5125 - acc: 0.7444 - val_loss: 0.5151 - val_acc: 0.7449\n",
            "Epoch 17/50\n",
            "44/44 [==============================] - 35s 799ms/step - loss: 0.5068 - acc: 0.7553 - val_loss: 0.5612 - val_acc: 0.7333\n",
            "Epoch 18/50\n",
            "44/44 [==============================] - 39s 876ms/step - loss: 0.5064 - acc: 0.7524 - val_loss: 0.5476 - val_acc: 0.7478\n",
            "Epoch 19/50\n",
            "44/44 [==============================] - 34s 769ms/step - loss: 0.5132 - acc: 0.7386 - val_loss: 0.5299 - val_acc: 0.7304\n",
            "Epoch 20/50\n",
            "44/44 [==============================] - 34s 776ms/step - loss: 0.5059 - acc: 0.7502 - val_loss: 0.5324 - val_acc: 0.7565\n",
            "Epoch 21/50\n",
            "44/44 [==============================] - 38s 863ms/step - loss: 0.5047 - acc: 0.7473 - val_loss: 0.5071 - val_acc: 0.7623\n",
            "Epoch 22/50\n",
            "44/44 [==============================] - 36s 813ms/step - loss: 0.4985 - acc: 0.7538 - val_loss: 0.5071 - val_acc: 0.7826\n",
            "Epoch 23/50\n",
            "44/44 [==============================] - 35s 803ms/step - loss: 0.4879 - acc: 0.7741 - val_loss: 0.5646 - val_acc: 0.7043\n",
            "Epoch 24/50\n",
            "44/44 [==============================] - 32s 729ms/step - loss: 0.5002 - acc: 0.7567 - val_loss: 0.5235 - val_acc: 0.7420\n",
            "Epoch 25/50\n",
            "44/44 [==============================] - 32s 721ms/step - loss: 0.4952 - acc: 0.7574 - val_loss: 0.5206 - val_acc: 0.7507\n",
            "Epoch 26/50\n",
            "44/44 [==============================] - 32s 720ms/step - loss: 0.4969 - acc: 0.7625 - val_loss: 0.4988 - val_acc: 0.7710\n",
            "Epoch 27/50\n",
            "44/44 [==============================] - 32s 724ms/step - loss: 0.4922 - acc: 0.7647 - val_loss: 0.5285 - val_acc: 0.7188\n",
            "Epoch 28/50\n",
            "44/44 [==============================] - 33s 741ms/step - loss: 0.4961 - acc: 0.7560 - val_loss: 0.4989 - val_acc: 0.7565\n",
            "Epoch 29/50\n",
            "44/44 [==============================] - 32s 718ms/step - loss: 0.4921 - acc: 0.7589 - val_loss: 0.5085 - val_acc: 0.7536\n",
            "Epoch 30/50\n",
            "44/44 [==============================] - 32s 719ms/step - loss: 0.4996 - acc: 0.7560 - val_loss: 0.5037 - val_acc: 0.7565\n",
            "Epoch 31/50\n",
            "44/44 [==============================] - 32s 731ms/step - loss: 0.4934 - acc: 0.7574 - val_loss: 0.5052 - val_acc: 0.7507\n",
            "Epoch 32/50\n",
            "44/44 [==============================] - 32s 718ms/step - loss: 0.4894 - acc: 0.7698 - val_loss: 0.5103 - val_acc: 0.7565\n",
            "Epoch 33/50\n",
            "44/44 [==============================] - 32s 731ms/step - loss: 0.4866 - acc: 0.7647 - val_loss: 0.5150 - val_acc: 0.7623\n",
            "Epoch 34/50\n",
            "44/44 [==============================] - 32s 725ms/step - loss: 0.4857 - acc: 0.7669 - val_loss: 0.5083 - val_acc: 0.7507\n",
            "Epoch 35/50\n",
            "44/44 [==============================] - 32s 727ms/step - loss: 0.4830 - acc: 0.7712 - val_loss: 0.4956 - val_acc: 0.7768\n",
            "Epoch 36/50\n",
            "44/44 [==============================] - 32s 721ms/step - loss: 0.4820 - acc: 0.7618 - val_loss: 0.5223 - val_acc: 0.7217\n",
            "Epoch 37/50\n",
            "44/44 [==============================] - 33s 745ms/step - loss: 0.4860 - acc: 0.7727 - val_loss: 0.4965 - val_acc: 0.7739\n",
            "Epoch 38/50\n",
            "44/44 [==============================] - 33s 755ms/step - loss: 0.4786 - acc: 0.7691 - val_loss: 0.5050 - val_acc: 0.7594\n",
            "Epoch 39/50\n",
            "44/44 [==============================] - 35s 800ms/step - loss: 0.4876 - acc: 0.7676 - val_loss: 0.5217 - val_acc: 0.7275\n",
            "Epoch 40/50\n",
            "44/44 [==============================] - 32s 717ms/step - loss: 0.4768 - acc: 0.7625 - val_loss: 0.5041 - val_acc: 0.7826\n",
            "Epoch 41/50\n",
            "44/44 [==============================] - 32s 716ms/step - loss: 0.4806 - acc: 0.7691 - val_loss: 0.5010 - val_acc: 0.7536\n",
            "Epoch 42/50\n",
            "44/44 [==============================] - 32s 723ms/step - loss: 0.4772 - acc: 0.7800 - val_loss: 0.4903 - val_acc: 0.7768\n",
            "Epoch 43/50\n",
            "44/44 [==============================] - 32s 717ms/step - loss: 0.4756 - acc: 0.7720 - val_loss: 0.4903 - val_acc: 0.7768\n",
            "Epoch 44/50\n",
            "44/44 [==============================] - 32s 720ms/step - loss: 0.4730 - acc: 0.7683 - val_loss: 0.4907 - val_acc: 0.7797\n",
            "Epoch 45/50\n",
            "44/44 [==============================] - 32s 724ms/step - loss: 0.4680 - acc: 0.7771 - val_loss: 0.4931 - val_acc: 0.7623\n",
            "Epoch 46/50\n",
            "44/44 [==============================] - 32s 717ms/step - loss: 0.4734 - acc: 0.7720 - val_loss: 0.5225 - val_acc: 0.7391\n",
            "Epoch 47/50\n",
            "44/44 [==============================] - 34s 776ms/step - loss: 0.4740 - acc: 0.7712 - val_loss: 0.4893 - val_acc: 0.7884\n",
            "Epoch 48/50\n",
            "44/44 [==============================] - 36s 821ms/step - loss: 0.4707 - acc: 0.7829 - val_loss: 0.4912 - val_acc: 0.7681\n",
            "Epoch 49/50\n",
            "44/44 [==============================] - 33s 762ms/step - loss: 0.4705 - acc: 0.7756 - val_loss: 0.4872 - val_acc: 0.7739\n",
            "Epoch 50/50\n",
            "44/44 [==============================] - 33s 758ms/step - loss: 0.4665 - acc: 0.7785 - val_loss: 0.5430 - val_acc: 0.7159\n"
          ]
        }
      ],
      "source": [
        "model.compile(optimizer='rmsprop',\n",
        "              loss='binary_crossentropy',\n",
        "              metrics=['acc'])\n",
        "history = model.fit(X_train, y_train,\n",
        "                    epochs=50,\n",
        "                    batch_size=32,\n",
        "                    validation_data=(X_valid, y_valid))\n",
        "model.save(\"mymodel_embedding_trainable_with_dropout.h5\")"
      ]
    },
    {
      "cell_type": "code",
      "execution_count": 45,
      "metadata": {
        "colab": {},
        "colab_type": "code",
        "id": "YNZfbHF7L8w4"
      },
      "outputs": [
        {
          "data": {
            "image/png": "[encoded data removed]",
            "text/plain": [
              "<Figure size 432x288 with 1 Axes>"
            ]
          },
          "metadata": {
            "needs_background": "light"
          },
          "output_type": "display_data"
        },
        {
          "data": {
            "image/png": "[encoded data removed]",
            "text/plain": [
              "<Figure size 432x288 with 1 Axes>"
            ]
          },
          "metadata": {
            "needs_background": "light"
          },
          "output_type": "display_data"
        }
      ],
      "source": [
        "import matplotlib.pyplot as plt\n",
        "\n",
        "acc = history.history['acc']\n",
        "val_acc = history.history['val_acc']\n",
        "loss = history.history['loss']\n",
        "val_loss = history.history['val_loss']\n",
        "\n",
        "epochs = range(1, len(acc) + 1)\n",
        "\n",
        "plt.plot(epochs, acc, 'bo', label='Training acc')\n",
        "plt.plot(epochs, val_acc, 'b', label='Validation acc')\n",
        "plt.title('Training and validation accuracy')\n",
        "plt.legend()\n",
        "\n",
        "plt.figure()\n",
        "\n",
        "plt.plot(epochs, loss, 'bo', label='Training loss')\n",
        "plt.plot(epochs, val_loss, 'b', label='Validation loss')\n",
        "plt.title('Training and validation loss')\n",
        "plt.legend()\n",
        "\n",
        "plt.show()"
      ]
    }
  ],
  "metadata": {
    "accelerator": "TPU",
    "colab": {
      "collapsed_sections": [],
      "name": "demo-traffic-jam-prediction-output-removed",
      "provenance": [],
      "version": "0.3.2"
    },
    "interpreter": {
      "hash": "60e71678d2ef53e7f2024a9b52b4817102a249452807c45206facefdb61d7e11"
    },
    "kernelspec": {
      "display_name": "Python 3.9.7 ('ml')",
      "language": "python",
      "name": "python3"
    },
    "language_info": {
      "codemirror_mode": {
        "name": "ipython",
        "version": 3
      },
      "file_extension": ".py",
      "mimetype": "text/x-python",
      "name": "python",
      "nbconvert_exporter": "python",
      "pygments_lexer": "ipython3",
      "version": "3.9.7"
    }
  },
  "nbformat": 4,
  "nbformat_minor": 0
}
