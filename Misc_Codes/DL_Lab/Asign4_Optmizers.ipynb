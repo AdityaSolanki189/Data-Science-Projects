{
  "cells": [
    {
      "cell_type": "code",
      "execution_count": 30,
      "metadata": {
        "id": "d_rOou5pcIMN"
      },
      "outputs": [],
      "source": [
        "import numpy as np\n",
        "import pandas as pd\n",
        "import matplotlib.pyplot as plt\n",
        "import seaborn as sns\n",
        "import tensorflow as tf\n",
        "from tensorflow import keras\n",
        "from tensorflow.keras import layers,models\n",
        "from sklearn.model_selection import train_test_split\n",
        "from sklearn.preprocessing import StandardScaler"
      ]
    },
    {
      "cell_type": "code",
      "execution_count": 31,
      "metadata": {
        "id": "Shm1n06Jck9S"
      },
      "outputs": [],
      "source": [
        "df = pd.read_csv('../datasets/diabetes.csv')"
      ]
    },
    {
      "cell_type": "code",
      "execution_count": 32,
      "metadata": {
        "colab": {
          "base_uri": "https://localhost:8080/"
        },
        "id": "0rijcd1xcmpG",
        "outputId": "2971b834-98da-4330-8b05-6a5ce7b4e768"
      },
      "outputs": [
        {
          "data": {
            "text/plain": [
              "(768, 9)"
            ]
          },
          "execution_count": 32,
          "metadata": {},
          "output_type": "execute_result"
        }
      ],
      "source": [
        "df.shape"
      ]
    },
    {
      "cell_type": "code",
      "execution_count": 33,
      "metadata": {
        "colab": {
          "base_uri": "https://localhost:8080/",
          "height": 206
        },
        "id": "nPY0bvpKcoK9",
        "outputId": "3ba3b959-d43b-4680-b94c-c3ba0c052414"
      },
      "outputs": [
        {
          "data": {
            "text/html": [
              "<div>\n",
              "<style scoped>\n",
              "    .dataframe tbody tr th:only-of-type {\n",
              "        vertical-align: middle;\n",
              "    }\n",
              "\n",
              "    .dataframe tbody tr th {\n",
              "        vertical-align: top;\n",
              "    }\n",
              "\n",
              "    .dataframe thead th {\n",
              "        text-align: right;\n",
              "    }\n",
              "</style>\n",
              "<table border=\"1\" class=\"dataframe\">\n",
              "  <thead>\n",
              "    <tr style=\"text-align: right;\">\n",
              "      <th></th>\n",
              "      <th>Pregnancies</th>\n",
              "      <th>Glucose</th>\n",
              "      <th>BloodPressure</th>\n",
              "      <th>SkinThickness</th>\n",
              "      <th>Insulin</th>\n",
              "      <th>BMI</th>\n",
              "      <th>DiabetesPedigreeFunction</th>\n",
              "      <th>Age</th>\n",
              "      <th>Outcome</th>\n",
              "    </tr>\n",
              "  </thead>\n",
              "  <tbody>\n",
              "    <tr>\n",
              "      <th>0</th>\n",
              "      <td>6</td>\n",
              "      <td>148</td>\n",
              "      <td>72</td>\n",
              "      <td>35</td>\n",
              "      <td>0</td>\n",
              "      <td>33.6</td>\n",
              "      <td>0.627</td>\n",
              "      <td>50</td>\n",
              "      <td>1</td>\n",
              "    </tr>\n",
              "    <tr>\n",
              "      <th>1</th>\n",
              "      <td>1</td>\n",
              "      <td>85</td>\n",
              "      <td>66</td>\n",
              "      <td>29</td>\n",
              "      <td>0</td>\n",
              "      <td>26.6</td>\n",
              "      <td>0.351</td>\n",
              "      <td>31</td>\n",
              "      <td>0</td>\n",
              "    </tr>\n",
              "    <tr>\n",
              "      <th>2</th>\n",
              "      <td>8</td>\n",
              "      <td>183</td>\n",
              "      <td>64</td>\n",
              "      <td>0</td>\n",
              "      <td>0</td>\n",
              "      <td>23.3</td>\n",
              "      <td>0.672</td>\n",
              "      <td>32</td>\n",
              "      <td>1</td>\n",
              "    </tr>\n",
              "    <tr>\n",
              "      <th>3</th>\n",
              "      <td>1</td>\n",
              "      <td>89</td>\n",
              "      <td>66</td>\n",
              "      <td>23</td>\n",
              "      <td>94</td>\n",
              "      <td>28.1</td>\n",
              "      <td>0.167</td>\n",
              "      <td>21</td>\n",
              "      <td>0</td>\n",
              "    </tr>\n",
              "    <tr>\n",
              "      <th>4</th>\n",
              "      <td>0</td>\n",
              "      <td>137</td>\n",
              "      <td>40</td>\n",
              "      <td>35</td>\n",
              "      <td>168</td>\n",
              "      <td>43.1</td>\n",
              "      <td>2.288</td>\n",
              "      <td>33</td>\n",
              "      <td>1</td>\n",
              "    </tr>\n",
              "  </tbody>\n",
              "</table>\n",
              "</div>"
            ],
            "text/plain": [
              "   Pregnancies  Glucose  BloodPressure  SkinThickness  Insulin   BMI  \\\n",
              "0            6      148             72             35        0  33.6   \n",
              "1            1       85             66             29        0  26.6   \n",
              "2            8      183             64              0        0  23.3   \n",
              "3            1       89             66             23       94  28.1   \n",
              "4            0      137             40             35      168  43.1   \n",
              "\n",
              "   DiabetesPedigreeFunction  Age  Outcome  \n",
              "0                     0.627   50        1  \n",
              "1                     0.351   31        0  \n",
              "2                     0.672   32        1  \n",
              "3                     0.167   21        0  \n",
              "4                     2.288   33        1  "
            ]
          },
          "execution_count": 33,
          "metadata": {},
          "output_type": "execute_result"
        }
      ],
      "source": [
        "df.head()"
      ]
    },
    {
      "cell_type": "code",
      "execution_count": 34,
      "metadata": {
        "colab": {
          "base_uri": "https://localhost:8080/"
        },
        "id": "Ytvy4X51cpyj",
        "outputId": "afe3cd29-475d-454f-907e-052b3fba294c"
      },
      "outputs": [
        {
          "name": "stdout",
          "output_type": "stream",
          "text": [
            "X shape:  (768, 8)\n",
            "y shape:  (768,)\n"
          ]
        }
      ],
      "source": [
        "# splitting data into independent and dependent variables\n",
        "X = df.iloc[:, 0:8]\n",
        "y = df[\"Outcome\"] \n",
        "print(\"X shape: \", X.shape)\n",
        "print(\"y shape: \", y.shape)"
      ]
    },
    {
      "cell_type": "code",
      "execution_count": 35,
      "metadata": {
        "id": "joSuzlxecrpR"
      },
      "outputs": [],
      "source": [
        "# standardization\n",
        "scaler = StandardScaler()\n",
        "X_scaled = scaler.fit_transform(X)"
      ]
    },
    {
      "cell_type": "code",
      "execution_count": 36,
      "metadata": {
        "colab": {
          "base_uri": "https://localhost:8080/"
        },
        "id": "51_wSzSictSQ",
        "outputId": "b7a96194-3f64-4d79-e3dc-ace5a3c5d2b0"
      },
      "outputs": [
        {
          "name": "stdout",
          "output_type": "stream",
          "text": [
            "X_train shape:  (691, 8)\n",
            "X_test shape:  (77, 8)\n",
            "y_train shape:  (691,)\n",
            "y_test shape:  (77,)\n"
          ]
        }
      ],
      "source": [
        "# splitting into training and testing data\n",
        "X_train, X_test, y_train, y_test = train_test_split(X_scaled, y, test_size=0.1)\n",
        "print(\"X_train shape: \", X_train.shape)\n",
        "print(\"X_test shape: \", X_test.shape)\n",
        "print(\"y_train shape: \", y_train.shape)\n",
        "print(\"y_test shape: \", y_test.shape)"
      ]
    },
    {
      "cell_type": "markdown",
      "metadata": {
        "id": "Qkv3BCfZd3lY"
      },
      "source": [
        "### Adam - Adaptive Moment Estimation\n",
        "##### Accumulating the gradients by calculating momentum and also constantly changing the learning rate by using the cache. Due to these two features, Adam performs better than any other optimizer out there."
      ]
    },
    {
      "cell_type": "code",
      "execution_count": 37,
      "metadata": {
        "id": "CLrZgnH2cvVy"
      },
      "outputs": [],
      "source": [
        "# define model\n",
        "model_adam = models.Sequential()\n",
        "model_adam.add(layers.Dense(100, activation=\"relu\"))\n",
        "model_adam.add(layers.Dense(50, activation=\"relu\"))\n",
        "model_adam.add(layers.Dense(25, activation=\"relu\"))\n",
        "model_adam.add(layers.Dense(12, activation=\"relu\"))\n",
        "model_adam.add(layers.Dense(1, activation=\"sigmoid\"))"
      ]
    },
    {
      "cell_type": "code",
      "execution_count": 38,
      "metadata": {
        "id": "F-lbYSQEczQ5"
      },
      "outputs": [],
      "source": [
        "# adam optimizer \n",
        "model_adam.compile(optimizer=\"adam\", loss=\"binary_crossentropy\", metrics=[\"accuracy\"])"
      ]
    },
    {
      "cell_type": "code",
      "execution_count": 53,
      "metadata": {
        "colab": {
          "base_uri": "https://localhost:8080/"
        },
        "id": "ZaFdi2RAc8am",
        "outputId": "49c15f6a-d859-480a-de0f-5f381e7279e4"
      },
      "outputs": [
        {
          "name": "stdout",
          "output_type": "stream",
          "text": [
            "Epoch 1/15\n",
            "18/18 - 0s - loss: 0.3747 - accuracy: 0.8279 - val_loss: 0.5961 - val_accuracy: 0.7122 - 432ms/epoch - 24ms/step\n",
            "Epoch 2/15\n",
            "18/18 - 0s - loss: 0.3653 - accuracy: 0.8351 - val_loss: 0.6022 - val_accuracy: 0.7266 - 148ms/epoch - 8ms/step\n",
            "Epoch 3/15\n",
            "18/18 - 0s - loss: 0.3716 - accuracy: 0.8243 - val_loss: 0.6440 - val_accuracy: 0.7410 - 263ms/epoch - 15ms/step\n",
            "Epoch 4/15\n",
            "18/18 - 0s - loss: 0.3710 - accuracy: 0.8279 - val_loss: 0.6028 - val_accuracy: 0.7266 - 135ms/epoch - 8ms/step\n",
            "Epoch 5/15\n",
            "18/18 - 0s - loss: 0.3532 - accuracy: 0.8424 - val_loss: 0.6184 - val_accuracy: 0.7266 - 179ms/epoch - 10ms/step\n",
            "Epoch 6/15\n",
            "18/18 - 0s - loss: 0.3467 - accuracy: 0.8496 - val_loss: 0.6150 - val_accuracy: 0.7194 - 183ms/epoch - 10ms/step\n",
            "Epoch 7/15\n",
            "18/18 - 0s - loss: 0.3445 - accuracy: 0.8424 - val_loss: 0.6343 - val_accuracy: 0.7338 - 122ms/epoch - 7ms/step\n",
            "Epoch 8/15\n",
            "18/18 - 0s - loss: 0.3330 - accuracy: 0.8533 - val_loss: 0.6339 - val_accuracy: 0.7194 - 125ms/epoch - 7ms/step\n",
            "Epoch 9/15\n",
            "18/18 - 0s - loss: 0.3264 - accuracy: 0.8569 - val_loss: 0.6250 - val_accuracy: 0.7410 - 308ms/epoch - 17ms/step\n",
            "Epoch 10/15\n",
            "18/18 - 0s - loss: 0.3193 - accuracy: 0.8587 - val_loss: 0.6475 - val_accuracy: 0.7266 - 116ms/epoch - 6ms/step\n",
            "Epoch 11/15\n",
            "18/18 - 0s - loss: 0.3111 - accuracy: 0.8678 - val_loss: 0.6556 - val_accuracy: 0.7554 - 148ms/epoch - 8ms/step\n",
            "Epoch 12/15\n",
            "18/18 - 0s - loss: 0.3081 - accuracy: 0.8678 - val_loss: 0.6509 - val_accuracy: 0.7482 - 234ms/epoch - 13ms/step\n",
            "Epoch 13/15\n",
            "18/18 - 0s - loss: 0.3087 - accuracy: 0.8569 - val_loss: 0.6491 - val_accuracy: 0.7554 - 114ms/epoch - 6ms/step\n",
            "Epoch 14/15\n",
            "18/18 - 0s - loss: 0.2950 - accuracy: 0.8714 - val_loss: 0.6697 - val_accuracy: 0.7482 - 231ms/epoch - 13ms/step\n",
            "Epoch 15/15\n",
            "18/18 - 0s - loss: 0.2887 - accuracy: 0.8786 - val_loss: 0.7030 - val_accuracy: 0.7482 - 167ms/epoch - 9ms/step\n"
          ]
        }
      ],
      "source": [
        "# train adam model\n",
        "history_adam = model_adam.fit(X_train, y_train, epochs=15, verbose=2, validation_data=(X_test, y_test), validation_split=0.2)"
      ]
    },
    {
      "cell_type": "code",
      "execution_count": 40,
      "metadata": {
        "colab": {
          "base_uri": "https://localhost:8080/",
          "height": 312
        },
        "id": "mXMKkIS1e6ua",
        "outputId": "1d0f23c8-a89f-4699-c8c7-d7d5f4c0a862"
      },
      "outputs": [
        {
          "data": {
            "text/plain": [
              "Text(0, 0.5, 'Accuracy')"
            ]
          },
          "execution_count": 40,
          "metadata": {},
          "output_type": "execute_result"
        },
        {
          "data": {
            "image/png": "[encoded data removed]",
            "text/plain": [
              "<Figure size 432x288 with 1 Axes>"
            ]
          },
          "metadata": {
            "needs_background": "light"
          },
          "output_type": "display_data"
        }
      ],
      "source": [
        "# plot accuracy\n",
        "plt.plot(history_adam.history['accuracy'], label='accuracy')\n",
        "plt.plot(history_adam.history['val_accuracy'], label='val_accuracy')\n",
        "plt.title(\"Adam optimizer Accuracy\")\n",
        "plt.xlabel(\"Epochs\")\n",
        "plt.ylabel(\"Accuracy\")"
      ]
    },
    {
      "cell_type": "markdown",
      "metadata": {
        "id": "nEnQqmh5d6h1"
      },
      "source": [
        "### Adagrad - Adaptive Gradients\n",
        "##### The Learning rate changes during each update in such a way that it will decrease if a weight is being updated too much in a short amount of time and it will increase if a weight is not being updated much."
      ]
    },
    {
      "cell_type": "code",
      "execution_count": null,
      "metadata": {},
      "outputs": [],
      "source": [
        "# splitting into training and testing data\n",
        "X_train, X_test, y_train, y_test = train_test_split(X_scaled, y, test_size=0.1)\n",
        "print(\"X_train shape: \", X_train.shape)\n",
        "print(\"X_test shape: \", X_test.shape)\n",
        "print(\"y_train shape: \", y_train.shape)\n",
        "print(\"y_test shape: \", y_test.shape)"
      ]
    },
    {
      "cell_type": "code",
      "execution_count": 41,
      "metadata": {
        "id": "xLCtepWRgGzc"
      },
      "outputs": [],
      "source": [
        "# define model\n",
        "model_adagrad = models.Sequential()\n",
        "model_adagrad.add(layers.Dense(100, activation=\"relu\"))\n",
        "model_adagrad.add(layers.Dense(50, activation=\"relu\"))\n",
        "model_adagrad.add(layers.Dense(25, activation=\"relu\"))\n",
        "model_adagrad.add(layers.Dense(12, activation=\"relu\"))\n",
        "model_adagrad.add(layers.Dense(1, activation=\"sigmoid\"))"
      ]
    },
    {
      "cell_type": "code",
      "execution_count": 42,
      "metadata": {
        "id": "EMdGhCkzeN_u"
      },
      "outputs": [],
      "source": [
        "# adam optimizer \n",
        "model_adagrad.compile(optimizer=\"Adagrad\", loss=\"binary_crossentropy\", metrics=[\"accuracy\"])"
      ]
    },
    {
      "cell_type": "code",
      "execution_count": 43,
      "metadata": {
        "colab": {
          "base_uri": "https://localhost:8080/"
        },
        "id": "udwlRYINdCFW",
        "outputId": "aa0b39d9-a73c-4127-e7ea-6a6664743d3d"
      },
      "outputs": [
        {
          "name": "stdout",
          "output_type": "stream",
          "text": [
            "Epoch 1/15\n",
            "18/18 [==============================] - 1s 36ms/step - loss: 0.6998 - accuracy: 0.3895 - val_loss: 0.6986 - val_accuracy: 0.4388\n",
            "Epoch 2/15\n",
            "18/18 [==============================] - 0s 13ms/step - loss: 0.6987 - accuracy: 0.4239 - val_loss: 0.6978 - val_accuracy: 0.4676\n",
            "Epoch 3/15\n",
            "18/18 [==============================] - 0s 8ms/step - loss: 0.6978 - accuracy: 0.4275 - val_loss: 0.6970 - val_accuracy: 0.5180\n",
            "Epoch 4/15\n",
            "18/18 [==============================] - 0s 8ms/step - loss: 0.6971 - accuracy: 0.4438 - val_loss: 0.6964 - val_accuracy: 0.5468\n",
            "Epoch 5/15\n",
            "18/18 [==============================] - 0s 13ms/step - loss: 0.6964 - accuracy: 0.4620 - val_loss: 0.6958 - val_accuracy: 0.5540\n",
            "Epoch 6/15\n",
            "18/18 [==============================] - 0s 8ms/step - loss: 0.6957 - accuracy: 0.4801 - val_loss: 0.6952 - val_accuracy: 0.5683\n",
            "Epoch 7/15\n",
            "18/18 [==============================] - 0s 8ms/step - loss: 0.6951 - accuracy: 0.4928 - val_loss: 0.6947 - val_accuracy: 0.5755\n",
            "Epoch 8/15\n",
            "18/18 [==============================] - 0s 11ms/step - loss: 0.6945 - accuracy: 0.5018 - val_loss: 0.6942 - val_accuracy: 0.5827\n",
            "Epoch 9/15\n",
            "18/18 [==============================] - 0s 10ms/step - loss: 0.6939 - accuracy: 0.5199 - val_loss: 0.6938 - val_accuracy: 0.5899\n",
            "Epoch 10/15\n",
            "18/18 [==============================] - 0s 6ms/step - loss: 0.6933 - accuracy: 0.5344 - val_loss: 0.6933 - val_accuracy: 0.5971\n",
            "Epoch 11/15\n",
            "18/18 [==============================] - 0s 21ms/step - loss: 0.6928 - accuracy: 0.5417 - val_loss: 0.6929 - val_accuracy: 0.5899\n",
            "Epoch 12/15\n",
            "18/18 [==============================] - 0s 7ms/step - loss: 0.6923 - accuracy: 0.5453 - val_loss: 0.6925 - val_accuracy: 0.6043\n",
            "Epoch 13/15\n",
            "18/18 [==============================] - 0s 7ms/step - loss: 0.6918 - accuracy: 0.5634 - val_loss: 0.6922 - val_accuracy: 0.6259\n",
            "Epoch 14/15\n",
            "18/18 [==============================] - 0s 12ms/step - loss: 0.6913 - accuracy: 0.5761 - val_loss: 0.6918 - val_accuracy: 0.6331\n",
            "Epoch 15/15\n",
            "18/18 [==============================] - 0s 9ms/step - loss: 0.6908 - accuracy: 0.5815 - val_loss: 0.6915 - val_accuracy: 0.6331\n"
          ]
        }
      ],
      "source": [
        "# train adagrad model\n",
        "history_adagrad = model_adagrad.fit(X_train, y_train, epochs=15, validation_data=(X_test, y_test), validation_split=0.2)"
      ]
    },
    {
      "cell_type": "code",
      "execution_count": 44,
      "metadata": {
        "colab": {
          "base_uri": "https://localhost:8080/",
          "height": 312
        },
        "id": "INSlrFDIe-A9",
        "outputId": "28871980-0419-4bcc-e461-f8904225e31d"
      },
      "outputs": [
        {
          "data": {
            "text/plain": [
              "Text(0, 0.5, 'Accuracy')"
            ]
          },
          "execution_count": 44,
          "metadata": {},
          "output_type": "execute_result"
        },
        {
          "data": {
            "image/png": "[encoded data removed]",
            "text/plain": [
              "<Figure size 432x288 with 1 Axes>"
            ]
          },
          "metadata": {
            "needs_background": "light"
          },
          "output_type": "display_data"
        }
      ],
      "source": [
        "# plot accuracy\n",
        "plt.plot(history_adagrad.history['accuracy'], label='accuracy')\n",
        "plt.plot(history_adagrad.history['val_accuracy'], label='val_accuracy')\n",
        "plt.title(\"Adagrad optimizer Accuracy\")\n",
        "plt.xlabel(\"Epochs\")\n",
        "plt.ylabel(\"Accuracy\")"
      ]
    },
    {
      "cell_type": "markdown",
      "metadata": {
        "id": "dseHit_OeCZF"
      },
      "source": [
        "### RMSprop\n",
        "##### The learning rate changes constantly based on the weight being updated just like adagrad, but at same time the learning rate dows not decay too quickly."
      ]
    },
    {
      "cell_type": "code",
      "execution_count": null,
      "metadata": {},
      "outputs": [],
      "source": [
        "# splitting into training and testing data\n",
        "X_train, X_test, y_train, y_test = train_test_split(X_scaled, y, test_size=0.1)\n",
        "print(\"X_train shape: \", X_train.shape)\n",
        "print(\"X_test shape: \", X_test.shape)\n",
        "print(\"y_train shape: \", y_train.shape)\n",
        "print(\"y_test shape: \", y_test.shape)"
      ]
    },
    {
      "cell_type": "code",
      "execution_count": 45,
      "metadata": {
        "id": "7R0xotn-gU16"
      },
      "outputs": [],
      "source": [
        "# define model\n",
        "model_rmsprop = models.Sequential()\n",
        "model_rmsprop.add(layers.Dense(100, activation=\"relu\"))\n",
        "model_rmsprop.add(layers.Dense(50, activation=\"relu\"))\n",
        "model_rmsprop.add(layers.Dense(25, activation=\"relu\"))\n",
        "model_rmsprop.add(layers.Dense(12, activation=\"relu\"))\n",
        "model_rmsprop.add(layers.Dense(1, activation=\"sigmoid\"))"
      ]
    },
    {
      "cell_type": "code",
      "execution_count": 46,
      "metadata": {
        "id": "n4Xm8Ny8duXE"
      },
      "outputs": [],
      "source": [
        "# adam optimizer \n",
        "model_rmsprop.compile(optimizer=\"RMSprop\", loss=\"binary_crossentropy\", metrics=[\"accuracy\"])"
      ]
    },
    {
      "cell_type": "code",
      "execution_count": 47,
      "metadata": {
        "colab": {
          "base_uri": "https://localhost:8080/"
        },
        "id": "sjlgeJB1dC2t",
        "outputId": "407cdf92-8064-4e75-ad6b-78f0aef5d197"
      },
      "outputs": [
        {
          "name": "stdout",
          "output_type": "stream",
          "text": [
            "Epoch 1/15\n",
            "22/22 [==============================] - 2s 23ms/step - loss: 0.5562 - accuracy: 0.7670 - val_loss: 0.5315 - val_accuracy: 0.7013\n",
            "Epoch 2/15\n",
            "22/22 [==============================] - 0s 15ms/step - loss: 0.4794 - accuracy: 0.7728 - val_loss: 0.5252 - val_accuracy: 0.7013\n",
            "Epoch 3/15\n",
            "22/22 [==============================] - 0s 7ms/step - loss: 0.4587 - accuracy: 0.7815 - val_loss: 0.5404 - val_accuracy: 0.6753\n",
            "Epoch 4/15\n",
            "22/22 [==============================] - 0s 19ms/step - loss: 0.4466 - accuracy: 0.7873 - val_loss: 0.5155 - val_accuracy: 0.6883\n",
            "Epoch 5/15\n",
            "22/22 [==============================] - 0s 8ms/step - loss: 0.4351 - accuracy: 0.7988 - val_loss: 0.5310 - val_accuracy: 0.7013\n",
            "Epoch 6/15\n",
            "22/22 [==============================] - 0s 12ms/step - loss: 0.4321 - accuracy: 0.7988 - val_loss: 0.5307 - val_accuracy: 0.6364\n",
            "Epoch 7/15\n",
            "22/22 [==============================] - 0s 9ms/step - loss: 0.4241 - accuracy: 0.7988 - val_loss: 0.5162 - val_accuracy: 0.6753\n",
            "Epoch 8/15\n",
            "22/22 [==============================] - 0s 9ms/step - loss: 0.4198 - accuracy: 0.7945 - val_loss: 0.5307 - val_accuracy: 0.6883\n",
            "Epoch 9/15\n",
            "22/22 [==============================] - 0s 12ms/step - loss: 0.4120 - accuracy: 0.7988 - val_loss: 0.5326 - val_accuracy: 0.7013\n",
            "Epoch 10/15\n",
            "22/22 [==============================] - 0s 7ms/step - loss: 0.4046 - accuracy: 0.8104 - val_loss: 0.5361 - val_accuracy: 0.6883\n",
            "Epoch 11/15\n",
            "22/22 [==============================] - 0s 15ms/step - loss: 0.4006 - accuracy: 0.8177 - val_loss: 0.5348 - val_accuracy: 0.6623\n",
            "Epoch 12/15\n",
            "22/22 [==============================] - 0s 7ms/step - loss: 0.3950 - accuracy: 0.8162 - val_loss: 0.5149 - val_accuracy: 0.7013\n",
            "Epoch 13/15\n",
            "22/22 [==============================] - 0s 16ms/step - loss: 0.3872 - accuracy: 0.8191 - val_loss: 0.5364 - val_accuracy: 0.6623\n",
            "Epoch 14/15\n",
            "22/22 [==============================] - 0s 8ms/step - loss: 0.3849 - accuracy: 0.8278 - val_loss: 0.5356 - val_accuracy: 0.6494\n",
            "Epoch 15/15\n",
            "22/22 [==============================] - 0s 11ms/step - loss: 0.3765 - accuracy: 0.8336 - val_loss: 0.5214 - val_accuracy: 0.6753\n"
          ]
        }
      ],
      "source": [
        "# train rmsprop model\n",
        "history_rmsprop = model_rmsprop.fit(X_train, y_train, epochs=15, validation_data=(X_test, y_test), validation_split=0.2)"
      ]
    },
    {
      "cell_type": "code",
      "execution_count": 48,
      "metadata": {
        "colab": {
          "base_uri": "https://localhost:8080/",
          "height": 312
        },
        "id": "BCSObZyZfHnA",
        "outputId": "85296719-3c5b-48ad-9dcb-fc453949d2f7"
      },
      "outputs": [
        {
          "data": {
            "text/plain": [
              "Text(0, 0.5, 'Accuracy')"
            ]
          },
          "execution_count": 48,
          "metadata": {},
          "output_type": "execute_result"
        },
        {
          "data": {
            "image/png": "[encoded data removed]",
            "text/plain": [
              "<Figure size 432x288 with 1 Axes>"
            ]
          },
          "metadata": {
            "needs_background": "light"
          },
          "output_type": "display_data"
        }
      ],
      "source": [
        "# plot accuracy\n",
        "plt.plot(history_rmsprop.history['accuracy'], label='accuracy')\n",
        "plt.plot(history_rmsprop.history['val_accuracy'], label='val_accuracy')\n",
        "plt.title(\"RMSprop optimizer Accuracy\")\n",
        "plt.xlabel(\"Epochs\")\n",
        "plt.ylabel(\"Accuracy\")"
      ]
    },
    {
      "cell_type": "markdown",
      "metadata": {
        "id": "Q9OOGra_eG8M"
      },
      "source": [
        "### Sgd - Stochastic Gradient Descent\n",
        "##### Instead of taking entire data at one time, in SGD we take single record at a time to feed neural network and to update weights. SGD is updated more frequently, the cost function will have severe oscillations as we can see in the figure. The oscillation of SGD may jump to a better local minimum.\n"
      ]
    },
    {
      "cell_type": "code",
      "execution_count": null,
      "metadata": {},
      "outputs": [],
      "source": [
        "# splitting into training and testing data\n",
        "X_train, X_test, y_train, y_test = train_test_split(X_scaled, y, test_size=0.1)\n",
        "print(\"X_train shape: \", X_train.shape)\n",
        "print(\"X_test shape: \", X_test.shape)\n",
        "print(\"y_train shape: \", y_train.shape)\n",
        "print(\"y_test shape: \", y_test.shape)"
      ]
    },
    {
      "cell_type": "code",
      "execution_count": 49,
      "metadata": {
        "id": "ezdIq3tZgcKs"
      },
      "outputs": [],
      "source": [
        "# define model\n",
        "model_sgd = models.Sequential()\n",
        "model_sgd.add(layers.Dense(100, activation=\"relu\"))\n",
        "model_sgd.add(layers.Dense(50, activation=\"relu\"))\n",
        "model_sgd.add(layers.Dense(25, activation=\"relu\"))\n",
        "model_sgd.add(layers.Dense(12, activation=\"relu\"))\n",
        "model_sgd.add(layers.Dense(1, activation=\"sigmoid\"))"
      ]
    },
    {
      "cell_type": "code",
      "execution_count": 50,
      "metadata": {
        "id": "amViL8a9eRDC"
      },
      "outputs": [],
      "source": [
        "# adam optimizer \n",
        "model_sgd.compile(optimizer=\"sgd\", loss=\"binary_crossentropy\", metrics=[\"accuracy\"])"
      ]
    },
    {
      "cell_type": "code",
      "execution_count": 51,
      "metadata": {
        "colab": {
          "base_uri": "https://localhost:8080/"
        },
        "id": "4ezfP5oGdDij",
        "outputId": "a41b8b05-b159-45b5-bf4e-f2a2840bb780"
      },
      "outputs": [
        {
          "name": "stdout",
          "output_type": "stream",
          "text": [
            "Epoch 1/15\n",
            "22/22 [==============================] - 1s 19ms/step - loss: 0.6574 - accuracy: 0.6556 - val_loss: 0.6322 - val_accuracy: 0.6623\n",
            "Epoch 2/15\n",
            "22/22 [==============================] - 0s 6ms/step - loss: 0.6377 - accuracy: 0.6512 - val_loss: 0.6152 - val_accuracy: 0.6623\n",
            "Epoch 3/15\n",
            "22/22 [==============================] - 0s 7ms/step - loss: 0.6207 - accuracy: 0.6512 - val_loss: 0.6010 - val_accuracy: 0.6753\n",
            "Epoch 4/15\n",
            "22/22 [==============================] - 0s 11ms/step - loss: 0.6042 - accuracy: 0.6556 - val_loss: 0.5875 - val_accuracy: 0.6753\n",
            "Epoch 5/15\n",
            "22/22 [==============================] - 0s 6ms/step - loss: 0.5889 - accuracy: 0.6628 - val_loss: 0.5749 - val_accuracy: 0.7013\n",
            "Epoch 6/15\n",
            "22/22 [==============================] - 0s 13ms/step - loss: 0.5736 - accuracy: 0.6802 - val_loss: 0.5632 - val_accuracy: 0.7403\n",
            "Epoch 7/15\n",
            "22/22 [==============================] - 0s 7ms/step - loss: 0.5586 - accuracy: 0.6932 - val_loss: 0.5541 - val_accuracy: 0.7662\n",
            "Epoch 8/15\n",
            "22/22 [==============================] - 0s 7ms/step - loss: 0.5454 - accuracy: 0.7178 - val_loss: 0.5460 - val_accuracy: 0.7662\n",
            "Epoch 9/15\n",
            "22/22 [==============================] - 0s 10ms/step - loss: 0.5337 - accuracy: 0.7279 - val_loss: 0.5400 - val_accuracy: 0.7403\n",
            "Epoch 10/15\n",
            "22/22 [==============================] - 0s 7ms/step - loss: 0.5231 - accuracy: 0.7424 - val_loss: 0.5354 - val_accuracy: 0.7532\n",
            "Epoch 11/15\n",
            "22/22 [==============================] - 0s 7ms/step - loss: 0.5136 - accuracy: 0.7482 - val_loss: 0.5319 - val_accuracy: 0.7143\n",
            "Epoch 12/15\n",
            "22/22 [==============================] - 0s 9ms/step - loss: 0.5053 - accuracy: 0.7656 - val_loss: 0.5296 - val_accuracy: 0.7013\n",
            "Epoch 13/15\n",
            "22/22 [==============================] - 0s 8ms/step - loss: 0.4979 - accuracy: 0.7742 - val_loss: 0.5268 - val_accuracy: 0.7013\n",
            "Epoch 14/15\n",
            "22/22 [==============================] - 0s 6ms/step - loss: 0.4913 - accuracy: 0.7742 - val_loss: 0.5239 - val_accuracy: 0.7013\n",
            "Epoch 15/15\n",
            "22/22 [==============================] - 0s 15ms/step - loss: 0.4852 - accuracy: 0.7800 - val_loss: 0.5196 - val_accuracy: 0.7013\n"
          ]
        }
      ],
      "source": [
        "# train sgd model\n",
        "history_sgd = model_sgd.fit(X_train, y_train, epochs=15, validation_data=(X_test, y_test), validation_split=0.2)"
      ]
    },
    {
      "cell_type": "code",
      "execution_count": 52,
      "metadata": {
        "colab": {
          "base_uri": "https://localhost:8080/",
          "height": 312
        },
        "id": "lnjXSBTzfRqK",
        "outputId": "f8547f34-7968-45b7-f973-81ecd76c1c94"
      },
      "outputs": [
        {
          "data": {
            "text/plain": [
              "Text(0, 0.5, 'Accuracy')"
            ]
          },
          "execution_count": 52,
          "metadata": {},
          "output_type": "execute_result"
        },
        {
          "data": {
            "image/png": "[encoded data removed]",
            "text/plain": [
              "<Figure size 432x288 with 1 Axes>"
            ]
          },
          "metadata": {
            "needs_background": "light"
          },
          "output_type": "display_data"
        }
      ],
      "source": [
        "# plot accuracy\n",
        "plt.plot(history_sgd.history['accuracy'], label='accuracy')\n",
        "plt.plot(history_sgd.history['val_accuracy'], label='val_accuracy')\n",
        "plt.title(\"Sgd optimizer Accuracy\")\n",
        "plt.xlabel(\"Epochs\")\n",
        "plt.ylabel(\"Accuracy\")"
      ]
    }
  ],
  "metadata": {
    "colab": {
      "collapsed_sections": [
        "Qkv3BCfZd3lY",
        "nEnQqmh5d6h1",
        "dseHit_OeCZF",
        "Q9OOGra_eG8M"
      ],
      "provenance": []
    },
    "kernelspec": {
      "display_name": "Python 3.8.5 ('base')",
      "language": "python",
      "name": "python3"
    },
    "language_info": {
      "codemirror_mode": {
        "name": "ipython",
        "version": 3
      },
      "file_extension": ".py",
      "mimetype": "text/x-python",
      "name": "python",
      "nbconvert_exporter": "python",
      "pygments_lexer": "ipython3",
      "version": "3.8.5"
    },
    "vscode": {
      "interpreter": {
        "hash": "8891f3cfb547db503e78f25128202364d60f1c09259e140a1bd236c27b0b7a43"
      }
    }
  },
  "nbformat": 4,
  "nbformat_minor": 0
}
