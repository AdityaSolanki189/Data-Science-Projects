{
  "nbformat": 4,
  "nbformat_minor": 0,
  "metadata": {
    "colab": {
      "provenance": [],
      "collapsed_sections": []
    },
    "kernelspec": {
      "name": "python3",
      "display_name": "Python 3"
    },
    "language_info": {
      "name": "python"
    }
  },
  "cells": [
    {
      "cell_type": "code",
      "execution_count": 2,
      "metadata": {
        "id": "QzQ1ipA37cC_"
      },
      "outputs": [],
      "source": [
        "import pandas as pd\n",
        "import numpy as np\n",
        "import tensorflow as tf\n",
        "from tensorflow import keras\n",
        "from tensorflow.keras import layers, models\n",
        "from sklearn.model_selection import train_test_split\n",
        "from sklearn.preprocessing import StandardScaler"
      ]
    },
    {
      "cell_type": "code",
      "source": [
        "df = pd.read_csv(\"diabetes1.csv\")"
      ],
      "metadata": {
        "id": "SNyqYe6f8XX1"
      },
      "execution_count": 3,
      "outputs": []
    },
    {
      "cell_type": "code",
      "source": [
        "x = df.iloc[:,0:8]\n",
        "y = df[\"Outcome\"]"
      ],
      "metadata": {
        "id": "uTrfbwlD9YdI"
      },
      "execution_count": 5,
      "outputs": []
    },
    {
      "cell_type": "code",
      "source": [
        "obj = StandardScaler()"
      ],
      "metadata": {
        "id": "KkhjfwBK9gh4"
      },
      "execution_count": 6,
      "outputs": []
    },
    {
      "cell_type": "code",
      "source": [
        "x_ = obj.fit_transform(x)\n",
        "Xtrain, Xtest, Ytrain, Ytest = train_test_split(x_, y, test_size=0.1)"
      ],
      "metadata": {
        "id": "sew5COh8990A"
      },
      "execution_count": 7,
      "outputs": []
    },
    {
      "cell_type": "code",
      "source": [
        "model = models.Sequential()\n",
        "model.add(layers.Dense(100, activation=\"relu\"))\n",
        "model.add(layers.Dense(75, activation=\"relu\"))\n",
        "model.add(layers.Dense(50, activation=\"relu\"))\n",
        "model.add(layers.Dense(25, activation=\"relu\"))\n",
        "model.add(layers.Dense(12, activation=\"relu\"))\n",
        "model.add(layers.Dense(8, activation=\"relu\"))\n",
        "model.add(layers.Dense(1, activation=\"sigmoid\"))"
      ],
      "metadata": {
        "id": "q7zim7zp-drO"
      },
      "execution_count": 8,
      "outputs": []
    },
    {
      "cell_type": "code",
      "source": [
        "model.compile(optimizer=\"adam\", loss=\"binary_crossentropy\", metrics=[\"accuracy\"])"
      ],
      "metadata": {
        "id": "-rmIMJFN--Df"
      },
      "execution_count": 9,
      "outputs": []
    },
    {
      "cell_type": "code",
      "source": [
        "history = model.fit(Xtrain, Ytrain, epochs=50, validation_data=(Xtest, Ytest))"
      ],
      "metadata": {
        "colab": {
          "base_uri": "https://localhost:8080/"
        },
        "id": "3XBKXVA6_Nmz",
        "outputId": "399363e6-e036-48ee-a06f-fa744feda493"
      },
      "execution_count": 10,
      "outputs": [
        {
          "output_type": "stream",
          "name": "stdout",
          "text": [
            "Epoch 1/50\n",
            "22/22 [==============================] - 1s 14ms/step - loss: 0.6686 - accuracy: 0.6382 - val_loss: 0.6307 - val_accuracy: 0.7143\n",
            "Epoch 2/50\n",
            "22/22 [==============================] - 0s 5ms/step - loss: 0.5506 - accuracy: 0.7352 - val_loss: 0.5303 - val_accuracy: 0.7403\n",
            "Epoch 3/50\n",
            "22/22 [==============================] - 0s 5ms/step - loss: 0.4753 - accuracy: 0.7742 - val_loss: 0.5114 - val_accuracy: 0.7013\n",
            "Epoch 4/50\n",
            "22/22 [==============================] - 0s 5ms/step - loss: 0.4586 - accuracy: 0.7916 - val_loss: 0.4980 - val_accuracy: 0.7532\n",
            "Epoch 5/50\n",
            "22/22 [==============================] - 0s 5ms/step - loss: 0.4386 - accuracy: 0.8075 - val_loss: 0.5116 - val_accuracy: 0.6883\n",
            "Epoch 6/50\n",
            "22/22 [==============================] - 0s 7ms/step - loss: 0.4349 - accuracy: 0.8003 - val_loss: 0.4947 - val_accuracy: 0.7662\n",
            "Epoch 7/50\n",
            "22/22 [==============================] - 0s 5ms/step - loss: 0.4278 - accuracy: 0.8061 - val_loss: 0.5088 - val_accuracy: 0.7013\n",
            "Epoch 8/50\n",
            "22/22 [==============================] - 0s 7ms/step - loss: 0.4197 - accuracy: 0.8104 - val_loss: 0.5241 - val_accuracy: 0.6494\n",
            "Epoch 9/50\n",
            "22/22 [==============================] - 0s 6ms/step - loss: 0.4069 - accuracy: 0.8148 - val_loss: 0.5323 - val_accuracy: 0.6364\n",
            "Epoch 10/50\n",
            "22/22 [==============================] - 0s 5ms/step - loss: 0.4054 - accuracy: 0.8220 - val_loss: 0.5121 - val_accuracy: 0.7013\n",
            "Epoch 11/50\n",
            "22/22 [==============================] - 0s 5ms/step - loss: 0.3934 - accuracy: 0.8191 - val_loss: 0.5532 - val_accuracy: 0.6753\n",
            "Epoch 12/50\n",
            "22/22 [==============================] - 0s 4ms/step - loss: 0.3878 - accuracy: 0.8307 - val_loss: 0.5363 - val_accuracy: 0.6753\n",
            "Epoch 13/50\n",
            "22/22 [==============================] - 0s 4ms/step - loss: 0.3785 - accuracy: 0.8321 - val_loss: 0.5387 - val_accuracy: 0.7013\n",
            "Epoch 14/50\n",
            "22/22 [==============================] - 0s 11ms/step - loss: 0.3695 - accuracy: 0.8278 - val_loss: 0.5490 - val_accuracy: 0.6883\n",
            "Epoch 15/50\n",
            "22/22 [==============================] - 0s 16ms/step - loss: 0.3601 - accuracy: 0.8394 - val_loss: 0.5955 - val_accuracy: 0.6883\n",
            "Epoch 16/50\n",
            "22/22 [==============================] - 0s 16ms/step - loss: 0.3593 - accuracy: 0.8437 - val_loss: 0.5698 - val_accuracy: 0.7013\n",
            "Epoch 17/50\n",
            "22/22 [==============================] - 0s 13ms/step - loss: 0.3436 - accuracy: 0.8567 - val_loss: 0.6079 - val_accuracy: 0.7013\n",
            "Epoch 18/50\n",
            "22/22 [==============================] - 0s 9ms/step - loss: 0.3309 - accuracy: 0.8596 - val_loss: 0.5809 - val_accuracy: 0.7013\n",
            "Epoch 19/50\n",
            "22/22 [==============================] - 0s 8ms/step - loss: 0.3199 - accuracy: 0.8726 - val_loss: 0.6470 - val_accuracy: 0.6753\n",
            "Epoch 20/50\n",
            "22/22 [==============================] - 0s 5ms/step - loss: 0.3270 - accuracy: 0.8524 - val_loss: 0.5827 - val_accuracy: 0.6883\n",
            "Epoch 21/50\n",
            "22/22 [==============================] - 0s 5ms/step - loss: 0.3056 - accuracy: 0.8669 - val_loss: 0.6112 - val_accuracy: 0.6753\n",
            "Epoch 22/50\n",
            "22/22 [==============================] - 0s 5ms/step - loss: 0.3073 - accuracy: 0.8726 - val_loss: 0.6447 - val_accuracy: 0.7273\n",
            "Epoch 23/50\n",
            "22/22 [==============================] - 0s 5ms/step - loss: 0.2821 - accuracy: 0.8857 - val_loss: 0.7058 - val_accuracy: 0.6883\n",
            "Epoch 24/50\n",
            "22/22 [==============================] - 0s 6ms/step - loss: 0.2768 - accuracy: 0.8857 - val_loss: 0.6489 - val_accuracy: 0.6883\n",
            "Epoch 25/50\n",
            "22/22 [==============================] - 0s 5ms/step - loss: 0.2598 - accuracy: 0.8958 - val_loss: 0.6717 - val_accuracy: 0.6623\n",
            "Epoch 26/50\n",
            "22/22 [==============================] - 0s 6ms/step - loss: 0.2712 - accuracy: 0.8828 - val_loss: 0.7306 - val_accuracy: 0.6623\n",
            "Epoch 27/50\n",
            "22/22 [==============================] - 0s 5ms/step - loss: 0.2419 - accuracy: 0.9059 - val_loss: 0.6927 - val_accuracy: 0.6883\n",
            "Epoch 28/50\n",
            "22/22 [==============================] - 0s 4ms/step - loss: 0.2241 - accuracy: 0.9132 - val_loss: 0.6963 - val_accuracy: 0.6753\n",
            "Epoch 29/50\n",
            "22/22 [==============================] - 0s 5ms/step - loss: 0.2238 - accuracy: 0.9146 - val_loss: 0.7294 - val_accuracy: 0.6364\n",
            "Epoch 30/50\n",
            "22/22 [==============================] - 0s 4ms/step - loss: 0.1997 - accuracy: 0.9378 - val_loss: 0.7923 - val_accuracy: 0.7013\n",
            "Epoch 31/50\n",
            "22/22 [==============================] - 0s 4ms/step - loss: 0.1905 - accuracy: 0.9291 - val_loss: 0.7579 - val_accuracy: 0.7273\n",
            "Epoch 32/50\n",
            "22/22 [==============================] - 0s 4ms/step - loss: 0.1919 - accuracy: 0.9247 - val_loss: 0.7863 - val_accuracy: 0.6753\n",
            "Epoch 33/50\n",
            "22/22 [==============================] - 0s 5ms/step - loss: 0.1914 - accuracy: 0.9262 - val_loss: 0.7873 - val_accuracy: 0.7013\n",
            "Epoch 34/50\n",
            "22/22 [==============================] - 0s 4ms/step - loss: 0.1738 - accuracy: 0.9349 - val_loss: 0.7938 - val_accuracy: 0.7143\n",
            "Epoch 35/50\n",
            "22/22 [==============================] - 0s 5ms/step - loss: 0.1686 - accuracy: 0.9378 - val_loss: 0.8378 - val_accuracy: 0.6883\n",
            "Epoch 36/50\n",
            "22/22 [==============================] - 0s 5ms/step - loss: 0.1720 - accuracy: 0.9450 - val_loss: 0.8806 - val_accuracy: 0.7143\n",
            "Epoch 37/50\n",
            "22/22 [==============================] - 0s 4ms/step - loss: 0.1750 - accuracy: 0.9465 - val_loss: 0.7815 - val_accuracy: 0.7013\n",
            "Epoch 38/50\n",
            "22/22 [==============================] - 0s 5ms/step - loss: 0.1549 - accuracy: 0.9479 - val_loss: 0.8604 - val_accuracy: 0.7143\n",
            "Epoch 39/50\n",
            "22/22 [==============================] - 0s 6ms/step - loss: 0.1634 - accuracy: 0.9450 - val_loss: 0.9127 - val_accuracy: 0.6364\n",
            "Epoch 40/50\n",
            "22/22 [==============================] - 0s 6ms/step - loss: 0.1489 - accuracy: 0.9465 - val_loss: 0.8391 - val_accuracy: 0.6753\n",
            "Epoch 41/50\n",
            "22/22 [==============================] - 0s 5ms/step - loss: 0.1288 - accuracy: 0.9609 - val_loss: 0.9122 - val_accuracy: 0.6753\n",
            "Epoch 42/50\n",
            "22/22 [==============================] - 0s 5ms/step - loss: 0.1116 - accuracy: 0.9653 - val_loss: 1.0090 - val_accuracy: 0.6753\n",
            "Epoch 43/50\n",
            "22/22 [==============================] - 0s 5ms/step - loss: 0.1086 - accuracy: 0.9638 - val_loss: 1.0183 - val_accuracy: 0.6494\n",
            "Epoch 44/50\n",
            "22/22 [==============================] - 0s 5ms/step - loss: 0.1148 - accuracy: 0.9580 - val_loss: 0.9869 - val_accuracy: 0.6883\n",
            "Epoch 45/50\n",
            "22/22 [==============================] - 0s 5ms/step - loss: 0.1045 - accuracy: 0.9696 - val_loss: 1.0269 - val_accuracy: 0.6753\n",
            "Epoch 46/50\n",
            "22/22 [==============================] - 0s 4ms/step - loss: 0.1247 - accuracy: 0.9551 - val_loss: 0.8421 - val_accuracy: 0.7013\n",
            "Epoch 47/50\n",
            "22/22 [==============================] - 0s 4ms/step - loss: 0.1049 - accuracy: 0.9638 - val_loss: 0.9714 - val_accuracy: 0.6753\n",
            "Epoch 48/50\n",
            "22/22 [==============================] - 0s 4ms/step - loss: 0.0822 - accuracy: 0.9682 - val_loss: 1.0095 - val_accuracy: 0.7143\n",
            "Epoch 49/50\n",
            "22/22 [==============================] - 0s 5ms/step - loss: 0.1228 - accuracy: 0.9493 - val_loss: 1.2789 - val_accuracy: 0.6494\n",
            "Epoch 50/50\n",
            "22/22 [==============================] - 0s 5ms/step - loss: 0.1083 - accuracy: 0.9609 - val_loss: 1.2672 - val_accuracy: 0.7013\n"
          ]
        }
      ]
    },
    {
      "cell_type": "code",
      "source": [
        "result = model.evaluate(Xtest, Ytest)"
      ],
      "metadata": {
        "colab": {
          "base_uri": "https://localhost:8080/"
        },
        "id": "ZLH0Pe4y_ci9",
        "outputId": "57bbceab-ac71-4ccf-a03e-ae6ee119c086"
      },
      "execution_count": 11,
      "outputs": [
        {
          "output_type": "stream",
          "name": "stdout",
          "text": [
            "3/3 [==============================] - 0s 10ms/step - loss: 1.2672 - accuracy: 0.7013\n"
          ]
        }
      ]
    },
    {
      "cell_type": "code",
      "source": [
        "import matplotlib.pyplot as plt\n",
        "plt.plot(history.history['loss'], label='loss')\n",
        "plt.plot(history.history['val_accuracy'], label='val_accuracy')\n",
        "plt.xlabel('Epoch')\n",
        "plt.ylabel('loss')\n",
        "plt.ylim([0, 0.8])\n",
        "plt.legend(loc='lower left')"
      ],
      "metadata": {
        "colab": {
          "base_uri": "https://localhost:8080/",
          "height": 301
        },
        "id": "Kj4OuqpO_pve",
        "outputId": "0b776219-0412-43f3-c804-3f76f9dbeef7"
      },
      "execution_count": 18,
      "outputs": [
        {
          "output_type": "execute_result",
          "data": {
            "text/plain": [
              "<matplotlib.legend.Legend at 0x7f5dc07d6b90>"
            ]
          },
          "metadata": {},
          "execution_count": 18
        },
        {
          "output_type": "display_data",
          "data": {
            "text/plain": [
              "<Figure size 432x288 with 1 Axes>"
            ],
            "image/png": "[encoded data removed]"
          },
          "metadata": {
            "needs_background": "light"
          }
        }
      ]
    },
    {
      "cell_type": "code",
      "source": [
        "test_loss, test_acc = model.evaluate(Xtest, Ytest, verbose=2)\n",
        "plt.xlabel('Epoch')\n",
        "plt.ylabel('Accuracy')\n",
        "plt.ylim(0.6,1)\n",
        "plt.plot(history.history['accuracy'], label='accuracy')"
      ],
      "metadata": {
        "colab": {
          "base_uri": "https://localhost:8080/",
          "height": 320
        },
        "id": "kc3buKlEAIgh",
        "outputId": "bb064ae3-751a-4a71-d0da-51a94172fca7"
      },
      "execution_count": 19,
      "outputs": [
        {
          "output_type": "stream",
          "name": "stdout",
          "text": [
            "3/3 - 0s - loss: 1.2672 - accuracy: 0.7013 - 31ms/epoch - 10ms/step\n"
          ]
        },
        {
          "output_type": "execute_result",
          "data": {
            "text/plain": [
              "[<matplotlib.lines.Line2D at 0x7f5dc067d710>]"
            ]
          },
          "metadata": {},
          "execution_count": 19
        },
        {
          "output_type": "display_data",
          "data": {
            "text/plain": [
              "<Figure size 432x288 with 1 Axes>"
            ],
            "image/png": "[encoded data removed]"
          },
          "metadata": {
            "needs_background": "light"
          }
        }
      ]
    }
  ]
}