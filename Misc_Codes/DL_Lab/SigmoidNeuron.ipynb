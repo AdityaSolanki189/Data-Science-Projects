{
 "cells": [
  {
   "cell_type": "code",
   "execution_count": 1,
   "metadata": {},
   "outputs": [],
   "source": [
    "def SigmoidNeuron(x, w, bias):\n",
    "    sum = 0\n",
    "    for i in range(0,len(x)):\n",
    "        sum += x[i]*w[i]\n",
    "\n",
    "    return 1/(1+2.71**(-(sum + bias)))"
   ]
  },
  {
   "cell_type": "code",
   "execution_count": 3,
   "metadata": {},
   "outputs": [
    {
     "name": "stdout",
     "output_type": "stream",
     "text": [
      "Result:  1.0\n"
     ]
    }
   ],
   "source": [
    "n = int(input(\"Enter The Number of Inputs:\"))\n",
    "x = []\n",
    "w = []\n",
    "\n",
    "for i in range(0, n):\n",
    "    x.append(int(input(\"x: \")))\n",
    "    w.append(int(input(\"w: \")))\n",
    "\n",
    "bias = int(input(\"Enter the Bias value: \"))\n",
    "\n",
    "output = SigmoidNeuron(x, w, bias)\n",
    "print(\"Result: \", output)"
   ]
  }
 ],
 "metadata": {
  "kernelspec": {
   "display_name": "Python 3.9.7 ('ml')",
   "language": "python",
   "name": "python3"
  },
  "language_info": {
   "codemirror_mode": {
    "name": "ipython",
    "version": 3
   },
   "file_extension": ".py",
   "mimetype": "text/x-python",
   "name": "python",
   "nbconvert_exporter": "python",
   "pygments_lexer": "ipython3",
   "version": "3.9.7"
  },
  "orig_nbformat": 4,
  "vscode": {
   "interpreter": {
    "hash": "60e71678d2ef53e7f2024a9b52b4817102a249452807c45206facefdb61d7e11"
   }
  }
 },
 "nbformat": 4,
 "nbformat_minor": 2
}
