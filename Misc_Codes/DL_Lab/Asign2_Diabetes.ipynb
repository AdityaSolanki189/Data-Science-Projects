{
  "cells": [
    {
      "cell_type": "code",
      "execution_count": 1,
      "metadata": {
        "id": "97BqdeS6TNJ5"
      },
      "outputs": [],
      "source": [
        "import numpy as np\n",
        "import pandas as pd\n",
        "import matplotlib.pyplot as plt\n",
        "import seaborn as sns\n",
        "import tensorflow as tf\n",
        "from tensorflow import keras\n",
        "from tensorflow.keras import layers,models\n",
        "from sklearn.model_selection import train_test_split\n",
        "from sklearn.preprocessing import StandardScaler"
      ]
    },
    {
      "cell_type": "code",
      "execution_count": 2,
      "metadata": {
        "id": "49ZKa8B1Ue93"
      },
      "outputs": [],
      "source": [
        "df = pd.read_csv('../datasets/diabetes.csv')"
      ]
    },
    {
      "cell_type": "code",
      "execution_count": 3,
      "metadata": {
        "colab": {
          "base_uri": "https://localhost:8080/"
        },
        "id": "JrDU4U00ajTO",
        "outputId": "16d197b4-821e-4b19-b9eb-68cec8f96986"
      },
      "outputs": [
        {
          "data": {
            "text/plain": [
              "(768, 9)"
            ]
          },
          "execution_count": 3,
          "metadata": {},
          "output_type": "execute_result"
        }
      ],
      "source": [
        "df.shape"
      ]
    },
    {
      "cell_type": "code",
      "execution_count": 4,
      "metadata": {
        "colab": {
          "base_uri": "https://localhost:8080/",
          "height": 206
        },
        "id": "7Nq780vFaleN",
        "outputId": "eb0714d4-aa0a-4fbd-b00a-24a0f51fadaa"
      },
      "outputs": [
        {
          "data": {
            "text/html": [
              "<div>\n",
              "<style scoped>\n",
              "    .dataframe tbody tr th:only-of-type {\n",
              "        vertical-align: middle;\n",
              "    }\n",
              "\n",
              "    .dataframe tbody tr th {\n",
              "        vertical-align: top;\n",
              "    }\n",
              "\n",
              "    .dataframe thead th {\n",
              "        text-align: right;\n",
              "    }\n",
              "</style>\n",
              "<table border=\"1\" class=\"dataframe\">\n",
              "  <thead>\n",
              "    <tr style=\"text-align: right;\">\n",
              "      <th></th>\n",
              "      <th>Pregnancies</th>\n",
              "      <th>Glucose</th>\n",
              "      <th>BloodPressure</th>\n",
              "      <th>SkinThickness</th>\n",
              "      <th>Insulin</th>\n",
              "      <th>BMI</th>\n",
              "      <th>DiabetesPedigreeFunction</th>\n",
              "      <th>Age</th>\n",
              "      <th>Outcome</th>\n",
              "    </tr>\n",
              "  </thead>\n",
              "  <tbody>\n",
              "    <tr>\n",
              "      <th>0</th>\n",
              "      <td>6</td>\n",
              "      <td>148</td>\n",
              "      <td>72</td>\n",
              "      <td>35</td>\n",
              "      <td>0</td>\n",
              "      <td>33.6</td>\n",
              "      <td>0.627</td>\n",
              "      <td>50</td>\n",
              "      <td>1</td>\n",
              "    </tr>\n",
              "    <tr>\n",
              "      <th>1</th>\n",
              "      <td>1</td>\n",
              "      <td>85</td>\n",
              "      <td>66</td>\n",
              "      <td>29</td>\n",
              "      <td>0</td>\n",
              "      <td>26.6</td>\n",
              "      <td>0.351</td>\n",
              "      <td>31</td>\n",
              "      <td>0</td>\n",
              "    </tr>\n",
              "    <tr>\n",
              "      <th>2</th>\n",
              "      <td>8</td>\n",
              "      <td>183</td>\n",
              "      <td>64</td>\n",
              "      <td>0</td>\n",
              "      <td>0</td>\n",
              "      <td>23.3</td>\n",
              "      <td>0.672</td>\n",
              "      <td>32</td>\n",
              "      <td>1</td>\n",
              "    </tr>\n",
              "    <tr>\n",
              "      <th>3</th>\n",
              "      <td>1</td>\n",
              "      <td>89</td>\n",
              "      <td>66</td>\n",
              "      <td>23</td>\n",
              "      <td>94</td>\n",
              "      <td>28.1</td>\n",
              "      <td>0.167</td>\n",
              "      <td>21</td>\n",
              "      <td>0</td>\n",
              "    </tr>\n",
              "    <tr>\n",
              "      <th>4</th>\n",
              "      <td>0</td>\n",
              "      <td>137</td>\n",
              "      <td>40</td>\n",
              "      <td>35</td>\n",
              "      <td>168</td>\n",
              "      <td>43.1</td>\n",
              "      <td>2.288</td>\n",
              "      <td>33</td>\n",
              "      <td>1</td>\n",
              "    </tr>\n",
              "  </tbody>\n",
              "</table>\n",
              "</div>"
            ],
            "text/plain": [
              "   Pregnancies  Glucose  BloodPressure  SkinThickness  Insulin   BMI  \\\n",
              "0            6      148             72             35        0  33.6   \n",
              "1            1       85             66             29        0  26.6   \n",
              "2            8      183             64              0        0  23.3   \n",
              "3            1       89             66             23       94  28.1   \n",
              "4            0      137             40             35      168  43.1   \n",
              "\n",
              "   DiabetesPedigreeFunction  Age  Outcome  \n",
              "0                     0.627   50        1  \n",
              "1                     0.351   31        0  \n",
              "2                     0.672   32        1  \n",
              "3                     0.167   21        0  \n",
              "4                     2.288   33        1  "
            ]
          },
          "execution_count": 4,
          "metadata": {},
          "output_type": "execute_result"
        }
      ],
      "source": [
        "df.head()"
      ]
    },
    {
      "cell_type": "code",
      "execution_count": 5,
      "metadata": {
        "colab": {
          "base_uri": "https://localhost:8080/"
        },
        "id": "vvIsA2sMaqr3",
        "outputId": "d28682aa-e064-481c-8cec-f81ee0613c47"
      },
      "outputs": [
        {
          "name": "stdout",
          "output_type": "stream",
          "text": [
            "X shape:  (768, 8)\n",
            "y shape:  (768,)\n"
          ]
        }
      ],
      "source": [
        "# splitting data into independent and dependent variables\n",
        "X = df.iloc[:, 0:8]\n",
        "y = df[\"Outcome\"] \n",
        "print(\"X shape: \", X.shape)\n",
        "print(\"y shape: \", y.shape)"
      ]
    },
    {
      "cell_type": "code",
      "execution_count": 6,
      "metadata": {
        "id": "Fx4pEn8jcEOs"
      },
      "outputs": [],
      "source": [
        "# standardization\n",
        "scaler = StandardScaler()\n",
        "X_scaled = scaler.fit_transform(X)"
      ]
    },
    {
      "cell_type": "code",
      "execution_count": 7,
      "metadata": {
        "colab": {
          "base_uri": "https://localhost:8080/"
        },
        "id": "CVMEUWpVcQQA",
        "outputId": "1eae68dd-fb39-4b5a-d6d3-cf791682c91b"
      },
      "outputs": [
        {
          "name": "stdout",
          "output_type": "stream",
          "text": [
            "X_train shape:  (691, 8)\n",
            "X_test shape:  (77, 8)\n",
            "y_train shape:  (691,)\n",
            "y_test shape:  (77,)\n"
          ]
        }
      ],
      "source": [
        "# splitting into training and testing data\n",
        "X_train, X_test, y_train, y_test = train_test_split(X_scaled, y, test_size=0.1)\n",
        "print(\"X_train shape: \", X_train.shape)\n",
        "print(\"X_test shape: \", X_test.shape)\n",
        "print(\"y_train shape: \", y_train.shape)\n",
        "print(\"y_test shape: \", y_test.shape)"
      ]
    },
    {
      "cell_type": "code",
      "execution_count": 8,
      "metadata": {
        "id": "Oosrjc1ydLD9"
      },
      "outputs": [],
      "source": [
        "# define model\n",
        "model = models.Sequential()\n",
        "model.add(layers.Dense(100, activation=\"relu\"))\n",
        "model.add(layers.Dense(50, activation=\"relu\"))\n",
        "model.add(layers.Dense(25, activation=\"relu\"))\n",
        "model.add(layers.Dense(12, activation=\"relu\"))\n",
        "model.add(layers.Dense(1, activation=\"sigmoid\"))"
      ]
    },
    {
      "cell_type": "code",
      "execution_count": 9,
      "metadata": {
        "id": "qPVhStgDdrmq"
      },
      "outputs": [],
      "source": [
        "# compile model\n",
        "model.compile(optimizer=\"adam\", loss=\"binary_crossentropy\", metrics=[\"accuracy\"])"
      ]
    },
    {
      "cell_type": "code",
      "execution_count": 10,
      "metadata": {
        "colab": {
          "base_uri": "https://localhost:8080/"
        },
        "id": "UFrDFA1jd40h",
        "outputId": "8dfc2425-5136-4c55-bf9f-7f08f04499df"
      },
      "outputs": [
        {
          "name": "stdout",
          "output_type": "stream",
          "text": [
            "Epoch 1/12\n",
            "22/22 [==============================] - 5s 41ms/step - loss: 0.6523 - accuracy: 0.6411 - val_loss: 0.6085 - val_accuracy: 0.6753\n",
            "Epoch 2/12\n",
            "22/22 [==============================] - 1s 24ms/step - loss: 0.5499 - accuracy: 0.7221 - val_loss: 0.5240 - val_accuracy: 0.7792\n",
            "Epoch 3/12\n",
            "22/22 [==============================] - 0s 16ms/step - loss: 0.4904 - accuracy: 0.7554 - val_loss: 0.4836 - val_accuracy: 0.7922\n",
            "Epoch 4/12\n",
            "22/22 [==============================] - 0s 20ms/step - loss: 0.4638 - accuracy: 0.7887 - val_loss: 0.4806 - val_accuracy: 0.7662\n",
            "Epoch 5/12\n",
            "22/22 [==============================] - 0s 9ms/step - loss: 0.4511 - accuracy: 0.7931 - val_loss: 0.4852 - val_accuracy: 0.7662\n",
            "Epoch 6/12\n",
            "22/22 [==============================] - 0s 18ms/step - loss: 0.4392 - accuracy: 0.8003 - val_loss: 0.4817 - val_accuracy: 0.7662\n",
            "Epoch 7/12\n",
            "22/22 [==============================] - 0s 8ms/step - loss: 0.4313 - accuracy: 0.7959 - val_loss: 0.4780 - val_accuracy: 0.7662\n",
            "Epoch 8/12\n",
            "22/22 [==============================] - 0s 16ms/step - loss: 0.4276 - accuracy: 0.8032 - val_loss: 0.4787 - val_accuracy: 0.7792\n",
            "Epoch 9/12\n",
            "22/22 [==============================] - 0s 9ms/step - loss: 0.4184 - accuracy: 0.8046 - val_loss: 0.4753 - val_accuracy: 0.7532\n",
            "Epoch 10/12\n",
            "22/22 [==============================] - 0s 9ms/step - loss: 0.4133 - accuracy: 0.8075 - val_loss: 0.4966 - val_accuracy: 0.7662\n",
            "Epoch 11/12\n",
            "22/22 [==============================] - 0s 12ms/step - loss: 0.4093 - accuracy: 0.8191 - val_loss: 0.4725 - val_accuracy: 0.7792\n",
            "Epoch 12/12\n",
            "22/22 [==============================] - 0s 7ms/step - loss: 0.4045 - accuracy: 0.8191 - val_loss: 0.4848 - val_accuracy: 0.7662\n"
          ]
        }
      ],
      "source": [
        "# train model\n",
        "history = model.fit(X_train, y_train, epochs=12,verbose=2, validation_data=(X_test, y_test), validation_split=0.2)"
      ]
    },
    {
      "cell_type": "code",
      "execution_count": 11,
      "metadata": {
        "colab": {
          "base_uri": "https://localhost:8080/"
        },
        "id": "7fdexHCaeM_a",
        "outputId": "0156ce67-bc8e-4df1-ffb3-eca329c69dfb"
      },
      "outputs": [
        {
          "name": "stdout",
          "output_type": "stream",
          "text": [
            "3/3 [==============================] - 0s 29ms/step - loss: 0.4848 - accuracy: 0.7662\n"
          ]
        }
      ],
      "source": [
        "# evaluate model\n",
        "result = model.evaluate(X_test, y_test)"
      ]
    },
    {
      "cell_type": "code",
      "execution_count": 12,
      "metadata": {
        "colab": {
          "base_uri": "https://localhost:8080/",
          "height": 312
        },
        "id": "InUaIuEyeohS",
        "outputId": "c699d2b4-6b07-4cea-a403-1f52de9939f0"
      },
      "outputs": [
        {
          "data": {
            "text/plain": [
              "Text(0, 0.5, 'Accuracy')"
            ]
          },
          "execution_count": 12,
          "metadata": {},
          "output_type": "execute_result"
        },
        {
          "data": {
            "image/png": "[encoded data removed]",
            "text/plain": [
              "<Figure size 432x288 with 1 Axes>"
            ]
          },
          "metadata": {
            "needs_background": "light"
          },
          "output_type": "display_data"
        }
      ],
      "source": [
        "# plot accuracy\n",
        "plt.plot(history.history['accuracy'], label='accuracy')\n",
        "plt.plot(history.history['val_accuracy'], label='val_accuracy')\n",
        "plt.title(\"Accuracy Graph\")\n",
        "plt.xlabel(\"Epochs\")\n",
        "plt.ylabel(\"Accuracy\")"
      ]
    },
    {
      "cell_type": "code",
      "execution_count": 13,
      "metadata": {
        "colab": {
          "base_uri": "https://localhost:8080/",
          "height": 312
        },
        "id": "f2kYaNwXf7RR",
        "outputId": "326a64a8-1d2f-44d7-eacc-f26f5897fa40"
      },
      "outputs": [
        {
          "data": {
            "text/plain": [
              "Text(0, 0.5, 'Loss')"
            ]
          },
          "execution_count": 13,
          "metadata": {},
          "output_type": "execute_result"
        },
        {
          "data": {
            "image/png": "[encoded data removed]",
            "text/plain": [
              "<Figure size 432x288 with 1 Axes>"
            ]
          },
          "metadata": {
            "needs_background": "light"
          },
          "output_type": "display_data"
        }
      ],
      "source": [
        "# plot loss\n",
        "plt.plot(history.history['loss'], label='loss')\n",
        "plt.plot(history.history['val_loss'], label='val_loss')\n",
        "plt.title(\"Loss Graph\")\n",
        "plt.xlabel(\"Epochs\")\n",
        "plt.ylabel(\"Loss\")"
      ]
    }
  ],
  "metadata": {
    "colab": {
      "provenance": []
    },
    "kernelspec": {
      "display_name": "Python 3.8.5 ('base')",
      "language": "python",
      "name": "python3"
    },
    "language_info": {
      "codemirror_mode": {
        "name": "ipython",
        "version": 3
      },
      "file_extension": ".py",
      "mimetype": "text/x-python",
      "name": "python",
      "nbconvert_exporter": "python",
      "pygments_lexer": "ipython3",
      "version": "3.8.5"
    },
    "vscode": {
      "interpreter": {
        "hash": "8891f3cfb547db503e78f25128202364d60f1c09259e140a1bd236c27b0b7a43"
      }
    }
  },
  "nbformat": 4,
  "nbformat_minor": 0
}
