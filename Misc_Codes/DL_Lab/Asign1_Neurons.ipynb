{
  "cells": [
    {
      "cell_type": "code",
      "execution_count": 1,
      "metadata": {
        "id": "cSooWORrWplU"
      },
      "outputs": [],
      "source": [
        "import numpy as np\n",
        "import matplotlib.pyplot as plt"
      ]
    },
    {
      "cell_type": "code",
      "execution_count": 2,
      "metadata": {
        "id": "AWicm46OIs7T"
      },
      "outputs": [],
      "source": [
        "# threshold activation function\n",
        "def threshold_activation(value, threshold_value):\n",
        "  if value >= threshold_value:\n",
        "    return 1\n",
        "  else:\n",
        "    return 0"
      ]
    },
    {
      "cell_type": "code",
      "execution_count": 3,
      "metadata": {
        "id": "MC6pg1V8LUSk"
      },
      "outputs": [],
      "source": [
        "threshold_value = 1"
      ]
    },
    {
      "cell_type": "code",
      "execution_count": 4,
      "metadata": {
        "colab": {
          "base_uri": "https://localhost:8080/"
        },
        "id": "DWOYGPxWGBzb",
        "outputId": "63b02d8c-9e8c-450f-9bc8-759d34747792"
      },
      "outputs": [
        {
          "name": "stdout",
          "output_type": "stream",
          "text": [
            "Input vector:  [0 1 1]\n",
            "Weight vector:  [1 1 1]\n"
          ]
        }
      ],
      "source": [
        "# input and weight vector\n",
        "input_vector = np.random.choice([0, 1], 3)\n",
        "weight_vector = np.random.choice([-1, 1], 3)\n",
        "print(\"Input vector: \", input_vector)\n",
        "print(\"Weight vector: \", weight_vector)"
      ]
    },
    {
      "cell_type": "markdown",
      "metadata": {
        "id": "uldmcxm9E0iU"
      },
      "source": [
        "# MP Neuron Implementation"
      ]
    },
    {
      "cell_type": "code",
      "execution_count": 5,
      "metadata": {
        "colab": {
          "base_uri": "https://localhost:8080/"
        },
        "id": "x4En70CgFkns",
        "outputId": "bc9e18e0-47f4-418e-d78f-372481ed7245"
      },
      "outputs": [
        {
          "name": "stdout",
          "output_type": "stream",
          "text": [
            "2\n"
          ]
        }
      ],
      "source": [
        "mp_value = np.sum(input_vector)\n",
        "print(mp_value) "
      ]
    },
    {
      "cell_type": "code",
      "execution_count": 6,
      "metadata": {
        "colab": {
          "base_uri": "https://localhost:8080/"
        },
        "id": "Mr7Mr3_eJBV3",
        "outputId": "da836441-1774-493f-e00e-0c25c0a580d7"
      },
      "outputs": [
        {
          "name": "stdout",
          "output_type": "stream",
          "text": [
            "MP activation:  1\n"
          ]
        }
      ],
      "source": [
        "mp_activation = threshold_activation(mp_value, threshold_value)\n",
        "print(\"MP activation: \", mp_activation)"
      ]
    },
    {
      "cell_type": "markdown",
      "metadata": {
        "id": "dFH4hMHbJpQ4"
      },
      "source": [
        "# Perceptron Implementation"
      ]
    },
    {
      "cell_type": "code",
      "execution_count": 7,
      "metadata": {
        "colab": {
          "base_uri": "https://localhost:8080/"
        },
        "id": "z7hPqZzpKJMp",
        "outputId": "14b8b52b-ee11-42c1-be3d-93edfeddcf04"
      },
      "outputs": [
        {
          "name": "stdout",
          "output_type": "stream",
          "text": [
            "2\n"
          ]
        }
      ],
      "source": [
        "dot_product = input_vector @ weight_vector\n",
        "print(dot_product)"
      ]
    },
    {
      "cell_type": "code",
      "execution_count": 8,
      "metadata": {
        "colab": {
          "base_uri": "https://localhost:8080/"
        },
        "id": "RuX6NFh5K2l9",
        "outputId": "e92305a8-f7ad-4b46-9a5a-eaf5661ffc72"
      },
      "outputs": [
        {
          "name": "stdout",
          "output_type": "stream",
          "text": [
            "Perceptron Activation:  1\n"
          ]
        }
      ],
      "source": [
        "perceptron_activation = threshold_activation(dot_product, threshold_value)\n",
        "print(\"Perceptron Activation: \", perceptron_activation)"
      ]
    },
    {
      "cell_type": "markdown",
      "metadata": {
        "id": "PER-BOkRBHgt"
      },
      "source": [
        "# Sigmoid Neuron Implementation"
      ]
    },
    {
      "cell_type": "code",
      "execution_count": 9,
      "metadata": {
        "id": "KQTvHfoWPnea"
      },
      "outputs": [],
      "source": [
        "def sigmoid_activation_function(x):\n",
        "  y = 1 / (1 + np.exp(-x))\n",
        "  return y"
      ]
    },
    {
      "cell_type": "code",
      "execution_count": 10,
      "metadata": {
        "colab": {
          "base_uri": "https://localhost:8080/",
          "height": 279
        },
        "id": "xpML5JZoMZnG",
        "outputId": "936f79a0-8bff-45a0-961c-a870c6c74d15"
      },
      "outputs": [
        {
          "data": {
            "image/png": "[encoded data removed]",
            "text/plain": [
              "<Figure size 432x288 with 1 Axes>"
            ]
          },
          "metadata": {
            "needs_background": "light"
          },
          "output_type": "display_data"
        }
      ],
      "source": [
        "# sigmoid curve\n",
        "x = np.linspace(-10, 10, 30)\n",
        "y = sigmoid_activation_function(x)\n",
        "plt.xlabel(\"x\")\n",
        "plt.ylabel(\"y = sigmoid(x)\")\n",
        "plt.plot(x, y) \n",
        "plt.show()"
      ]
    }
  ],
  "metadata": {
    "colab": {
      "provenance": []
    },
    "kernelspec": {
      "display_name": "Python 3.9.7 ('ml')",
      "language": "python",
      "name": "python3"
    },
    "language_info": {
      "name": "python",
      "version": "3.9.7"
    },
    "vscode": {
      "interpreter": {
        "hash": "60e71678d2ef53e7f2024a9b52b4817102a249452807c45206facefdb61d7e11"
      }
    }
  },
  "nbformat": 4,
  "nbformat_minor": 0
}
