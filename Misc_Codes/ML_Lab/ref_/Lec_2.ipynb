{
 "cells": [
  {
   "cell_type": "code",
   "execution_count": 1,
   "id": "8dd69e9a",
   "metadata": {},
   "outputs": [],
   "source": [
    "# sklearn\n",
    "from sklearn import preprocessing,datasets"
   ]
  },
  {
   "cell_type": "code",
   "execution_count": 2,
   "id": "e03b0455",
   "metadata": {},
   "outputs": [],
   "source": [
    "from sklearn.model_selection import train_test_split"
   ]
  },
  {
   "cell_type": "code",
   "execution_count": 3,
   "id": "c2108a12",
   "metadata": {},
   "outputs": [],
   "source": [
    "from sklearn.metrics import accuracy_score, confusion_matrix"
   ]
  },
  {
   "cell_type": "code",
   "execution_count": 4,
   "id": "bb1b0496",
   "metadata": {},
   "outputs": [],
   "source": [
    "import numpy as np"
   ]
  },
  {
   "cell_type": "code",
   "execution_count": 5,
   "id": "86131079",
   "metadata": {},
   "outputs": [],
   "source": [
    "from sklearn.preprocessing import StandardScaler"
   ]
  },
  {
   "cell_type": "code",
   "execution_count": 6,
   "id": "05d9aee2",
   "metadata": {},
   "outputs": [],
   "source": [
    "from sklearn.preprocessing import Normalizer"
   ]
  },
  {
   "cell_type": "code",
   "execution_count": 7,
   "id": "d9df0d0f",
   "metadata": {},
   "outputs": [],
   "source": [
    "# Dataset creation\n",
    "x = np.random.random ((10,5))"
   ]
  },
  {
   "cell_type": "code",
   "execution_count": 8,
   "id": "a8386662",
   "metadata": {},
   "outputs": [
    {
     "data": {
      "text/plain": [
       "array([[0.10847802, 0.95076234, 0.29593912, 0.10105511, 0.51314569],\n",
       "       [0.61769847, 0.70339471, 0.58981547, 0.76070347, 0.86354187],\n",
       "       [0.32414806, 0.9761395 , 0.02765735, 0.10564973, 0.58319378],\n",
       "       [0.697511  , 0.10573861, 0.43416581, 0.61425406, 0.33535141],\n",
       "       [0.03288647, 0.89119304, 0.87407141, 0.09765075, 0.71619157],\n",
       "       [0.84511859, 0.99807656, 0.60286903, 0.66885713, 0.55513709],\n",
       "       [0.9672113 , 0.50875816, 0.31105545, 0.57352031, 0.91598648],\n",
       "       [0.86446287, 0.66887119, 0.66538463, 0.53042111, 0.44080545],\n",
       "       [0.59533558, 0.13022676, 0.20688154, 0.1919064 , 0.87085181],\n",
       "       [0.82943304, 0.76516079, 0.66334364, 0.05958744, 0.66279596]])"
      ]
     },
     "execution_count": 8,
     "metadata": {},
     "output_type": "execute_result"
    }
   ],
   "source": [
    "x"
   ]
  },
  {
   "cell_type": "code",
   "execution_count": 9,
   "id": "553c8bfa",
   "metadata": {},
   "outputs": [],
   "source": [
    "y = np.array(['m','m','f','f','m','f','m','m','f','f'])"
   ]
  },
  {
   "cell_type": "code",
   "execution_count": 10,
   "id": "567b448e",
   "metadata": {},
   "outputs": [
    {
     "data": {
      "text/plain": [
       "array(['m', 'm', 'f', 'f', 'm', 'f', 'm', 'm', 'f', 'f'], dtype='<U1')"
      ]
     },
     "execution_count": 10,
     "metadata": {},
     "output_type": "execute_result"
    }
   ],
   "source": [
    "y"
   ]
  },
  {
   "cell_type": "code",
   "execution_count": 11,
   "id": "001cf68f",
   "metadata": {},
   "outputs": [],
   "source": [
    "x [x<0.7] = 0"
   ]
  },
  {
   "cell_type": "code",
   "execution_count": 12,
   "id": "6c83adb5",
   "metadata": {},
   "outputs": [
    {
     "data": {
      "text/plain": [
       "array([[0.        , 0.95076234, 0.        , 0.        , 0.        ],\n",
       "       [0.        , 0.70339471, 0.        , 0.76070347, 0.86354187],\n",
       "       [0.        , 0.9761395 , 0.        , 0.        , 0.        ],\n",
       "       [0.        , 0.        , 0.        , 0.        , 0.        ],\n",
       "       [0.        , 0.89119304, 0.87407141, 0.        , 0.71619157],\n",
       "       [0.84511859, 0.99807656, 0.        , 0.        , 0.        ],\n",
       "       [0.9672113 , 0.        , 0.        , 0.        , 0.91598648],\n",
       "       [0.86446287, 0.        , 0.        , 0.        , 0.        ],\n",
       "       [0.        , 0.        , 0.        , 0.        , 0.87085181],\n",
       "       [0.82943304, 0.76516079, 0.        , 0.        , 0.        ]])"
      ]
     },
     "execution_count": 12,
     "metadata": {},
     "output_type": "execute_result"
    }
   ],
   "source": [
    "x"
   ]
  },
  {
   "cell_type": "code",
   "execution_count": 13,
   "id": "f867ae37",
   "metadata": {},
   "outputs": [],
   "source": [
    "#data split\n",
    "x_train, x_test,y_train,y_test = train_test_split(x,y,test_size=0.3, random_state=0)"
   ]
  },
  {
   "cell_type": "code",
   "execution_count": 14,
   "id": "00dc2aed",
   "metadata": {},
   "outputs": [
    {
     "name": "stdout",
     "output_type": "stream",
     "text": [
      "x Training data shape: (7, 5)\n",
      "x Training data shape: (3, 5)\n",
      "y Training data shape: (7,)\n",
      "y Training data shape: (3,)\n"
     ]
    }
   ],
   "source": [
    "print(\"x Training data shape:\", x_train.shape)\n",
    "print(\"x Training data shape:\", x_test.shape)\n",
    "print(\"y Training data shape:\", y_train.shape)\n",
    "print(\"y Training data shape:\", y_test.shape)"
   ]
  },
  {
   "cell_type": "code",
   "execution_count": 15,
   "id": "1cc53856",
   "metadata": {},
   "outputs": [],
   "source": [
    "#Data preprocessing\n",
    "#1. Standardization\n",
    "# here we want to impport a lib so add it above for simplicity \n",
    "# from sklearn.preprocessing import StandardScaler"
   ]
  },
  {
   "cell_type": "code",
   "execution_count": 16,
   "id": "59868759",
   "metadata": {},
   "outputs": [],
   "source": [
    "b = np.array([(1.5,2,3),(4,5,6)], dtype=float)"
   ]
  },
  {
   "cell_type": "code",
   "execution_count": 17,
   "id": "a957974d",
   "metadata": {},
   "outputs": [
    {
     "name": "stdout",
     "output_type": "stream",
     "text": [
      "[[1.5 2.  3. ]\n",
      " [4.  5.  6. ]]\n",
      "3.5833333333333335\n",
      "1.5920810978785667\n"
     ]
    }
   ],
   "source": [
    "print(b)\n",
    "print(b.mean())\n",
    "print(b.std())"
   ]
  },
  {
   "cell_type": "code",
   "execution_count": 18,
   "id": "52ae872e",
   "metadata": {},
   "outputs": [],
   "source": [
    "scaler = StandardScaler()"
   ]
  },
  {
   "cell_type": "code",
   "execution_count": 19,
   "id": "d0d9c13a",
   "metadata": {},
   "outputs": [
    {
     "name": "stdout",
     "output_type": "stream",
     "text": [
      "[[-1. -1. -1.]\n",
      " [ 1.  1.  1.]]\n"
     ]
    }
   ],
   "source": [
    "b_std = scaler.fit_transform(b)\n",
    "print (b_std)"
   ]
  },
  {
   "cell_type": "code",
   "execution_count": 20,
   "id": "7c19f112",
   "metadata": {},
   "outputs": [
    {
     "name": "stdout",
     "output_type": "stream",
     "text": [
      "0.0\n",
      "1.0\n"
     ]
    }
   ],
   "source": [
    "print(b_std.mean())\n",
    "print(b_std.std())"
   ]
  },
  {
   "cell_type": "code",
   "execution_count": 21,
   "id": "56a53ca6",
   "metadata": {},
   "outputs": [],
   "source": [
    "std_X = scaler.fit_transform(x_train)"
   ]
  },
  {
   "cell_type": "code",
   "execution_count": 22,
   "id": "cc7350fc",
   "metadata": {},
   "outputs": [],
   "source": [
    "std_xtest = scaler.transform(x_test)"
   ]
  },
  {
   "cell_type": "code",
   "execution_count": 23,
   "id": "d6da5bcd",
   "metadata": {},
   "outputs": [
    {
     "name": "stdout",
     "output_type": "stream",
     "text": [
      "[[ 0.7540861   0.63974413  0.         -0.40824829 -0.63207136]\n",
      " [-1.14966076  0.49707278  0.          2.44948974  1.51498104]\n",
      " [ 1.0703201  -1.1276747   0.         -0.40824829  1.64537577]\n",
      " [ 0.83448792 -1.1276747   0.         -0.40824829 -0.63207136]\n",
      " [-1.14966076 -1.1276747   0.         -0.40824829 -0.63207136]\n",
      " [-1.14966076  1.06845884  0.         -0.40824829 -0.63207136]\n",
      " [ 0.79008817  1.17774834  0.         -0.40824829 -0.63207136]]\n",
      "[[-1.14966076  1.12707667  0.         -0.40824829 -0.63207136]\n",
      " [-1.14966076 -1.1276747   0.         -0.40824829  1.53315597]\n",
      " [-1.14966076  0.93086173  0.87407141 -0.40824829  1.14861917]]\n",
      "-8.564577618536922e-17\n"
     ]
    }
   ],
   "source": [
    "print(std_X)\n",
    "print(std_xtest)\n",
    "print(std_X.mean())"
   ]
  },
  {
   "cell_type": "code",
   "execution_count": 24,
   "id": "3d5bcdea",
   "metadata": {},
   "outputs": [],
   "source": [
    "#2. Normalization\n",
    "#from sklearn.preprocessing import Normalizer"
   ]
  },
  {
   "cell_type": "code",
   "execution_count": 25,
   "id": "e580b5bc",
   "metadata": {},
   "outputs": [],
   "source": [
    "norm = Normalizer()"
   ]
  },
  {
   "cell_type": "code",
   "execution_count": 26,
   "id": "3c9ca74a",
   "metadata": {},
   "outputs": [],
   "source": [
    "norm_X = norm.fit_transform(x_train)\n",
    "norm_xtest = norm.transform(x_test)"
   ]
  },
  {
   "cell_type": "code",
   "execution_count": 27,
   "id": "3a6f01cd",
   "metadata": {},
   "outputs": [
    {
     "name": "stdout",
     "output_type": "stream",
     "text": [
      "['m' 'm' 'f' 'f' 'm' 'f' 'm' 'm' 'f' 'f']\n",
      "[1 1 0 0 1 0 1 1 0 0]\n"
     ]
    }
   ],
   "source": [
    "# Labelencoder or one-hot encode\n",
    "from sklearn.preprocessing import LabelEncoder\n",
    "lbn = LabelEncoder()\n",
    "print(y)\n",
    "y_enc = lbn.fit_transform(y)\n",
    "print(y_enc)\n"
   ]
  },
  {
   "cell_type": "code",
   "execution_count": 28,
   "id": "1275b9da",
   "metadata": {},
   "outputs": [],
   "source": [
    "# Algorithms\n",
    "#Linear regression\n",
    "\n",
    "from sklearn.linear_model import LinearRegression\n",
    "from sklearn.neural_network import MLPClassifier, MLPRegressor\n",
    "from sklearn.svm import SVC, SVR\n",
    "from sklearn.naive_bayes import GaussianNB\n",
    "from sklearn.neighbors import *"
   ]
  },
  {
   "cell_type": "code",
   "execution_count": 29,
   "id": "e9fa518c",
   "metadata": {},
   "outputs": [],
   "source": [
    "from sklearn.tree import DecisionTreeClassifier, DecisionTreeRegressor"
   ]
  },
  {
   "cell_type": "code",
   "execution_count": 30,
   "id": "1abb0c2e",
   "metadata": {},
   "outputs": [],
   "source": [
    "#2. Unsupervised\n",
    "from sklearn.cluster import KMeans\n",
    "from sklearn.decomposition import PCA\n",
    "#---------------"
   ]
  },
  {
   "cell_type": "code",
   "execution_count": 31,
   "id": "2fede457",
   "metadata": {
    "scrolled": true
   },
   "outputs": [
    {
     "name": "stderr",
     "output_type": "stream",
     "text": [
      "C:\\Users\\adity\\anaconda3\\envs\\ml\\lib\\site-packages\\sklearn\\neural_network\\_multilayer_perceptron.py:692: ConvergenceWarning: Stochastic Optimizer: Maximum iterations (200) reached and the optimization hasn't converged yet.\n",
      "  warnings.warn(\n"
     ]
    },
    {
     "data": {
      "text/plain": [
       "MLPClassifier()"
      ]
     },
     "execution_count": 31,
     "metadata": {},
     "output_type": "execute_result"
    }
   ],
   "source": [
    "# Model Fitting\n",
    "mlp = MLPClassifier()\n",
    "mlp.fit(std_X,y_train)"
   ]
  },
  {
   "cell_type": "code",
   "execution_count": 32,
   "id": "0ecd7b0e",
   "metadata": {},
   "outputs": [],
   "source": [
    "#prediction\n",
    "y_pred = mlp.predict(std_xtest)"
   ]
  },
  {
   "cell_type": "code",
   "execution_count": 33,
   "id": "c886a449",
   "metadata": {},
   "outputs": [
    {
     "name": "stdout",
     "output_type": "stream",
     "text": [
      "['m' 'm' 'm']\n"
     ]
    }
   ],
   "source": [
    "print(y_pred)"
   ]
  },
  {
   "cell_type": "code",
   "execution_count": null,
   "id": "465b1e2b",
   "metadata": {},
   "outputs": [],
   "source": []
  }
 ],
 "metadata": {
  "kernelspec": {
   "display_name": "Python 3 (ipykernel)",
   "language": "python",
   "name": "python3"
  },
  "language_info": {
   "codemirror_mode": {
    "name": "ipython",
    "version": 3
   },
   "file_extension": ".py",
   "mimetype": "text/x-python",
   "name": "python",
   "nbconvert_exporter": "python",
   "pygments_lexer": "ipython3",
   "version": "3.9.7"
  }
 },
 "nbformat": 4,
 "nbformat_minor": 5
}
