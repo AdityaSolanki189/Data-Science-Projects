{
 "cells": [
  {
   "cell_type": "code",
   "execution_count": 1,
   "metadata": {},
   "outputs": [],
   "source": [
    "import numpy as np\n",
    "import pandas as pd\n",
    "from sklearn.preprocessing import StandardScaler\n",
    "from sklearn.neural_network import MLPClassifier\n",
    "from sklearn.model_selection import train_test_split\n",
    "from sklearn.metrics import accuracy_score, confusion_matrix, classification_report"
   ]
  },
  {
   "cell_type": "code",
   "execution_count": 2,
   "metadata": {},
   "outputs": [
    {
     "data": {
      "text/html": [
       "<div>\n",
       "<style scoped>\n",
       "    .dataframe tbody tr th:only-of-type {\n",
       "        vertical-align: middle;\n",
       "    }\n",
       "\n",
       "    .dataframe tbody tr th {\n",
       "        vertical-align: top;\n",
       "    }\n",
       "\n",
       "    .dataframe thead th {\n",
       "        text-align: right;\n",
       "    }\n",
       "</style>\n",
       "<table border=\"1\" class=\"dataframe\">\n",
       "  <thead>\n",
       "    <tr style=\"text-align: right;\">\n",
       "      <th></th>\n",
       "      <th>Pregnancies</th>\n",
       "      <th>Glucose</th>\n",
       "      <th>BloodPressure</th>\n",
       "      <th>SkinThickness</th>\n",
       "      <th>Insulin</th>\n",
       "      <th>BMI</th>\n",
       "      <th>DiabetesPedigreeFunction</th>\n",
       "      <th>Age</th>\n",
       "      <th>Outcome</th>\n",
       "    </tr>\n",
       "  </thead>\n",
       "  <tbody>\n",
       "    <tr>\n",
       "      <th>0</th>\n",
       "      <td>6</td>\n",
       "      <td>148</td>\n",
       "      <td>72</td>\n",
       "      <td>35</td>\n",
       "      <td>0</td>\n",
       "      <td>33.6</td>\n",
       "      <td>0.627</td>\n",
       "      <td>50</td>\n",
       "      <td>1</td>\n",
       "    </tr>\n",
       "    <tr>\n",
       "      <th>1</th>\n",
       "      <td>1</td>\n",
       "      <td>85</td>\n",
       "      <td>66</td>\n",
       "      <td>29</td>\n",
       "      <td>0</td>\n",
       "      <td>26.6</td>\n",
       "      <td>0.351</td>\n",
       "      <td>31</td>\n",
       "      <td>0</td>\n",
       "    </tr>\n",
       "    <tr>\n",
       "      <th>2</th>\n",
       "      <td>8</td>\n",
       "      <td>183</td>\n",
       "      <td>64</td>\n",
       "      <td>0</td>\n",
       "      <td>0</td>\n",
       "      <td>23.3</td>\n",
       "      <td>0.672</td>\n",
       "      <td>32</td>\n",
       "      <td>1</td>\n",
       "    </tr>\n",
       "    <tr>\n",
       "      <th>3</th>\n",
       "      <td>1</td>\n",
       "      <td>89</td>\n",
       "      <td>66</td>\n",
       "      <td>23</td>\n",
       "      <td>94</td>\n",
       "      <td>28.1</td>\n",
       "      <td>0.167</td>\n",
       "      <td>21</td>\n",
       "      <td>0</td>\n",
       "    </tr>\n",
       "    <tr>\n",
       "      <th>4</th>\n",
       "      <td>0</td>\n",
       "      <td>137</td>\n",
       "      <td>40</td>\n",
       "      <td>35</td>\n",
       "      <td>168</td>\n",
       "      <td>43.1</td>\n",
       "      <td>2.288</td>\n",
       "      <td>33</td>\n",
       "      <td>1</td>\n",
       "    </tr>\n",
       "  </tbody>\n",
       "</table>\n",
       "</div>"
      ],
      "text/plain": [
       "   Pregnancies  Glucose  BloodPressure  SkinThickness  Insulin   BMI  \\\n",
       "0            6      148             72             35        0  33.6   \n",
       "1            1       85             66             29        0  26.6   \n",
       "2            8      183             64              0        0  23.3   \n",
       "3            1       89             66             23       94  28.1   \n",
       "4            0      137             40             35      168  43.1   \n",
       "\n",
       "   DiabetesPedigreeFunction  Age  Outcome  \n",
       "0                     0.627   50        1  \n",
       "1                     0.351   31        0  \n",
       "2                     0.672   32        1  \n",
       "3                     0.167   21        0  \n",
       "4                     2.288   33        1  "
      ]
     },
     "execution_count": 2,
     "metadata": {},
     "output_type": "execute_result"
    }
   ],
   "source": [
    "df = pd.read_csv(\"../datasets/diabetes.csv\")\n",
    "df.head()"
   ]
  },
  {
   "cell_type": "code",
   "execution_count": 3,
   "metadata": {},
   "outputs": [
    {
     "data": {
      "text/html": [
       "<div>\n",
       "<style scoped>\n",
       "    .dataframe tbody tr th:only-of-type {\n",
       "        vertical-align: middle;\n",
       "    }\n",
       "\n",
       "    .dataframe tbody tr th {\n",
       "        vertical-align: top;\n",
       "    }\n",
       "\n",
       "    .dataframe thead th {\n",
       "        text-align: right;\n",
       "    }\n",
       "</style>\n",
       "<table border=\"1\" class=\"dataframe\">\n",
       "  <thead>\n",
       "    <tr style=\"text-align: right;\">\n",
       "      <th></th>\n",
       "      <th>Pregnancies</th>\n",
       "      <th>Glucose</th>\n",
       "      <th>BloodPressure</th>\n",
       "      <th>SkinThickness</th>\n",
       "      <th>Insulin</th>\n",
       "      <th>BMI</th>\n",
       "      <th>DiabetesPedigreeFunction</th>\n",
       "      <th>Age</th>\n",
       "    </tr>\n",
       "  </thead>\n",
       "  <tbody>\n",
       "    <tr>\n",
       "      <th>0</th>\n",
       "      <td>6</td>\n",
       "      <td>148</td>\n",
       "      <td>72</td>\n",
       "      <td>35</td>\n",
       "      <td>0</td>\n",
       "      <td>33.6</td>\n",
       "      <td>0.627</td>\n",
       "      <td>50</td>\n",
       "    </tr>\n",
       "    <tr>\n",
       "      <th>1</th>\n",
       "      <td>1</td>\n",
       "      <td>85</td>\n",
       "      <td>66</td>\n",
       "      <td>29</td>\n",
       "      <td>0</td>\n",
       "      <td>26.6</td>\n",
       "      <td>0.351</td>\n",
       "      <td>31</td>\n",
       "    </tr>\n",
       "    <tr>\n",
       "      <th>2</th>\n",
       "      <td>8</td>\n",
       "      <td>183</td>\n",
       "      <td>64</td>\n",
       "      <td>0</td>\n",
       "      <td>0</td>\n",
       "      <td>23.3</td>\n",
       "      <td>0.672</td>\n",
       "      <td>32</td>\n",
       "    </tr>\n",
       "    <tr>\n",
       "      <th>3</th>\n",
       "      <td>1</td>\n",
       "      <td>89</td>\n",
       "      <td>66</td>\n",
       "      <td>23</td>\n",
       "      <td>94</td>\n",
       "      <td>28.1</td>\n",
       "      <td>0.167</td>\n",
       "      <td>21</td>\n",
       "    </tr>\n",
       "    <tr>\n",
       "      <th>4</th>\n",
       "      <td>0</td>\n",
       "      <td>137</td>\n",
       "      <td>40</td>\n",
       "      <td>35</td>\n",
       "      <td>168</td>\n",
       "      <td>43.1</td>\n",
       "      <td>2.288</td>\n",
       "      <td>33</td>\n",
       "    </tr>\n",
       "  </tbody>\n",
       "</table>\n",
       "</div>"
      ],
      "text/plain": [
       "   Pregnancies  Glucose  BloodPressure  SkinThickness  Insulin   BMI  \\\n",
       "0            6      148             72             35        0  33.6   \n",
       "1            1       85             66             29        0  26.6   \n",
       "2            8      183             64              0        0  23.3   \n",
       "3            1       89             66             23       94  28.1   \n",
       "4            0      137             40             35      168  43.1   \n",
       "\n",
       "   DiabetesPedigreeFunction  Age  \n",
       "0                     0.627   50  \n",
       "1                     0.351   31  \n",
       "2                     0.672   32  \n",
       "3                     0.167   21  \n",
       "4                     2.288   33  "
      ]
     },
     "execution_count": 3,
     "metadata": {},
     "output_type": "execute_result"
    }
   ],
   "source": [
    "X = df.iloc[:, :8]\n",
    "X.head()"
   ]
  },
  {
   "cell_type": "code",
   "execution_count": 4,
   "metadata": {},
   "outputs": [
    {
     "name": "stdout",
     "output_type": "stream",
     "text": [
      "X Shape: (768, 8) \n",
      "Y Shape: (768,)\n"
     ]
    }
   ],
   "source": [
    "y = df.Outcome\n",
    "y.head()\n",
    "print(f'X Shape: {X.shape} \\nY Shape: {y.shape}')"
   ]
  },
  {
   "cell_type": "code",
   "execution_count": 5,
   "metadata": {},
   "outputs": [],
   "source": [
    "scaler = StandardScaler()\n",
    "X_std = scaler.fit_transform(X)"
   ]
  },
  {
   "cell_type": "code",
   "execution_count": 6,
   "metadata": {},
   "outputs": [],
   "source": [
    "X_train, X_test, y_train, y_test = train_test_split(X_std, y, test_size=0.3, random_state=0)"
   ]
  },
  {
   "cell_type": "code",
   "execution_count": 7,
   "metadata": {},
   "outputs": [
    {
     "name": "stdout",
     "output_type": "stream",
     "text": [
      "X_train Shape: (537, 8) \n",
      "y_train Shape: (537,)\n",
      "X_test Shape: (231, 8) \n",
      "y_test Shape: (231,)\n"
     ]
    }
   ],
   "source": [
    "print(f'X_train Shape: {X_train.shape} \\ny_train Shape: {y_train.shape}')\n",
    "print(f'X_test Shape: {X_test.shape} \\ny_test Shape: {y_test.shape}')"
   ]
  },
  {
   "cell_type": "code",
   "execution_count": 8,
   "metadata": {},
   "outputs": [
    {
     "data": {
      "text/plain": [
       "MLPClassifier(hidden_layer_sizes=55, solver='sgd', verbose=True)"
      ]
     },
     "execution_count": 8,
     "metadata": {},
     "output_type": "execute_result"
    }
   ],
   "source": [
    "mlp = MLPClassifier(hidden_layer_sizes=(55), activation='relu', solver='sgd', max_iter=200, verbose=True)\n",
    "mlp"
   ]
  },
  {
   "cell_type": "code",
   "execution_count": 9,
   "metadata": {},
   "outputs": [
    {
     "name": "stdout",
     "output_type": "stream",
     "text": [
      "Iteration 1, loss = 0.78723177\n",
      "Iteration 2, loss = 0.78476270\n",
      "Iteration 3, loss = 0.78096166\n",
      "Iteration 4, loss = 0.77653339\n",
      "Iteration 5, loss = 0.77128427\n",
      "Iteration 6, loss = 0.76572132\n",
      "Iteration 7, loss = 0.75993280\n",
      "Iteration 8, loss = 0.75407951\n",
      "Iteration 9, loss = 0.74852353\n",
      "Iteration 10, loss = 0.74254054\n",
      "Iteration 11, loss = 0.73691780\n",
      "Iteration 12, loss = 0.73147906\n",
      "Iteration 13, loss = 0.72609850\n",
      "Iteration 14, loss = 0.72076817\n",
      "Iteration 15, loss = 0.71560539\n",
      "Iteration 16, loss = 0.71076776\n",
      "Iteration 17, loss = 0.70583140\n",
      "Iteration 18, loss = 0.70123901\n",
      "Iteration 19, loss = 0.69674073\n",
      "Iteration 20, loss = 0.69228461\n",
      "Iteration 21, loss = 0.68808209\n",
      "Iteration 22, loss = 0.68397665\n",
      "Iteration 23, loss = 0.67999384\n",
      "Iteration 24, loss = 0.67607168\n",
      "Iteration 25, loss = 0.67222624\n",
      "Iteration 26, loss = 0.66863754\n",
      "Iteration 27, loss = 0.66515794\n",
      "Iteration 28, loss = 0.66163474\n",
      "Iteration 29, loss = 0.65828358\n",
      "Iteration 30, loss = 0.65507519\n",
      "Iteration 31, loss = 0.65191146\n",
      "Iteration 32, loss = 0.64887564\n",
      "Iteration 33, loss = 0.64584497\n",
      "Iteration 34, loss = 0.64297965\n",
      "Iteration 35, loss = 0.64006783\n",
      "Iteration 36, loss = 0.63732396\n",
      "Iteration 37, loss = 0.63466252\n",
      "Iteration 38, loss = 0.63195405\n",
      "Iteration 39, loss = 0.62936110\n",
      "Iteration 40, loss = 0.62691158\n",
      "Iteration 41, loss = 0.62439786\n",
      "Iteration 42, loss = 0.62204452\n",
      "Iteration 43, loss = 0.61972172\n",
      "Iteration 44, loss = 0.61734614\n",
      "Iteration 45, loss = 0.61513753\n",
      "Iteration 46, loss = 0.61292038\n",
      "Iteration 47, loss = 0.61079013\n",
      "Iteration 48, loss = 0.60870197\n",
      "Iteration 49, loss = 0.60664826\n",
      "Iteration 50, loss = 0.60459166\n",
      "Iteration 51, loss = 0.60265074\n",
      "Iteration 52, loss = 0.60073284\n",
      "Iteration 53, loss = 0.59881497\n",
      "Iteration 54, loss = 0.59700208\n",
      "Iteration 55, loss = 0.59515960\n",
      "Iteration 56, loss = 0.59337055\n",
      "Iteration 57, loss = 0.59167290\n",
      "Iteration 58, loss = 0.58994740\n",
      "Iteration 59, loss = 0.58827620\n",
      "Iteration 60, loss = 0.58669279\n",
      "Iteration 61, loss = 0.58505119\n",
      "Iteration 62, loss = 0.58352722\n",
      "Iteration 63, loss = 0.58194883\n",
      "Iteration 64, loss = 0.58041066\n",
      "Iteration 65, loss = 0.57897488\n",
      "Iteration 66, loss = 0.57758393\n",
      "Iteration 67, loss = 0.57613910\n",
      "Iteration 68, loss = 0.57473289\n",
      "Iteration 69, loss = 0.57334496\n",
      "Iteration 70, loss = 0.57204712\n",
      "Iteration 71, loss = 0.57069208\n",
      "Iteration 72, loss = 0.56946099\n",
      "Iteration 73, loss = 0.56813635\n",
      "Iteration 74, loss = 0.56691234\n",
      "Iteration 75, loss = 0.56569799\n",
      "Iteration 76, loss = 0.56454618\n",
      "Iteration 77, loss = 0.56333206\n",
      "Iteration 78, loss = 0.56220499\n",
      "Iteration 79, loss = 0.56107125\n",
      "Iteration 80, loss = 0.55992368\n",
      "Iteration 81, loss = 0.55882866\n",
      "Iteration 82, loss = 0.55773450\n",
      "Iteration 83, loss = 0.55664900\n",
      "Iteration 84, loss = 0.55559938\n",
      "Iteration 85, loss = 0.55456459\n",
      "Iteration 86, loss = 0.55352412\n",
      "Iteration 87, loss = 0.55256390\n",
      "Iteration 88, loss = 0.55152585\n",
      "Iteration 89, loss = 0.55055677\n",
      "Iteration 90, loss = 0.54956447\n",
      "Iteration 91, loss = 0.54863591\n",
      "Iteration 92, loss = 0.54772587\n",
      "Iteration 93, loss = 0.54680060\n",
      "Iteration 94, loss = 0.54593018\n",
      "Iteration 95, loss = 0.54500960\n",
      "Iteration 96, loss = 0.54416519\n",
      "Iteration 97, loss = 0.54332337\n",
      "Iteration 98, loss = 0.54250884\n",
      "Iteration 99, loss = 0.54165273\n",
      "Iteration 100, loss = 0.54086273\n",
      "Iteration 101, loss = 0.54005656\n",
      "Iteration 102, loss = 0.53927424\n",
      "Iteration 103, loss = 0.53853405\n",
      "Iteration 104, loss = 0.53776214\n",
      "Iteration 105, loss = 0.53705060\n",
      "Iteration 106, loss = 0.53625304\n",
      "Iteration 107, loss = 0.53558300\n",
      "Iteration 108, loss = 0.53483005\n",
      "Iteration 109, loss = 0.53414789\n",
      "Iteration 110, loss = 0.53347143\n",
      "Iteration 111, loss = 0.53275984\n",
      "Iteration 112, loss = 0.53210796\n",
      "Iteration 113, loss = 0.53141894\n",
      "Iteration 114, loss = 0.53078843\n",
      "Iteration 115, loss = 0.53010319\n",
      "Iteration 116, loss = 0.52951642\n",
      "Iteration 117, loss = 0.52883340\n",
      "Iteration 118, loss = 0.52823026\n",
      "Iteration 119, loss = 0.52760284\n",
      "Iteration 120, loss = 0.52700603\n",
      "Iteration 121, loss = 0.52638666\n",
      "Iteration 122, loss = 0.52580336\n",
      "Iteration 123, loss = 0.52520210\n",
      "Iteration 124, loss = 0.52463188\n",
      "Iteration 125, loss = 0.52405379\n",
      "Iteration 126, loss = 0.52351069\n",
      "Iteration 127, loss = 0.52293755\n",
      "Iteration 128, loss = 0.52240705\n",
      "Iteration 129, loss = 0.52185892\n",
      "Iteration 130, loss = 0.52132807\n",
      "Iteration 131, loss = 0.52077873\n",
      "Iteration 132, loss = 0.52026716\n",
      "Iteration 133, loss = 0.51977157\n",
      "Iteration 134, loss = 0.51926181\n",
      "Iteration 135, loss = 0.51873496\n",
      "Iteration 136, loss = 0.51826962\n",
      "Iteration 137, loss = 0.51777776\n",
      "Iteration 138, loss = 0.51727943\n",
      "Iteration 139, loss = 0.51679750\n",
      "Iteration 140, loss = 0.51631022\n",
      "Iteration 141, loss = 0.51586967\n",
      "Iteration 142, loss = 0.51538922\n",
      "Iteration 143, loss = 0.51494403\n",
      "Iteration 144, loss = 0.51447016\n",
      "Iteration 145, loss = 0.51402975\n",
      "Iteration 146, loss = 0.51362091\n",
      "Iteration 147, loss = 0.51315641\n",
      "Iteration 148, loss = 0.51273539\n",
      "Iteration 149, loss = 0.51232264\n",
      "Iteration 150, loss = 0.51189726\n",
      "Iteration 151, loss = 0.51149333\n",
      "Iteration 152, loss = 0.51110911\n",
      "Iteration 153, loss = 0.51070065\n",
      "Iteration 154, loss = 0.51030327\n",
      "Iteration 155, loss = 0.50989321\n",
      "Iteration 156, loss = 0.50952975\n",
      "Iteration 157, loss = 0.50915864\n",
      "Iteration 158, loss = 0.50876523\n",
      "Iteration 159, loss = 0.50837626\n",
      "Iteration 160, loss = 0.50802159\n",
      "Iteration 161, loss = 0.50767217\n",
      "Iteration 162, loss = 0.50728483\n",
      "Iteration 163, loss = 0.50691485\n",
      "Iteration 164, loss = 0.50657658\n",
      "Iteration 165, loss = 0.50624574\n",
      "Iteration 166, loss = 0.50588792\n",
      "Iteration 167, loss = 0.50554223\n",
      "Iteration 168, loss = 0.50520407\n",
      "Iteration 169, loss = 0.50487309\n",
      "Iteration 170, loss = 0.50452352\n",
      "Iteration 171, loss = 0.50420913\n",
      "Iteration 172, loss = 0.50389257\n",
      "Iteration 173, loss = 0.50353963\n",
      "Iteration 174, loss = 0.50325881\n",
      "Iteration 175, loss = 0.50292594\n",
      "Iteration 176, loss = 0.50261264\n",
      "Iteration 177, loss = 0.50230989\n",
      "Iteration 178, loss = 0.50201340\n",
      "Iteration 179, loss = 0.50171663\n",
      "Iteration 180, loss = 0.50140734\n",
      "Iteration 181, loss = 0.50111921\n",
      "Iteration 182, loss = 0.50082565\n",
      "Iteration 183, loss = 0.50056541\n",
      "Iteration 184, loss = 0.50027407\n",
      "Iteration 185, loss = 0.50000267\n",
      "Iteration 186, loss = 0.49971487\n",
      "Iteration 187, loss = 0.49944653\n",
      "Iteration 188, loss = 0.49917470\n",
      "Iteration 189, loss = 0.49892370\n",
      "Iteration 190, loss = 0.49864728\n",
      "Iteration 191, loss = 0.49838789\n",
      "Iteration 192, loss = 0.49812204\n",
      "Iteration 193, loss = 0.49786713\n",
      "Iteration 194, loss = 0.49762038\n",
      "Iteration 195, loss = 0.49733802\n",
      "Iteration 196, loss = 0.49710688\n",
      "Iteration 197, loss = 0.49686569\n",
      "Iteration 198, loss = 0.49660314\n",
      "Iteration 199, loss = 0.49635186\n",
      "Iteration 200, loss = 0.49611118\n"
     ]
    },
    {
     "name": "stderr",
     "output_type": "stream",
     "text": [
      "C:\\Users\\adity\\anaconda3\\envs\\ml\\lib\\site-packages\\sklearn\\neural_network\\_multilayer_perceptron.py:692: ConvergenceWarning: Stochastic Optimizer: Maximum iterations (200) reached and the optimization hasn't converged yet.\n",
      "  warnings.warn(\n"
     ]
    },
    {
     "data": {
      "text/plain": [
       "MLPClassifier(hidden_layer_sizes=55, solver='sgd', verbose=True)"
      ]
     },
     "execution_count": 9,
     "metadata": {},
     "output_type": "execute_result"
    }
   ],
   "source": [
    "mlp.fit(X_train, y_train)"
   ]
  },
  {
   "cell_type": "code",
   "execution_count": 10,
   "metadata": {},
   "outputs": [
    {
     "name": "stdout",
     "output_type": "stream",
     "text": [
      "77.46741154562383\n"
     ]
    }
   ],
   "source": [
    "print(mlp.score(X_train,y_train)*100)"
   ]
  },
  {
   "cell_type": "code",
   "execution_count": 11,
   "metadata": {},
   "outputs": [
    {
     "name": "stdout",
     "output_type": "stream",
     "text": [
      "80.08658008658008\n"
     ]
    }
   ],
   "source": [
    "print(mlp.score(X_test, y_test)*100) # Overfitting"
   ]
  },
  {
   "cell_type": "code",
   "execution_count": 12,
   "metadata": {},
   "outputs": [
    {
     "data": {
      "text/plain": [
       "array([1, 0, 0, 1, 0, 0, 1, 1, 0, 1, 1, 1, 0, 0, 0, 0, 1, 0, 0, 0, 1, 0,\n",
       "       0, 0, 0, 0, 0, 1, 0, 0, 0, 0, 0, 0, 0, 1, 1, 0, 0, 1, 0, 0, 0, 1,\n",
       "       1, 0, 0, 0, 0, 0, 0, 0, 1, 0, 0, 0, 0, 1, 0, 0, 1, 1, 0, 1, 1, 1,\n",
       "       1, 0, 0, 0, 0, 0, 0, 1, 1, 0, 0, 1, 0, 0, 0, 0, 0, 0, 0, 0, 0, 0,\n",
       "       1, 0, 0, 0, 0, 0, 1, 0, 0, 1, 1, 0, 0, 0, 0, 0, 0, 0, 0, 0, 0, 1,\n",
       "       0, 0, 0, 0, 1, 1, 0, 0, 0, 1, 0, 0, 0, 0, 0, 0, 0, 0, 0, 0, 0, 0,\n",
       "       0, 1, 0, 0, 0, 0, 1, 0, 0, 1, 0, 0, 0, 0, 0, 0, 0, 0, 0, 1, 0, 0,\n",
       "       1, 0, 1, 0, 0, 1, 1, 1, 0, 0, 1, 0, 0, 0, 0, 0, 0, 0, 0, 0, 0, 0,\n",
       "       0, 0, 0, 0, 0, 1, 0, 1, 1, 0, 0, 0, 0, 0, 0, 0, 0, 0, 0, 1, 1, 0,\n",
       "       0, 0, 0, 0, 0, 0, 0, 0, 0, 0, 0, 0, 0, 0, 0, 0, 0, 0, 1, 0, 0, 0,\n",
       "       0, 0, 0, 1, 0, 1, 0, 0, 0, 0, 0], dtype=int64)"
      ]
     },
     "execution_count": 12,
     "metadata": {},
     "output_type": "execute_result"
    }
   ],
   "source": [
    "y_pred = mlp.predict(X_test)\n",
    "y_pred"
   ]
  },
  {
   "cell_type": "code",
   "execution_count": 13,
   "metadata": {},
   "outputs": [
    {
     "data": {
      "text/plain": [
       "array([1, 0, 0, 1, 0, 0, 1, 1, 0, 0, 1, 1, 0, 0, 0, 0, 1, 0, 0, 0, 1, 1,\n",
       "       0, 0, 0, 0, 0, 0, 0, 0, 0, 0, 0, 0, 0, 1, 1, 0, 0, 0, 0, 0, 0, 1,\n",
       "       1, 0, 0, 1, 1, 1, 0, 0, 1, 0, 0, 0, 0, 1, 1, 1, 1, 0, 0, 1, 1, 1,\n",
       "       1, 0, 0, 0, 0, 0, 0, 0, 1, 0, 0, 0, 0, 0, 0, 0, 0, 0, 0, 0, 1, 0,\n",
       "       1, 0, 0, 0, 0, 0, 0, 0, 1, 0, 1, 1, 0, 0, 0, 0, 0, 1, 0, 0, 0, 1,\n",
       "       0, 1, 1, 1, 1, 1, 0, 0, 0, 1, 0, 0, 0, 0, 0, 0, 0, 1, 0, 0, 0, 0,\n",
       "       0, 1, 0, 1, 0, 1, 1, 0, 0, 0, 0, 0, 1, 0, 0, 0, 0, 1, 0, 1, 0, 0,\n",
       "       1, 0, 0, 0, 1, 1, 1, 1, 0, 0, 0, 1, 0, 0, 0, 0, 0, 0, 1, 1, 0, 0,\n",
       "       0, 0, 0, 0, 1, 1, 0, 1, 1, 0, 1, 1, 1, 0, 0, 0, 0, 0, 0, 1, 1, 0,\n",
       "       0, 0, 0, 0, 0, 0, 1, 0, 0, 0, 1, 0, 1, 0, 0, 0, 0, 0, 1, 1, 0, 0,\n",
       "       1, 0, 1, 1, 0, 0, 1, 1, 0, 0, 0], dtype=int64)"
      ]
     },
     "execution_count": 13,
     "metadata": {},
     "output_type": "execute_result"
    }
   ],
   "source": [
    "y_test.ravel()"
   ]
  },
  {
   "cell_type": "code",
   "execution_count": 14,
   "metadata": {},
   "outputs": [
    {
     "name": "stdout",
     "output_type": "stream",
     "text": [
      "[[145  12]\n",
      " [ 34  40]]\n"
     ]
    }
   ],
   "source": [
    "cm = confusion_matrix(y_test, y_pred)\n",
    "print(cm)"
   ]
  },
  {
   "cell_type": "markdown",
   "metadata": {},
   "source": [
    "### Confusion Matrix\n",
    "| Not Diabetic  -  140 | Not Diabetic but Shows you have Diabetes  -  17\n",
    "| ----------- | ----------- |\n",
    "| Diabetic but shows not Diabetic  -  36 | Diabetic  -  38 |"
   ]
  },
  {
   "cell_type": "code",
   "execution_count": 15,
   "metadata": {},
   "outputs": [
    {
     "name": "stdout",
     "output_type": "stream",
     "text": [
      "              precision    recall  f1-score   support\n",
      "\n",
      "           0       0.81      0.92      0.86       157\n",
      "           1       0.77      0.54      0.63        74\n",
      "\n",
      "    accuracy                           0.80       231\n",
      "   macro avg       0.79      0.73      0.75       231\n",
      "weighted avg       0.80      0.80      0.79       231\n",
      "\n"
     ]
    }
   ],
   "source": [
    "cr = classification_report(y_test, y_pred)\n",
    "print(cr)"
   ]
  },
  {
   "cell_type": "code",
   "execution_count": 16,
   "metadata": {},
   "outputs": [
    {
     "data": {
      "text/plain": [
       "array([[-0.84488505,  2.44447821,  0.35643175, ...,  1.38436175,\n",
       "         2.784923  , -0.95646168],\n",
       "       [-0.54791859, -0.43485916,  0.25303625, ...,  0.20401277,\n",
       "        -0.20499449, -0.87137393],\n",
       "       [ 0.04601433, -1.40507067, -0.36733675, ...,  0.25478047,\n",
       "        -0.24425603, -0.70119842],\n",
       "       ...,\n",
       "       [-0.84488505, -0.81042491, -0.47073225, ..., -1.02710391,\n",
       "        -0.63989158, -0.95646168],\n",
       "       [-0.84488505, -0.46615631,  0.35643175, ...,  0.69899783,\n",
       "        -0.83015905, -0.61611067],\n",
       "       [ 1.82781311,  0.03459802,  0.45982725, ..., -0.5575027 ,\n",
       "         0.12117833,  1.00055664]])"
      ]
     },
     "execution_count": 16,
     "metadata": {},
     "output_type": "execute_result"
    }
   ],
   "source": [
    "X_test"
   ]
  },
  {
   "cell_type": "code",
   "execution_count": 17,
   "metadata": {},
   "outputs": [
    {
     "data": {
      "text/html": [
       "<div>\n",
       "<style scoped>\n",
       "    .dataframe tbody tr th:only-of-type {\n",
       "        vertical-align: middle;\n",
       "    }\n",
       "\n",
       "    .dataframe tbody tr th {\n",
       "        vertical-align: top;\n",
       "    }\n",
       "\n",
       "    .dataframe thead th {\n",
       "        text-align: right;\n",
       "    }\n",
       "</style>\n",
       "<table border=\"1\" class=\"dataframe\">\n",
       "  <thead>\n",
       "    <tr style=\"text-align: right;\">\n",
       "      <th></th>\n",
       "      <th>Pregnancies</th>\n",
       "      <th>Glucose</th>\n",
       "      <th>BloodPressure</th>\n",
       "      <th>SkinThickness</th>\n",
       "      <th>Insulin</th>\n",
       "      <th>BMI</th>\n",
       "      <th>DiabetesPedigreeFunction</th>\n",
       "      <th>Age</th>\n",
       "      <th>Outcome</th>\n",
       "    </tr>\n",
       "  </thead>\n",
       "  <tbody>\n",
       "    <tr>\n",
       "      <th>763</th>\n",
       "      <td>10</td>\n",
       "      <td>101</td>\n",
       "      <td>76</td>\n",
       "      <td>48</td>\n",
       "      <td>180</td>\n",
       "      <td>32.9</td>\n",
       "      <td>0.171</td>\n",
       "      <td>63</td>\n",
       "      <td>0</td>\n",
       "    </tr>\n",
       "    <tr>\n",
       "      <th>764</th>\n",
       "      <td>2</td>\n",
       "      <td>122</td>\n",
       "      <td>70</td>\n",
       "      <td>27</td>\n",
       "      <td>0</td>\n",
       "      <td>36.8</td>\n",
       "      <td>0.340</td>\n",
       "      <td>27</td>\n",
       "      <td>0</td>\n",
       "    </tr>\n",
       "    <tr>\n",
       "      <th>765</th>\n",
       "      <td>5</td>\n",
       "      <td>121</td>\n",
       "      <td>72</td>\n",
       "      <td>23</td>\n",
       "      <td>112</td>\n",
       "      <td>26.2</td>\n",
       "      <td>0.245</td>\n",
       "      <td>30</td>\n",
       "      <td>0</td>\n",
       "    </tr>\n",
       "    <tr>\n",
       "      <th>766</th>\n",
       "      <td>1</td>\n",
       "      <td>126</td>\n",
       "      <td>60</td>\n",
       "      <td>0</td>\n",
       "      <td>0</td>\n",
       "      <td>30.1</td>\n",
       "      <td>0.349</td>\n",
       "      <td>47</td>\n",
       "      <td>1</td>\n",
       "    </tr>\n",
       "    <tr>\n",
       "      <th>767</th>\n",
       "      <td>1</td>\n",
       "      <td>93</td>\n",
       "      <td>70</td>\n",
       "      <td>31</td>\n",
       "      <td>0</td>\n",
       "      <td>30.4</td>\n",
       "      <td>0.315</td>\n",
       "      <td>23</td>\n",
       "      <td>0</td>\n",
       "    </tr>\n",
       "  </tbody>\n",
       "</table>\n",
       "</div>"
      ],
      "text/plain": [
       "     Pregnancies  Glucose  BloodPressure  SkinThickness  Insulin   BMI  \\\n",
       "763           10      101             76             48      180  32.9   \n",
       "764            2      122             70             27        0  36.8   \n",
       "765            5      121             72             23      112  26.2   \n",
       "766            1      126             60              0        0  30.1   \n",
       "767            1       93             70             31        0  30.4   \n",
       "\n",
       "     DiabetesPedigreeFunction  Age  Outcome  \n",
       "763                     0.171   63        0  \n",
       "764                     0.340   27        0  \n",
       "765                     0.245   30        0  \n",
       "766                     0.349   47        1  \n",
       "767                     0.315   23        0  "
      ]
     },
     "execution_count": 17,
     "metadata": {},
     "output_type": "execute_result"
    }
   ],
   "source": [
    "df.tail()"
   ]
  },
  {
   "cell_type": "code",
   "execution_count": 18,
   "metadata": {},
   "outputs": [
    {
     "data": {
      "text/plain": [
       "(8,)"
      ]
     },
     "execution_count": 18,
     "metadata": {},
     "output_type": "execute_result"
    }
   ],
   "source": [
    "sample = np.array([5,121,72,23,\t112,26.2,0.245,30])\n",
    "sample.shape"
   ]
  },
  {
   "cell_type": "code",
   "execution_count": 19,
   "metadata": {},
   "outputs": [
    {
     "name": "stdout",
     "output_type": "stream",
     "text": [
      "X Test Shape: (231, 8)\n"
     ]
    }
   ],
   "source": [
    "print(f'X Test Shape: {X_test.shape}')"
   ]
  },
  {
   "cell_type": "code",
   "execution_count": 20,
   "metadata": {},
   "outputs": [
    {
     "data": {
      "text/plain": [
       "(1, 8)"
      ]
     },
     "execution_count": 20,
     "metadata": {},
     "output_type": "execute_result"
    }
   ],
   "source": [
    "sample = np.expand_dims(sample, 0)\n",
    "sample.shape"
   ]
  },
  {
   "cell_type": "code",
   "execution_count": 21,
   "metadata": {},
   "outputs": [
    {
     "name": "stdout",
     "output_type": "stream",
     "text": [
      "[1]\n"
     ]
    }
   ],
   "source": [
    "print(mlp.predict(sample)) # wrong prediction"
   ]
  },
  {
   "cell_type": "code",
   "execution_count": 22,
   "metadata": {},
   "outputs": [
    {
     "name": "stdout",
     "output_type": "stream",
     "text": [
      "[1]\n"
     ]
    }
   ],
   "source": [
    "sample2 = np.array([5,126,60,0,0,30.1,0.349,47])\n",
    "sample2 = np.expand_dims(sample2, 0)\n",
    "print(mlp.predict(sample2))"
   ]
  }
 ],
 "metadata": {
  "kernelspec": {
   "display_name": "Python 3.9.7 ('ml')",
   "language": "python",
   "name": "python3"
  },
  "language_info": {
   "codemirror_mode": {
    "name": "ipython",
    "version": 3
   },
   "file_extension": ".py",
   "mimetype": "text/x-python",
   "name": "python",
   "nbconvert_exporter": "python",
   "pygments_lexer": "ipython3",
   "version": "3.9.7"
  },
  "orig_nbformat": 4,
  "vscode": {
   "interpreter": {
    "hash": "60e71678d2ef53e7f2024a9b52b4817102a249452807c45206facefdb61d7e11"
   }
  }
 },
 "nbformat": 4,
 "nbformat_minor": 2
}
