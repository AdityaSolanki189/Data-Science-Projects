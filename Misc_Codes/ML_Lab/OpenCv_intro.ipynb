{
 "cells": [
  {
   "cell_type": "code",
   "execution_count": 1,
   "metadata": {},
   "outputs": [],
   "source": [
    "import numpy as np\n",
    "import pandas as pd\n",
    "import cv2 as cv\n",
    "\n",
    "import matplotlib.pyplot as plt "
   ]
  },
  {
   "cell_type": "code",
   "execution_count": 2,
   "metadata": {},
   "outputs": [
    {
     "data": {
      "text/plain": [
       "-1"
      ]
     },
     "execution_count": 2,
     "metadata": {},
     "output_type": "execute_result"
    }
   ],
   "source": [
    "image1 = cv.imread('../datasets/imageb1.jpg')\n",
    "\n",
    "cv.imshow(\"image1\", image1)\n",
    "cv.waitKey(0)"
   ]
  },
  {
   "cell_type": "code",
   "execution_count": 3,
   "metadata": {},
   "outputs": [
    {
     "data": {
      "text/plain": [
       "(194, 259, 3)"
      ]
     },
     "execution_count": 3,
     "metadata": {},
     "output_type": "execute_result"
    }
   ],
   "source": [
    "image1.shape"
   ]
  },
  {
   "cell_type": "code",
   "execution_count": 4,
   "metadata": {},
   "outputs": [
    {
     "data": {
      "text/plain": [
       "-1"
      ]
     },
     "execution_count": 4,
     "metadata": {},
     "output_type": "execute_result"
    }
   ],
   "source": [
    "corner = image1[0:100, 0:100]\n",
    "cv.imshow(\"Corner\", corner)\n",
    "cv.waitKey(0)"
   ]
  },
  {
   "cell_type": "code",
   "execution_count": 5,
   "metadata": {},
   "outputs": [
    {
     "data": {
      "text/plain": [
       "-1"
      ]
     },
     "execution_count": 5,
     "metadata": {},
     "output_type": "execute_result"
    }
   ],
   "source": [
    "gray = cv.cvtColor(image1, cv.COLOR_BGRA2GRAY)\n",
    "\n",
    "cv.imshow(\"Grayscale\", gray)\n",
    "cv.waitKey(0)"
   ]
  },
  {
   "cell_type": "code",
   "execution_count": 6,
   "metadata": {},
   "outputs": [
    {
     "data": {
      "text/plain": [
       "-1"
      ]
     },
     "execution_count": 6,
     "metadata": {},
     "output_type": "execute_result"
    }
   ],
   "source": [
    "canvas = np.zeros((300, 300, 3), dtype = \"uint8\")\n",
    "\n",
    "green = (0, 255, 0)\n",
    "cv.line(canvas, (0,0), (300, 300), green, 4)\n",
    "cv.imshow(\"Canvas\", canvas)\n",
    "cv.waitKey(0)"
   ]
  },
  {
   "cell_type": "code",
   "execution_count": 7,
   "metadata": {},
   "outputs": [
    {
     "data": {
      "text/plain": [
       "-1"
      ]
     },
     "execution_count": 7,
     "metadata": {},
     "output_type": "execute_result"
    }
   ],
   "source": [
    "red = (0, 0, 255)\n",
    "cv.line(canvas, (300, 0), (0, 300), red, 3)\n",
    "cv.imshow(\"Canvas\", canvas)\n",
    "cv.waitKey(0)"
   ]
  },
  {
   "cell_type": "code",
   "execution_count": 8,
   "metadata": {},
   "outputs": [
    {
     "name": "stdout",
     "output_type": "stream",
     "text": [
      "194\n",
      "259\n"
     ]
    },
    {
     "data": {
      "text/plain": [
       "-1"
      ]
     },
     "execution_count": 8,
     "metadata": {},
     "output_type": "execute_result"
    }
   ],
   "source": [
    "M = np.float32([[1, 0, 25], [0, 1, 50]])\n",
    "print(image1.shape[0])\n",
    "print(image1.shape[1])\n",
    "\n",
    "shifted = cv.warpAffine(image1, M, (image1.shape[1], image1.shape[0]))\n",
    "cv.imshow(\"Shifted Down and Right\", shifted)\n",
    "cv.waitKey(0)"
   ]
  },
  {
   "cell_type": "code",
   "execution_count": 9,
   "metadata": {},
   "outputs": [
    {
     "data": {
      "text/plain": [
       "-1"
      ]
     },
     "execution_count": 9,
     "metadata": {},
     "output_type": "execute_result"
    }
   ],
   "source": [
    "# Rotation\n",
    "cv.imshow(\"Original\", image1)\n",
    "(h, w) = image1.shape[:2]\n",
    "\n",
    "center = (w // 2, h // 2)\n",
    "M = cv.getRotationMatrix2D(center, 45, 1.0)  #(point of rotation, angle, scale)\n",
    "rotated = cv.warpAffine(image1, M, (w, h))\n",
    "cv.imshow(\"rotated\", rotated)\n",
    "cv.waitKey(0)"
   ]
  },
  {
   "cell_type": "code",
   "execution_count": 10,
   "metadata": {},
   "outputs": [
    {
     "name": "stdout",
     "output_type": "stream",
     "text": [
      "(194, 259, 3)\n",
      "(112, 150, 3)\n"
     ]
    },
    {
     "data": {
      "text/plain": [
       "-1"
      ]
     },
     "execution_count": 10,
     "metadata": {},
     "output_type": "execute_result"
    }
   ],
   "source": [
    "#Resizing\n",
    "cv.imshow(\"Original\",image1)\n",
    "print(image1.shape)\n",
    "r = 150.0 / image1.shape[1]\n",
    "dim = (150, int(image1.shape[0] * r))\n",
    "resized = cv.resize(image1, dim, interpolation = cv.INTER_AREA)\n",
    "print(resized.shape)\n",
    "cv.imshow(\"resized\", resized)\n",
    "cv.waitKey(0)"
   ]
  },
  {
   "cell_type": "code",
   "execution_count": 11,
   "metadata": {},
   "outputs": [
    {
     "data": {
      "text/plain": [
       "-1"
      ]
     },
     "execution_count": 11,
     "metadata": {},
     "output_type": "execute_result"
    }
   ],
   "source": [
    "#Flipping the Image\n",
    "cv.imshow(\"Original\",image1)\n",
    "flipped = cv.flip(image1, 0)  #0 for flipping horizonatlly\n",
    "cv.imshow(\"flipped\", flipped)\n",
    "cv.waitKey(0)"
   ]
  }
 ],
 "metadata": {
  "interpreter": {
   "hash": "60e71678d2ef53e7f2024a9b52b4817102a249452807c45206facefdb61d7e11"
  },
  "kernelspec": {
   "display_name": "Python 3.9.7 ('ml')",
   "language": "python",
   "name": "python3"
  },
  "language_info": {
   "codemirror_mode": {
    "name": "ipython",
    "version": 3
   },
   "file_extension": ".py",
   "mimetype": "text/x-python",
   "name": "python",
   "nbconvert_exporter": "python",
   "pygments_lexer": "ipython3",
   "version": "3.9.7"
  },
  "orig_nbformat": 4
 },
 "nbformat": 4,
 "nbformat_minor": 2
}
