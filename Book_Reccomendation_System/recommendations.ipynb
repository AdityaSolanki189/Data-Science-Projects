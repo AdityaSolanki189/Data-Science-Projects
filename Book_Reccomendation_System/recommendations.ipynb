{
 "cells": [
  {
   "cell_type": "markdown",
   "metadata": {},
   "source": [
    "> Multilayer Perceptron (MLP)\n",
    "> Multilayer Perceptrons (MLPs) usually mean fully connected networks, that is, each neuron in one layer is connected to all neurons in the next layer. The \"fully-connectedness\" of these networks makes them prone to overfitting the data.\n",
    "> These MLP models are also referred to as either deep feed forward networks or feed forward neural networks. MLPs are common in simple logistic and linear regression problems."
   ]
  }
 ],
 "metadata": {
  "language_info": {
   "name": "python"
  },
  "orig_nbformat": 4
 },
 "nbformat": 4,
 "nbformat_minor": 2
}
